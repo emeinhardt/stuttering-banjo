{
 "cells": [
  {
   "cell_type": "markdown",
   "metadata": {},
   "source": [
    "**Eric Meinhardt / emeinhardt@ucsd.edu / 12.13.2018**"
   ]
  },
  {
   "cell_type": "markdown",
   "metadata": {
    "toc": "true"
   },
   "source": [
    "# Table of Contents\n",
    " <p><div class=\"lev1 toc-item\"><a href=\"#Introduction-for-the-linguist\" data-toc-modified-id=\"Introduction-for-the-linguist-1\"><span class=\"toc-item-num\">1&nbsp;&nbsp;</span>Introduction for the linguist</a></div><div class=\"lev2 toc-item\"><a href=\"#The-problem\" data-toc-modified-id=\"The-problem-11\"><span class=\"toc-item-num\">1.1&nbsp;&nbsp;</span>The problem</a></div><div class=\"lev2 toc-item\"><a href=\"#Overview-of-proposed-solution\" data-toc-modified-id=\"Overview-of-proposed-solution-12\"><span class=\"toc-item-num\">1.2&nbsp;&nbsp;</span>Overview of proposed solution</a></div><div class=\"lev3 toc-item\"><a href=\"#What-is/why-Racket?\" data-toc-modified-id=\"What-is/why-Racket?-121\"><span class=\"toc-item-num\">1.2.1&nbsp;&nbsp;</span>What is/why Racket?</a></div><div class=\"lev3 toc-item\"><a href=\"#What-is/why-Rosette?\" data-toc-modified-id=\"What-is/why-Rosette?-122\"><span class=\"toc-item-num\">1.2.2&nbsp;&nbsp;</span>What is/why Rosette?</a></div><div class=\"lev3 toc-item\"><a href=\"#Roadmap:-What-does-this-have-to-do-with-OT-and-HG?\" data-toc-modified-id=\"Roadmap:-What-does-this-have-to-do-with-OT-and-HG?-123\"><span class=\"toc-item-num\">1.2.3&nbsp;&nbsp;</span>Roadmap: What does this have to do with OT and HG?</a></div><div class=\"lev2 toc-item\"><a href=\"#What-is-in-this-notebook?\" data-toc-modified-id=\"What-is-in-this-notebook?-13\"><span class=\"toc-item-num\">1.3&nbsp;&nbsp;</span>What is in this notebook?</a></div><div class=\"lev2 toc-item\"><a href=\"#Result-Summary-and-Next-Steps\" data-toc-modified-id=\"Result-Summary-and-Next-Steps-14\"><span class=\"toc-item-num\">1.4&nbsp;&nbsp;</span>Result Summary and Next Steps</a></div><div class=\"lev1 toc-item\"><a href=\"#Technical-overview-of-the-rest-of-the-notebook\" data-toc-modified-id=\"Technical-overview-of-the-rest-of-the-notebook-2\"><span class=\"toc-item-num\">2&nbsp;&nbsp;</span>Technical overview of the rest of the notebook</a></div><div class=\"lev2 toc-item\"><a href=\"#Technical-requirements-for-reproduction\" data-toc-modified-id=\"Technical-requirements-for-reproduction-21\"><span class=\"toc-item-num\">2.1&nbsp;&nbsp;</span>Technical requirements for reproduction</a></div><div class=\"lev2 toc-item\"><a href=\"#Outline\" data-toc-modified-id=\"Outline-22\"><span class=\"toc-item-num\">2.2&nbsp;&nbsp;</span>Outline</a></div><div class=\"lev1 toc-item\"><a href=\"#Data-structures-boilerplate\" data-toc-modified-id=\"Data-structures-boilerplate-3\"><span class=\"toc-item-num\">3&nbsp;&nbsp;</span>Data structures boilerplate</a></div><div class=\"lev1 toc-item\"><a href=\"#Minimal-phonetic-inventory/feature-system-implementation\" data-toc-modified-id=\"Minimal-phonetic-inventory/feature-system-implementation-4\"><span class=\"toc-item-num\">4&nbsp;&nbsp;</span>Minimal phonetic inventory/feature system implementation</a></div><div class=\"lev1 toc-item\"><a href=\"#'Lexicon'-setup\" data-toc-modified-id=\"'Lexicon'-setup-5\"><span class=\"toc-item-num\">5&nbsp;&nbsp;</span>'Lexicon' setup</a></div><div class=\"lev1 toc-item\"><a href=\"#Setup-for-Doyle-et-al.-(2014)-Figure-1-and-Figure-2\" data-toc-modified-id=\"Setup-for-Doyle-et-al.-(2014)-Figure-1-and-Figure-2-6\"><span class=\"toc-item-num\">6&nbsp;&nbsp;</span>Setup for Doyle et al. (2014) Figure 1 and Figure 2</a></div><div class=\"lev1 toc-item\"><a href=\"#Constraints\" data-toc-modified-id=\"Constraints-7\"><span class=\"toc-item-num\">7&nbsp;&nbsp;</span>Constraints</a></div><div class=\"lev2 toc-item\"><a href=\"#Markedness\" data-toc-modified-id=\"Markedness-71\"><span class=\"toc-item-num\">7.1&nbsp;&nbsp;</span>Markedness</a></div><div class=\"lev2 toc-item\"><a href=\"#Faithfulness\" data-toc-modified-id=\"Faithfulness-72\"><span class=\"toc-item-num\">7.2&nbsp;&nbsp;</span>Faithfulness</a></div><div class=\"lev2 toc-item\"><a href=\"#Constraint-names-and-weights\" data-toc-modified-id=\"Constraint-names-and-weights-73\"><span class=\"toc-item-num\">7.3&nbsp;&nbsp;</span>Constraint names and weights</a></div><div class=\"lev2 toc-item\"><a href=\"#Violation-profiles,-harmonies,-and-(in-the-case-of-MaxEnt-OT)-mapping-probabilities\" data-toc-modified-id=\"Violation-profiles,-harmonies,-and-(in-the-case-of-MaxEnt-OT)-mapping-probabilities-74\"><span class=\"toc-item-num\">7.4&nbsp;&nbsp;</span>Violation profiles, harmonies, and (in the case of MaxEnt OT) mapping probabilities</a></div><div class=\"lev3 toc-item\"><a href=\"#Violation-profiles\" data-toc-modified-id=\"Violation-profiles-741\"><span class=\"toc-item-num\">7.4.1&nbsp;&nbsp;</span>Violation profiles</a></div><div class=\"lev3 toc-item\"><a href=\"#Ranked-constraints\" data-toc-modified-id=\"Ranked-constraints-742\"><span class=\"toc-item-num\">7.4.2&nbsp;&nbsp;</span>Ranked constraints</a></div><div class=\"lev4 toc-item\"><a href=\"#Composition\" data-toc-modified-id=\"Composition-7421\"><span class=\"toc-item-num\">7.4.2.1&nbsp;&nbsp;</span>Composition</a></div><div class=\"lev4 toc-item\"><a href=\"#Composition-of-filters\" data-toc-modified-id=\"Composition-of-filters-7422\"><span class=\"toc-item-num\">7.4.2.2&nbsp;&nbsp;</span>Composition of filters</a></div><div class=\"lev4 toc-item\"><a href=\"#Lenient-composition-of-filters\" data-toc-modified-id=\"Lenient-composition-of-filters-7423\"><span class=\"toc-item-num\">7.4.2.3&nbsp;&nbsp;</span>Lenient composition of filters</a></div><div class=\"lev4 toc-item\"><a href=\"#Categorical-constraints-as-leniently-composed-filters-of-a-set-of-ur-rightarrow-oc-mappings\" data-toc-modified-id=\"Categorical-constraints-as-leniently-composed-filters-of-a-set-of-ur-rightarrow-oc-mappings-7424\"><span class=\"toc-item-num\">7.4.2.4&nbsp;&nbsp;</span>Categorical constraints as leniently-composed filters of a set of <code>ur</code> $\\rightarrow$ <code>oc</code> mappings</a></div><div class=\"lev3 toc-item\"><a href=\"#Harmony-scores\" data-toc-modified-id=\"Harmony-scores-743\"><span class=\"toc-item-num\">7.4.3&nbsp;&nbsp;</span>Harmony scores</a></div><div class=\"lev3 toc-item\"><a href=\"#Mapping-probabilities\" data-toc-modified-id=\"Mapping-probabilities-744\"><span class=\"toc-item-num\">7.4.4&nbsp;&nbsp;</span>Mapping probabilities</a></div><div class=\"lev1 toc-item\"><a href=\"#Reproducing-Doyle-et-al.-(2014)-Figure-1\" data-toc-modified-id=\"Reproducing-Doyle-et-al.-(2014)-Figure-1-8\"><span class=\"toc-item-num\">8&nbsp;&nbsp;</span>Reproducing Doyle et al. (2014) Figure 1</a></div><div class=\"lev2 toc-item\"><a href=\"#Upper-left\" data-toc-modified-id=\"Upper-left-81\"><span class=\"toc-item-num\">8.1&nbsp;&nbsp;</span>Upper left</a></div><div class=\"lev2 toc-item\"><a href=\"#Upper-right\" data-toc-modified-id=\"Upper-right-82\"><span class=\"toc-item-num\">8.2&nbsp;&nbsp;</span>Upper right</a></div><div class=\"lev2 toc-item\"><a href=\"#Lower-left\" data-toc-modified-id=\"Lower-left-83\"><span class=\"toc-item-num\">8.3&nbsp;&nbsp;</span>Lower left</a></div><div class=\"lev2 toc-item\"><a href=\"#Lower-right\" data-toc-modified-id=\"Lower-right-84\"><span class=\"toc-item-num\">8.4&nbsp;&nbsp;</span>Lower right</a></div><div class=\"lev1 toc-item\"><a href=\"#Reproducing-Doyle-et-al.-(2014)-Figure-2\" data-toc-modified-id=\"Reproducing-Doyle-et-al.-(2014)-Figure-2-9\"><span class=\"toc-item-num\">9&nbsp;&nbsp;</span>Reproducing Doyle et al. (2014) Figure 2</a></div><div class=\"lev2 toc-item\"><a href=\"#hi-hi\" data-toc-modified-id=\"hi-hi-91\"><span class=\"toc-item-num\">9.1&nbsp;&nbsp;</span>hi hi</a></div><div class=\"lev2 toc-item\"><a href=\"#hi-mid\" data-toc-modified-id=\"hi-mid-92\"><span class=\"toc-item-num\">9.2&nbsp;&nbsp;</span>hi mid</a></div><div class=\"lev2 toc-item\"><a href=\"#hi-lo\" data-toc-modified-id=\"hi-lo-93\"><span class=\"toc-item-num\">9.3&nbsp;&nbsp;</span>hi lo</a></div><div class=\"lev2 toc-item\"><a href=\"#mid-hi\" data-toc-modified-id=\"mid-hi-94\"><span class=\"toc-item-num\">9.4&nbsp;&nbsp;</span>mid hi</a></div><div class=\"lev2 toc-item\"><a href=\"#mid-mid\" data-toc-modified-id=\"mid-mid-95\"><span class=\"toc-item-num\">9.5&nbsp;&nbsp;</span>mid mid</a></div><div class=\"lev2 toc-item\"><a href=\"#mid-lo\" data-toc-modified-id=\"mid-lo-96\"><span class=\"toc-item-num\">9.6&nbsp;&nbsp;</span>mid lo</a></div><div class=\"lev2 toc-item\"><a href=\"#lo-hi\" data-toc-modified-id=\"lo-hi-97\"><span class=\"toc-item-num\">9.7&nbsp;&nbsp;</span>lo hi</a></div><div class=\"lev2 toc-item\"><a href=\"#lo-mid\" data-toc-modified-id=\"lo-mid-98\"><span class=\"toc-item-num\">9.8&nbsp;&nbsp;</span>lo mid</a></div><div class=\"lev2 toc-item\"><a href=\"#lo-lo\" data-toc-modified-id=\"lo-lo-99\"><span class=\"toc-item-num\">9.9&nbsp;&nbsp;</span>lo lo</a></div><div class=\"lev1 toc-item\"><a href=\"#Defining-correct-mappings-for-learning\" data-toc-modified-id=\"Defining-correct-mappings-for-learning-10\"><span class=\"toc-item-num\">10&nbsp;&nbsp;</span>Defining correct mappings for learning</a></div><div class=\"lev1 toc-item\"><a href=\"#Using-Rosette-to-find-weights-or-rankings-that-are-sufficient-for-the-data\" data-toc-modified-id=\"Using-Rosette-to-find-weights-or-rankings-that-are-sufficient-for-the-data-11\"><span class=\"toc-item-num\">11&nbsp;&nbsp;</span>Using Rosette to find weights or rankings that are sufficient for the data</a></div><div class=\"lev2 toc-item\"><a href=\"#HG-weights\" data-toc-modified-id=\"HG-weights-111\"><span class=\"toc-item-num\">11.1&nbsp;&nbsp;</span>HG weights</a></div><div class=\"lev2 toc-item\"><a href=\"#Classic-OT-Rankings\" data-toc-modified-id=\"Classic-OT-Rankings-112\"><span class=\"toc-item-num\">11.2&nbsp;&nbsp;</span>Classic OT Rankings</a></div><div class=\"lev2 toc-item\"><a href=\"#Using-Rosette's-verification-and-debugging-functionality-for-understanding-why-things-don't-work\" data-toc-modified-id=\"Using-Rosette's-verification-and-debugging-functionality-for-understanding-why-things-don't-work-113\"><span class=\"toc-item-num\">11.3&nbsp;&nbsp;</span>Using Rosette's verification and debugging functionality for understanding why things don't work</a></div>"
   ]
  },
  {
   "cell_type": "markdown",
   "metadata": {},
   "source": [
    "# Introduction for the linguist"
   ]
  },
  {
   "cell_type": "markdown",
   "metadata": {},
   "source": [
    "Grammatical formalisms like OT and HG describe productive generaliations about stringsets and string relations with reference to one key kind of object, and one key process operating on those objects: \n",
    " - **violable constraints** on strings or string mappings\n",
    " - **an optimization process**, where the output string associated with a given input string and constraint set is the one that *minimizes* the degree and kind of constraint violations."
   ]
  },
  {
   "cell_type": "markdown",
   "metadata": {},
   "source": [
    "## The problem\n",
    "\n",
    "**Constraints** to date have typically been both \n",
    " 1. informally defined.\n",
    " 2. assumed to be innate.\n",
    " \n",
    "Meanwhile, **optimization calculations** and **constraint weight or ranking inference algorithms** from data are often either performed\n",
    " 1. (tediously) by hand\n",
    " 2. using specialized software (typically MS Excel plugins) with a limited degree of customizability for most end users in terms of data formatting, the assumed grammatical formalism, formalization of constraints, and inference or optimization procedures. Further, depending on the implementation, changes in the grammatical formalism or formalization of contraints may, in general, demand modification of optimization and/or weight/ranking inference algorithms."
   ]
  },
  {
   "cell_type": "markdown",
   "metadata": {},
   "source": [
    "In this notebook, I take the first step towards evaluating a programming language ([Racket](https://racket-lang.org)) and software package ([Rosette](https://docs.racket-lang.org/rosette-guide/index.html)) that together may offer a platform that can assuage these four problems by bringing end-users closer to being developers and by leveraging SAT/SMT solvers as generic tools for optimization and weight/ranking inference."
   ]
  },
  {
   "cell_type": "markdown",
   "metadata": {},
   "source": [
    "## Overview of proposed solution"
   ]
  },
  {
   "cell_type": "markdown",
   "metadata": {},
   "source": [
    "### What is/why Racket?\n",
    "\n",
    "Racket is a mature programming language \n",
    " 1. with a minimal amount of syntax to learn, based on a formalism for computation (the lambda calculus) already at least passingly familiar to any linguist who has taken a formal semantics course.\n",
    " 2. with a development environment and toolchain that is easy to use and install.\n",
    " 3. with a wealth of teaching materials and documentation.\n",
    " 4. particularly well-suited to meta-programming and being a host language for embedded domain-specific languages (DSLs).\n",
    "\n",
    "Items 1-3 make Racket a good choice of programming language for an application where the intended end-users are linguists. As elaborated below, Item 4 is part of why Racket and Rosette are particularly well-suited for \n",
    " - creating software to examine how linguistic constraints can be formally defined and induced from data.\n",
    " - creating a DSL for defining constraint-based grammar formalisms that is powerful yet also learnable and usable by linguists with little or no other programming experience ([Hudak, 1997](http://cs448h.stanford.edu/DSEL-Little.pdf))."
   ]
  },
  {
   "cell_type": "markdown",
   "metadata": {},
   "source": [
    "### What is/why Rosette?\n",
    "\n",
    "Rosette is a library for Racket intended to aid in the development of (SAT/SMT-)solver-aided domain-specific programming languages."
   ]
  },
  {
   "cell_type": "markdown",
   "metadata": {},
   "source": [
    "**What are SAT/SMT problems and solvers?**\n",
    "\n",
    "Given a formula $\\phi$ in propositional logic with variables like $P \\land \\neg Q$, the problem of finding an assignment of values to variables that makes $\\phi$ true is an instance of *a Boolean satisfiability problem* (\"SAT problem\"). In the example formula $\\phi = P \\land \\neg Q$, replacing $P$ with $T$ and $Q$ with $F$ is the only way that $\\phi$ can be 'satisfied' (evaluate to $T$); every other choice of values for $P$ and $Q$ will make $\\phi$ evaluate to $F$. In contrast, the formula $\\phi' = R \\land \\neg R$ cannot be satisfied by *any* way of choosing to assign values to variables (or rather, just the one variable in $\\phi'$, $R$). An SMT (\"satisfiability modulo theories\") problem is a generalization of a SAT problem where formulas can be in logics more expressive than propositional logic. SAT/SMT solvers are software tools designed to find solutions to SAT/SMT problems."
   ]
  },
  {
   "cell_type": "markdown",
   "metadata": {},
   "source": [
    "**How do SAT/SMT problems and solvers relate to programming languages and Rosette?**\n",
    "\n",
    "As discussed in the Rosette documentation and [references](https://docs.racket-lang.org/rosette-guide/refs.html), SAT/SMT solvers can be used to solve four types of programming problems:\n",
    " 1. **synthesis** of code fragments that have some kind of desired behavior (e.g. suffice to produce provided input-output examples; satisfy a formal specification).\n",
    " 2. **verification** that code that is supposed to be an implementation of a specification does, in fact, satisfy the specification.\n",
    " 3. **localization** of code fragments that are responsible for causing undesired behavior.\n",
    " 4. \"**angelic execution**\" of code - finding inputs to a program that make it satisfy a specification.\n",
    " \n",
    "Rosette is a library for developing domain-specific programming languages (DSLs) and ensuring that SAT/SMT solver capabilities are available to users of that DSL without requiring much (if any) SAT/SMT solver-related expertise by the domain-specific language user or developer. Outside of the context of this use case, Rosette is a Racket-language wrapper for interfacing with a variety of different SAT/SMT solver backends (by default, [Z3](https://rise4fun.com/z3))."
   ]
  },
  {
   "cell_type": "markdown",
   "metadata": {},
   "source": [
    "### Roadmap: What does this have to do with OT and HG?\n",
    "\n",
    "A constraint-based grammar is a *program* (function) that maps each input string to an output string according to some control parameters - viz. a set of constraints and some parameters describing the constraints and their relationship to each other (weights or rankings).\n",
    "\n",
    "1. **What Rosette offers, at minimum:** Minimally, Rosette (via its SAT/SMT solver backend) is a platform for formally and flexibly defining constraint-based phonological grammars and constraints that interfaces cleanly with a SAT/SMT solver that takes care of optimization. \n",
    "   - Concretely and most importantly, this means that Rosette's core functionality can - \"out of the box\" - take care of finding constraint weights or rankings that suffice to produce attested data (\"*angelic execution*\").\n",
    "   - Secondarily, Rosette's core functionality can isolate why any given constraint weighting or ranking may be incorrect (\"*localization*\" and \"*verification*\") relative to input data, helping linguists (or students) identify and 'debug' incorrect solutions. (See $\\S 2.3.1$ and $\\S 2.3.2$ of [the Rosette documentation introduction](https://docs.racket-lang.org/rosette-guide/ch_essentials.html) for a quick explication of this functionality.)\n",
    "     - (In principle this could also be used as a reviewing tool or as part of supplementary information for published work.)\n",
    "2. **Potential benefits and trade-offs:** On the one hand, as a general-purpose tool for solving an NP-complete problem, it will not be as algorithmically efficient as existing HG/OT software at solving HG/OT-specific optimization problems. On the other hand, as a general-purpose interface to SAT/SMT solvers, it should benefit from an efficient implementation and whatever optimizations the SAT/SMT solvers bring to bear by default or can be tweaked to use via parameter choices. As well, as long as performance is acceptable, it is a flexible \"tool for thinking\" that permits rapid prototyping and calculation on (at least) small versions of phonological problems where optimization calculations are taken care of \"out of the box\".\n",
    "3. **What Rosette offers, at maximum:** Once Rosette has been used to define a domain-specific language for particular a grammatical formalism (e.g. \"classic\" OT vs. MaxEnt OT vs. HG vs. ...), a domain-specific language for constraints in that formalism can also be defined (as in [Doyle & Levy, 2016](http://www.aclweb.org/anthology/C16-1209)), and then Rosette's *synthesis* functionality can be brought to bear - probably augmented by a broader framework like MDL, as in [Ellis et al. (2015)](https://papers.nips.cc/paper/5785-unsupervised-learning-by-program-synthesis) - to infer constraints from data in a principled fashion and explore how constraints can or ought to be formalized."
   ]
  },
  {
   "cell_type": "markdown",
   "metadata": {},
   "source": [
    "## What is in this notebook?\n",
    "\n",
    "In this notebook, I examine the first step of the roadmap outlined above by evaluating the feasibility of using Racket and Rosette to accomplish item #1 above (viz. the first bullet point): *how hard is it to use Racket and Rosette to define constraint-based grammar formalisms and use its \"angelic execution\" capabilities to find weights and/or constraint-rankings that suffice to produce attested data?*\n",
    "\n",
    "To answer this question, I implement Harmonic Grammar and MaxEnt OT and apply them to the simplified version of Wolof ATR harmony discussed in [Doyle et al. (2014)](http://aclweb.org/anthology/P14-1103). (This particular phenomenon was chosen expressly for its simplicity.) As an evaluation of Racket and Rosette's usability, I only make use of features of Racket and data structures that would be used or introduced in a first semester introduction to programming via Scheme or Racket, and I make little or no attempt to adapt my formulation of the optimization problem to make the SAT/SMT solver's job any easier, other than avoiding use of a few Racket functions and data structures that Rosette cannot reason about.\n",
    "\n",
    "I assume the reader of this notebook is familiar with \n",
    " - Doyle et al. (2014) and the formulation of Wolof ATR harmony and a possible constraint-based analysis contained therein.\n",
    " - elementary Lisp/Scheme/Racket programming.\n",
    " - basic functionality and use of Rosette as discussed briefly in the [introduction of the documentation](https://docs.racket-lang.org/rosette-guide/ch_essentials.html) and/or in the introduction of any of the Rosette [references](https://docs.racket-lang.org/rosette-guide/refs.html)."
   ]
  },
  {
   "cell_type": "markdown",
   "metadata": {},
   "source": [
    "## Result Summary and Next Steps"
   ]
  },
  {
   "cell_type": "markdown",
   "metadata": {},
   "source": [
    "Rosette+Racket 'pass' the relatively low bar of usability demanded here: \n",
    " - I am able to reproduce the information in Figures 1 and 2 of Doyle et al. (2014)\n",
    " - I am able to use Rosette to define a linear programming problem (for HG) and a SAT problem (for OT) where the backend solver infers a set of weights or rankings that suffice to produce the correct mappings for all 36 possible input wordforms."
   ]
  },
  {
   "cell_type": "markdown",
   "metadata": {},
   "source": [
    "In more detail:\n",
    "\n",
    "**Harmonic Grammar**\n",
    "\n",
    "The Wolof ATR harmony problem (especially as simplified by Doyle et al., 2014) is not terribly complicated, and I was able to get Rosette to find real-valued weights (in an HG context) that produce correct mappings without issue or visibly slow execution.\n",
    "\n",
    "A better test of how well Rosette may scale (whether used naively or with a more intelligent eye towards formulating the optimization problem) would require a data set and phonological phenomena with \n",
    " - more constraints.\n",
    " - interaction of phenomena.\n",
    " - longer strings and more complicated patterns than just those involving words with two vowels and a trivial 1-1 correspondence relation.\n",
    "\n",
    "**MaxEnt OT**\n",
    "\n",
    "Rosette does not currently support use of the `exp` or `log` functions with arguments that are symbolic numbers, so it cannot be used to infer weights for MaxEnt OT. I don't know if this is easy or likely to change anytime soon.\n",
    "\n",
    "**Classic OT**\n",
    "\n",
    "As formulated here, a 'solution' consists of a total ordering over the four constraints that suffices to produce correct mappings. Constraint orderings are encoded as a list of 4 unique integers between 0 and 3. Rosette discovers the only ranking that will generate the attested data without issue or visibly slow execution."
   ]
  },
  {
   "cell_type": "markdown",
   "metadata": {},
   "source": [
    "**Next steps**\n",
    "\n",
    "1. The code here is mildly tailored to the Wolof harmony problem and its presentation in Doyle et al. (2014). To examine solver performance with more constraints and other phenomena, the code here needs to be abstracted slightly to\n",
    " - accept arbitrary sets of attested input-output mappings (as contained in, e.g. a csv file)\n",
    " - accept either an arbitrary list of underlying and candidate wordforms or make use of a user-provided function for generating relevant candidate outputs for a given underlying representation.\n",
    " - accept an arbitrary collection of constraint violation functions\n",
    " - work with constraint violation functions that can return the number of times a `(underlying representation, output candidate, correspondence relation)` tuple violates the constraint (rather than just $1$ or $0$, as assumed in Doyle et al. 2014).\n",
    " \n",
    "2. To be more than a nice interface to an SMT solver, new code is needed to take advantage of Racket's metaprogramming capabilities and Rosette's more advanced metaprogramming-related functionality (`define-synthax`) to define a constraint meta-grammar and have Rosette synthesize expressions (i.e. constraints).\n",
    "\n",
    "3. To be a useful educational/research aid and to (again) take advantage of Rosette's features above and beyond being a pleasant interface to an SMT solver, new code is needed to illustrate how to make use of Rosette's verification and debugging features."
   ]
  },
  {
   "cell_type": "markdown",
   "metadata": {},
   "source": [
    "# Technical overview of the rest of the notebook"
   ]
  },
  {
   "cell_type": "markdown",
   "metadata": {},
   "source": [
    "## Technical requirements for reproduction"
   ]
  },
  {
   "cell_type": "markdown",
   "metadata": {},
   "source": [
    "Execution/reproduction of the code in this notebook minimally requires Racket v7.1, Rosette v3.0, and some copy+pasting into the DrRacket development environment.\n",
    "\n",
    "This notebook was made in Jupyter Notebook v4.4.0, associated with \n",
    " - Python v.3.7.0\n",
    " - conda 4.5.11\n",
    " \n",
    "I am running Racket and Rosette in the notebook via [this version](https://github.com/tgbugs/iracket) of the iRacket kernel for Jupyter Notebook. To get Rosette's Z3 server (`~/Library/Racket/7.1/pkgs/rosette/bin/z3`) to have execution permissions, I had to modify the `main` function of `iracket/private/iracket.rkt` to give `execute` permission to the path `~/Library/Racket/7.1/pkgs/rosette/bin/`. (No, as far as I can tell, you cannot solve this problem using `chmod` or `chown` - this is an issue specific to *Racket*'s management of (sub)processes and their permissions.)\n",
    "\n",
    "Whether you want to run the code in DrRacket or a Jupyter Notebook, feel free to contact me for more details."
   ]
  },
  {
   "cell_type": "markdown",
   "metadata": {},
   "source": [
    "## Outline"
   ]
  },
  {
   "cell_type": "markdown",
   "metadata": {},
   "source": [
    "1. After defining some functions mainly for manipulating association lists, I define some values and functions for reasoning about phonetic features, words, and the lexicon of the Doyle et al. (2014) Wolof example.\n",
    "2. Next, I define functions to implement constraints and calculations that are functions of constraints - harmony scores, MaxEnt OT probabilities, etc.\n",
    "3. I show that Figures 1 and 2 of Doyle et al. (2014) can be recreated using the current code, indicating that the code defined so far is correct. I then use this code (and the weights used in those figures) to generate the set of all correct mappings for the Doyle et al. Wolof harmony problem.\n",
    "4. Finally, I use Rosette as an interface to a SAT/SMT solver and use it to infer HG constraint weights and classic OT rankings."
   ]
  },
  {
   "cell_type": "markdown",
   "metadata": {},
   "source": [
    "# Data structures boilerplate"
   ]
  },
  {
   "cell_type": "code",
   "execution_count": 1,
   "metadata": {
    "ExecuteTime": {
     "end_time": "2018-12-21T22:54:27.794723Z",
     "start_time": "2018-12-21T22:54:27.788Z"
    }
   },
   "outputs": [],
   "source": [
    ";Cartesian product\n",
    "(define (product setA setB) ; actually assumed to be lists\n",
    "  (foldl append\n",
    "         '()\n",
    "         (map (λ (a) (map (λ (b) (list a b))\n",
    "                          setB))\n",
    "              setA)))\n",
    "\n",
    ";(define product cartesian-product)"
   ]
  },
  {
   "cell_type": "code",
   "execution_count": 2,
   "metadata": {
    "ExecuteTime": {
     "end_time": "2018-12-21T22:54:27.802111Z",
     "start_time": "2018-12-21T22:54:27.796Z"
    }
   },
   "outputs": [],
   "source": [
    "(define (dot-product lstA lstB)\n",
    "  (define pairs (map list\n",
    "                     lstA\n",
    "                     lstB))\n",
    "  (apply + (map (λ (pair) (apply * pair))\n",
    "                pairs)))"
   ]
  },
  {
   "cell_type": "code",
   "execution_count": 3,
   "metadata": {
    "ExecuteTime": {
     "end_time": "2018-12-21T22:54:27.820871Z",
     "start_time": "2018-12-21T22:54:27.804Z"
    }
   },
   "outputs": [],
   "source": [
    "(define (get k dict) (second (assoc k dict)))\n",
    "\n",
    "(define (sort-dict-by-val dict [cmp <])\n",
    "  (sort dict \n",
    "    (λ (pairA pairB) (cmp (second pairA) (second pairB)))))\n",
    "\n",
    "; Two association lists are equal iff\n",
    ";    - they have the same set of defined keys.\n",
    ";    - and for each key they have the same value.\n",
    "(define (equal-assoc-lst? assoc-lst-A assoc-lst-B [key-cmp symbol<?])\n",
    "  (let ([keys-A (sort (map first assoc-lst-A) key-cmp)]\n",
    "        [keys-B (sort (map first assoc-lst-B) key-cmp)])\n",
    "    (and (equal? keys-A keys-B)\n",
    "         (andmap (λ (k) (equal? (assoc k assoc-lst-A) (assoc k assoc-lst-B))) keys-A))))\n",
    "\n",
    "; Below is a simpler definition of association-list, \n",
    "; but it uses Racket data structures that Rosette cannot reason about.\n",
    ";(define (equal-assoc-lst? assoc-lst-A assoc-lst-B)\n",
    ";  (equal? (list->set assoc-lst-A)\n",
    ";          (list->set assoc-lst-B)))"
   ]
  },
  {
   "cell_type": "code",
   "execution_count": 4,
   "metadata": {
    "ExecuteTime": {
     "end_time": "2018-12-21T22:54:27.880131Z",
     "start_time": "2018-12-21T22:54:27.811Z"
    }
   },
   "outputs": [],
   "source": [
    "(define (common-keys assoc-lst-A assoc-lst-B)\n",
    "  (let ([keys-A (map first assoc-lst-A)]\n",
    "        [keys-B (map first assoc-lst-B)])\n",
    "    (remove-duplicates (append (filter (λ (kB) (member kB keys-A)) keys-B)\n",
    "                               (filter (λ (kA) (member kA keys-B)) keys-A)))))\n",
    "\n",
    "; This projects an association list down to just mappings with certain keys \n",
    "(define (project-assoc-lst keys alist)\n",
    "  (map (λ (k) (assoc k alist)) keys))\n",
    "\n",
    "; This is basically the intersection of relations:\n",
    "(define (common-mappings assoc-lst-A assoc-lst-B)\n",
    "  (let ([c-keys (common-keys assoc-lst-A assoc-lst-B)])\n",
    "    (if (null? c-keys)\n",
    "        '()\n",
    "        (foldl append '() (map (λ (k)\n",
    "                                 (if (equal? (get k assoc-lst-A) (get k assoc-lst-B))\n",
    "                                     (list (assoc k assoc-lst-A))\n",
    "                                     '()))\n",
    "                               c-keys)))))\n",
    "\n",
    "(define (different-mappings assoc-lst-A assoc-lst-B)\n",
    "  (let* ([c-maps (common-mappings assoc-lst-A assoc-lst-B)]\n",
    "         [c-keys (map first c-maps)]\n",
    "         [keys-A (map first assoc-lst-A)]\n",
    "         [keys-B (map first assoc-lst-B)]\n",
    "         [diff-keys-A (filter (λ (k) (not (member k c-keys))) keys-A)]\n",
    "         [diff-keys-B (filter (λ (k) (not (member k c-keys))) keys-B)]\n",
    "         [unique-maps-A (project-assoc-lst diff-keys-A assoc-lst-A)]\n",
    "         [unique-maps-B (project-assoc-lst diff-keys-B assoc-lst-B)])\n",
    "    (list unique-maps-A unique-maps-B)))"
   ]
  },
  {
   "cell_type": "code",
   "execution_count": 5,
   "metadata": {
    "ExecuteTime": {
     "end_time": "2018-12-21T22:54:27.903319Z",
     "start_time": "2018-12-21T22:54:27.817Z"
    }
   },
   "outputs": [],
   "source": [
    "(define (print-dict d [key-to-string identity] [val-to-string identity])\n",
    "  (define (print-kv kv)\n",
    ";    (displayln (key-to-string (first kv)))\n",
    ";    (display \"\\t\")\n",
    ";    (displayln (val-to-string (second kv)))\n",
    "    (display (key-to-string (first kv)))\n",
    "    (display \"\\t\\t\")\n",
    "    (displayln (val-to-string (second kv)))\n",
    "    )\n",
    "  ;(map print-kv d)\n",
    "  (for ([kv d])\n",
    "       (print-kv kv))\n",
    "  )"
   ]
  },
  {
   "cell_type": "code",
   "execution_count": 6,
   "metadata": {
    "ExecuteTime": {
     "end_time": "2018-12-21T22:54:27.908926Z",
     "start_time": "2018-12-21T22:54:27.826Z"
    }
   },
   "outputs": [],
   "source": [
    "(define (word->string symbol-list)\n",
    "  (foldr string-append \n",
    "         \"\"\n",
    "         (map symbol->string\n",
    "              symbol-list)))\n",
    "\n",
    "(define (ur-oc-pair->strings pair) \n",
    "  (map word->string pair))\n",
    "\n",
    ";technically unsafe due to string<?\n",
    "(define (word<? wordA wordB)\n",
    "  (define wordA/str (map symbol->string wordA))\n",
    "  (define wordB/str (map symbol->string wordB))\n",
    "  (define (word->string word) (string-join word))\n",
    "  (string<? (word->string wordA/str) (word->string wordB/str)))"
   ]
  },
  {
   "cell_type": "code",
   "execution_count": 7,
   "metadata": {
    "ExecuteTime": {
     "end_time": "2018-12-21T22:54:27.914408Z",
     "start_time": "2018-12-21T22:54:27.834Z"
    }
   },
   "outputs": [],
   "source": [
    "(define (my-argmin f args)\n",
    "  (define result-map (map list\n",
    "                          args\n",
    "                          (map f args)))\n",
    "  (define sorted-result-map (sort-dict-by-val result-map))\n",
    "  (first (first sorted-result-map))\n",
    "  ;sorted-result-map\n",
    "  )\n",
    "\n",
    "(define (my-argmax f args)\n",
    "  (define result-map (map list\n",
    "                          args\n",
    "                          (map f args)))\n",
    "  (define sorted-result-map (sort-dict-by-val result-map))\n",
    "  (first (last sorted-result-map))\n",
    "  ;sorted-result-map\n",
    "  )"
   ]
  },
  {
   "cell_type": "markdown",
   "metadata": {},
   "source": [
    "# Minimal phonetic inventory/feature system implementation"
   ]
  },
  {
   "cell_type": "code",
   "execution_count": 8,
   "metadata": {
    "ExecuteTime": {
     "end_time": "2018-12-21T22:54:27.921435Z",
     "start_time": "2018-12-21T22:54:27.843Z"
    }
   },
   "outputs": [],
   "source": [
    "(define inventory (list 't 'e 'i 'ɪ 'ɛ 'ə 'a))\n",
    "(define consonant (list 't))\n",
    "(define vowel (list 'e 'i 'ɪ 'ɛ 'ə 'a))\n",
    "(define hi (list 'i 'ɪ))\n",
    "(define mid (list 'e 'ɛ))\n",
    "(define lo (list 'ə 'a))\n",
    "(define atr (list 'i 'e 'ə))\n",
    "(define rtr (list 'ɪ 'ɛ 'a))"
   ]
  },
  {
   "cell_type": "code",
   "execution_count": 9,
   "metadata": {
    "ExecuteTime": {
     "end_time": "2018-12-21T22:54:27.932560Z",
     "start_time": "2018-12-21T22:54:27.851Z"
    }
   },
   "outputs": [],
   "source": [
    "(define (make-member-test lst) (λ (seg) (if (member seg lst) #t #f)))\n",
    "(define type->test (map list\n",
    "                        (list 'consonant 'vowel 'hi 'mid 'lo 'atr 'rtr)\n",
    "                        (map make-member-test\n",
    "                             (list consonant vowel hi mid lo atr rtr))))\n",
    "(define (is-type? seg type) ((second (assoc type type->test)) seg))"
   ]
  },
  {
   "cell_type": "code",
   "execution_count": 10,
   "metadata": {
    "ExecuteTime": {
     "end_time": "2018-12-21T22:54:27.942299Z",
     "start_time": "2018-12-21T22:54:27.859Z"
    }
   },
   "outputs": [
    {
     "data": {
      "text/html": [
       "<code>#t</code>"
      ],
      "text/plain": [
       "#t"
      ]
     },
     "execution_count": 10,
     "metadata": {},
     "output_type": "execute_result"
    }
   ],
   "source": [
    "(is-type? 'a 'lo) ; => #t "
   ]
  },
  {
   "cell_type": "code",
   "execution_count": 11,
   "metadata": {
    "ExecuteTime": {
     "end_time": "2018-12-21T22:54:27.947074Z",
     "start_time": "2018-12-21T22:54:27.869Z"
    }
   },
   "outputs": [
    {
     "data": {
      "text/html": [
       "<code>#f</code>"
      ],
      "text/plain": [
       "#f"
      ]
     },
     "execution_count": 11,
     "metadata": {},
     "output_type": "execute_result"
    }
   ],
   "source": [
    "(is-type? 'a 'consonant) ;=> #f"
   ]
  },
  {
   "cell_type": "code",
   "execution_count": 12,
   "metadata": {
    "ExecuteTime": {
     "end_time": "2018-12-21T22:54:27.955225Z",
     "start_time": "2018-12-21T22:54:27.881Z"
    }
   },
   "outputs": [],
   "source": [
    "(define (atr? v) (is-type? v 'atr))\n",
    "(define (rtr? v) (is-type? v 'rtr))\n",
    "(define (get-height v)\n",
    "  (cond [(is-type? v 'hi) 'hi]\n",
    "        [(is-type? v 'mid) 'mid]\n",
    "        [(is-type? v 'lo) 'lo]))\n",
    "(define (get-tr v)\n",
    "  (cond [(is-type? v 'atr) 'atr]\n",
    "        [(is-type? v 'rtr) 'rtr]))"
   ]
  },
  {
   "cell_type": "code",
   "execution_count": 13,
   "metadata": {
    "ExecuteTime": {
     "end_time": "2018-12-21T22:54:27.959683Z",
     "start_time": "2018-12-21T22:54:27.890Z"
    }
   },
   "outputs": [
    {
     "data": {
      "text/html": [
       "<code>'(ə)</code>"
      ],
      "text/plain": [
       "'(ə)"
      ]
     },
     "execution_count": 13,
     "metadata": {},
     "output_type": "execute_result"
    }
   ],
   "source": [
    "(filter (λ (s) (and (atr? s) (is-type? s 'lo)))\n",
    "        vowel)"
   ]
  },
  {
   "cell_type": "code",
   "execution_count": 14,
   "metadata": {
    "ExecuteTime": {
     "end_time": "2018-12-21T22:54:27.961432Z",
     "start_time": "2018-12-21T22:54:27.899Z"
    }
   },
   "outputs": [
    {
     "data": {
      "text/html": [
       "<code>#f</code>"
      ],
      "text/plain": [
       "#f"
      ]
     },
     "execution_count": 14,
     "metadata": {},
     "output_type": "execute_result"
    }
   ],
   "source": [
    "(atr? 'a)"
   ]
  },
  {
   "cell_type": "code",
   "execution_count": 15,
   "metadata": {
    "ExecuteTime": {
     "end_time": "2018-12-21T22:54:27.963646Z",
     "start_time": "2018-12-21T22:54:27.909Z"
    }
   },
   "outputs": [
    {
     "data": {
      "text/html": [
       "<code>#t</code>"
      ],
      "text/plain": [
       "#t"
      ]
     },
     "execution_count": 15,
     "metadata": {},
     "output_type": "execute_result"
    }
   ],
   "source": [
    "(rtr? 'a)"
   ]
  },
  {
   "cell_type": "code",
   "execution_count": 16,
   "metadata": {
    "ExecuteTime": {
     "end_time": "2018-12-21T22:54:27.966016Z",
     "start_time": "2018-12-21T22:54:27.917Z"
    }
   },
   "outputs": [
    {
     "data": {
      "text/html": [
       "<code>'lo</code>"
      ],
      "text/plain": [
       "'lo"
      ]
     },
     "execution_count": 16,
     "metadata": {},
     "output_type": "execute_result"
    }
   ],
   "source": [
    "(get-height 'a)"
   ]
  },
  {
   "cell_type": "markdown",
   "metadata": {},
   "source": [
    "# 'Lexicon' setup"
   ]
  },
  {
   "cell_type": "markdown",
   "metadata": {},
   "source": [
    "Here, a 'word' is a list of length 1 strings."
   ]
  },
  {
   "cell_type": "code",
   "execution_count": 17,
   "metadata": {
    "ExecuteTime": {
     "end_time": "2018-12-21T22:54:27.972145Z",
     "start_time": "2018-12-21T22:54:27.934Z"
    }
   },
   "outputs": [
    {
     "data": {
      "text/html": [
       "<code>'((a t e) (a t i) (a t ɪ) (a t ɛ) (a t ə) (a t a) (ə t e) (ə t i) (ə t ɪ) (ə t ɛ) (ə t ə) (ə t a) (ɛ t e) (ɛ t i) (ɛ t ɪ) (ɛ t ɛ) (ɛ t ə) (ɛ t a) (ɪ t e) (ɪ t i) (ɪ t ɪ) (ɪ t ɛ) (ɪ t ə) (ɪ t a) (i t e) (i t i) (i t ɪ) (i t ɛ) (i t ə) (i t a) (e t e) (e t i) (e t ɪ) (e t ɛ) (e t ə) (e t a))</code>"
      ],
      "text/plain": [
       "'((a t e) (a t i) (a t ɪ) (a t ɛ) (a t ə) (a t a) (ə t e) (ə t i) (ə t ɪ) (ə t ɛ) (ə t ə) (ə t a) (ɛ t e) (ɛ t i) (ɛ t ɪ) (ɛ t ɛ) (ɛ t ə) (ɛ t a) (ɪ t e) (ɪ t i) (ɪ t ɪ) (ɪ t ɛ) (ɪ t ə) (ɪ t a) (i t e) (i t i) (i t ɪ) (i t ɛ) (i t ə) (i t a) (e t e) (e t i) (e t ɪ) (e t ɛ) (e t ə) (e t a))"
      ]
     },
     "execution_count": 17,
     "metadata": {},
     "output_type": "execute_result"
    }
   ],
   "source": [
    "(define all-possible-vowel-pairs (product vowel vowel))\n",
    "(define (insert-t v-pair) (list (first v-pair) 't (second v-pair)))\n",
    "(define all-wordforms (map insert-t all-possible-vowel-pairs))\n",
    "all-wordforms"
   ]
  },
  {
   "cell_type": "code",
   "execution_count": 18,
   "metadata": {
    "ExecuteTime": {
     "end_time": "2018-12-21T22:54:27.974779Z",
     "start_time": "2018-12-21T22:54:27.942Z"
    }
   },
   "outputs": [
    {
     "data": {
      "text/html": [
       "<code>'(a t e)</code>"
      ],
      "text/plain": [
       "'(a t e)"
      ]
     },
     "execution_count": 18,
     "metadata": {},
     "output_type": "execute_result"
    }
   ],
   "source": [
    "(define ate (first all-wordforms))\n",
    "ate"
   ]
  },
  {
   "cell_type": "code",
   "execution_count": 19,
   "metadata": {
    "ExecuteTime": {
     "end_time": "2018-12-21T22:54:27.977495Z",
     "start_time": "2018-12-21T22:54:27.953Z"
    }
   },
   "outputs": [],
   "source": [
    "(define (vowel-heights word)\n",
    "  (map get-height (filter (λ (seg) (is-type? seg 'vowel))\n",
    "                          word)))"
   ]
  },
  {
   "cell_type": "code",
   "execution_count": 20,
   "metadata": {
    "ExecuteTime": {
     "end_time": "2018-12-21T22:54:27.979362Z",
     "start_time": "2018-12-21T22:54:27.962Z"
    }
   },
   "outputs": [
    {
     "data": {
      "text/html": [
       "<code>'(lo mid)</code>"
      ],
      "text/plain": [
       "'(lo mid)"
      ]
     },
     "execution_count": 20,
     "metadata": {},
     "output_type": "execute_result"
    }
   ],
   "source": [
    "(vowel-heights ate)"
   ]
  },
  {
   "cell_type": "code",
   "execution_count": 21,
   "metadata": {
    "ExecuteTime": {
     "end_time": "2018-12-21T22:54:27.982465Z",
     "start_time": "2018-12-21T22:54:27.971Z"
    }
   },
   "outputs": [
    {
     "data": {
      "text/html": [
       "<code>'((lo hi) (lo mid) (lo lo) (mid hi) (mid mid) (mid lo) (hi hi) (hi mid) (hi lo))</code>"
      ],
      "text/plain": [
       "'((lo hi) (lo mid) (lo lo) (mid hi) (mid mid) (mid lo) (hi hi) (hi mid) (hi lo))"
      ]
     },
     "execution_count": 21,
     "metadata": {},
     "output_type": "execute_result"
    }
   ],
   "source": [
    "(define height-patterns (product '(hi mid lo) '(hi mid lo)))\n",
    "height-patterns"
   ]
  },
  {
   "cell_type": "code",
   "execution_count": 22,
   "metadata": {
    "ExecuteTime": {
     "end_time": "2018-12-21T22:54:28.200065Z",
     "start_time": "2018-12-21T22:54:27.980Z"
    }
   },
   "outputs": [],
   "source": [
    "(define (get-words-with-height-pattern pattern) (filter (λ (word) (equal? (vowel-heights word) pattern))\n",
    "                                                        all-wordforms))\n",
    "\n",
    "(define height-pattern->example-wordform (map list\n",
    "                                              height-patterns\n",
    "                                              (map (λ (pattern) (first (get-words-with-height-pattern pattern)))\n",
    "                                                   height-patterns)))"
   ]
  },
  {
   "cell_type": "code",
   "execution_count": 23,
   "metadata": {
    "ExecuteTime": {
     "end_time": "2018-12-21T22:54:28.204728Z",
     "start_time": "2018-12-21T22:54:27.993Z"
    }
   },
   "outputs": [
    {
     "data": {
      "text/html": [
       "<code>'((a t e) (a t ɛ) (ə t e) (ə t ɛ))</code>"
      ],
      "text/plain": [
       "'((a t e) (a t ɛ) (ə t e) (ə t ɛ))"
      ]
     },
     "execution_count": 23,
     "metadata": {},
     "output_type": "execute_result"
    }
   ],
   "source": [
    "(get-words-with-height-pattern (list 'lo 'mid))"
   ]
  },
  {
   "cell_type": "code",
   "execution_count": 24,
   "metadata": {
    "ExecuteTime": {
     "end_time": "2018-12-21T22:54:28.206512Z",
     "start_time": "2018-12-21T22:54:28.006Z"
    }
   },
   "outputs": [
    {
     "data": {
      "text/html": [
       "<code>'(a t e)</code>"
      ],
      "text/plain": [
       "'(a t e)"
      ]
     },
     "execution_count": 24,
     "metadata": {},
     "output_type": "execute_result"
    }
   ],
   "source": [
    "(get '(lo mid) height-pattern->example-wordform)"
   ]
  },
  {
   "cell_type": "markdown",
   "metadata": {},
   "source": [
    "# Setup for Doyle et al. (2014) Figure 1 and Figure 2"
   ]
  },
  {
   "cell_type": "code",
   "execution_count": 25,
   "metadata": {
    "ExecuteTime": {
     "end_time": "2018-12-21T22:54:28.211206Z",
     "start_time": "2018-12-21T22:54:28.017Z"
    }
   },
   "outputs": [],
   "source": [
    "(define figure1-inputs\n",
    "  (map list\n",
    "       (list 'upper-left 'upper-right 'lower-left 'lower-right)\n",
    "       '((e t e) (ɪ t e) (ɛ t ɛ) (i t ɛ))))\n",
    "\n",
    "(define figure2-inputs (map list\n",
    "                            '((hi hi) (hi mid) (hi lo) \n",
    "                              (mid hi) (mid mid) (mid lo) \n",
    "                              (lo hi) (lo mid) (lo lo))\n",
    "                            (map (λ (pattern) (get pattern height-pattern->example-wordform))\n",
    "                                 '((hi hi) (hi mid) (hi lo) \n",
    "                                   (mid hi) (mid mid) (mid lo) \n",
    "                                   (lo hi) (lo mid) (lo lo)))))"
   ]
  },
  {
   "cell_type": "code",
   "execution_count": 26,
   "metadata": {
    "ExecuteTime": {
     "end_time": "2018-12-21T22:54:28.212320Z",
     "start_time": "2018-12-21T22:54:28.026Z"
    }
   },
   "outputs": [
    {
     "data": {
      "text/html": [
       "<code>'((upper-left (e t e)) (upper-right (ɪ t e)) (lower-left (ɛ t ɛ)) (lower-right (i t ɛ)))</code>"
      ],
      "text/plain": [
       "'((upper-left (e t e)) (upper-right (ɪ t e)) (lower-left (ɛ t ɛ)) (lower-right (i t ɛ)))"
      ]
     },
     "execution_count": 26,
     "metadata": {},
     "output_type": "execute_result"
    }
   ],
   "source": [
    "figure1-inputs"
   ]
  },
  {
   "cell_type": "code",
   "execution_count": 27,
   "metadata": {
    "ExecuteTime": {
     "end_time": "2018-12-21T22:54:28.214359Z",
     "start_time": "2018-12-21T22:54:28.034Z"
    }
   },
   "outputs": [
    {
     "name": "stdout",
     "output_type": "stream",
     "text": [
      "(hi hi)\t\t(ɪ t i)\n",
      "(hi mid)\t\t(ɪ t e)\n",
      "(hi lo)\t\t(ɪ t ə)\n",
      "(mid hi)\t\t(ɛ t i)\n",
      "(mid mid)\t\t(ɛ t e)\n",
      "(mid lo)\t\t(ɛ t ə)\n",
      "(lo hi)\t\t(a t i)\n",
      "(lo mid)\t\t(a t e)\n",
      "(lo lo)\t\t(a t ə)\n"
     ]
    }
   ],
   "source": [
    "(print-dict figure2-inputs)"
   ]
  },
  {
   "cell_type": "code",
   "execution_count": 28,
   "metadata": {
    "ExecuteTime": {
     "end_time": "2018-12-21T22:54:28.216308Z",
     "start_time": "2018-12-21T22:54:28.042Z"
    }
   },
   "outputs": [
    {
     "data": {
      "text/html": [
       "<code>'(ɪ t i)</code>"
      ],
      "text/plain": [
       "'(ɪ t i)"
      ]
     },
     "execution_count": 28,
     "metadata": {},
     "output_type": "execute_result"
    }
   ],
   "source": [
    "(define hihi (get '(hi hi) figure2-inputs))\n",
    "hihi"
   ]
  },
  {
   "cell_type": "code",
   "execution_count": 295,
   "metadata": {
    "ExecuteTime": {
     "end_time": "2018-12-21T22:55:35.099120Z",
     "start_time": "2018-12-21T22:55:35.090Z"
    }
   },
   "outputs": [
    {
     "data": {
      "text/html": [
       "<code>'((ɪ t i) (ɪ t ɪ) (i t i) (i t ɪ))</code>"
      ],
      "text/plain": [
       "'((ɪ t i) (ɪ t ɪ) (i t i) (i t ɪ))"
      ]
     },
     "execution_count": 295,
     "metadata": {},
     "output_type": "execute_result"
    }
   ],
   "source": [
    "(define hihi-OCs (relevant-output-words hihi))\n",
    "hihi-OCs"
   ]
  },
  {
   "cell_type": "code",
   "execution_count": 296,
   "metadata": {
    "ExecuteTime": {
     "end_time": "2018-12-21T22:55:36.060168Z",
     "start_time": "2018-12-21T22:55:36.056Z"
    }
   },
   "outputs": [
    {
     "data": {
      "text/html": [
       "<code>'((atr atr) (rtr atr) (atr rtr) (rtr rtr))</code>"
      ],
      "text/plain": [
       "'((atr atr) (rtr atr) (atr rtr) (rtr rtr))"
      ]
     },
     "execution_count": 296,
     "metadata": {},
     "output_type": "execute_result"
    }
   ],
   "source": [
    "(map trs '((i t i) (ɪ t i) (i t ɪ) (ɪ t ɪ)))"
   ]
  },
  {
   "cell_type": "code",
   "execution_count": 31,
   "metadata": {
    "ExecuteTime": {
     "end_time": "2018-12-21T22:54:28.238648Z",
     "start_time": "2018-12-21T22:54:28.066Z"
    }
   },
   "outputs": [
    {
     "data": {
      "text/html": [
       "<code>'(ɛ t ə)</code>"
      ],
      "text/plain": [
       "'(ɛ t ə)"
      ]
     },
     "execution_count": 31,
     "metadata": {},
     "output_type": "execute_result"
    }
   ],
   "source": [
    "(define midlo (get '(mid lo) figure2-inputs))\n",
    "midlo"
   ]
  },
  {
   "cell_type": "code",
   "execution_count": 297,
   "metadata": {
    "ExecuteTime": {
     "end_time": "2018-12-21T22:55:38.345796Z",
     "start_time": "2018-12-21T22:55:38.335Z"
    }
   },
   "outputs": [
    {
     "data": {
      "text/html": [
       "<code>'((ɛ t ə) (ɛ t a) (e t ə) (e t a))</code>"
      ],
      "text/plain": [
       "'((ɛ t ə) (ɛ t a) (e t ə) (e t a))"
      ]
     },
     "execution_count": 297,
     "metadata": {},
     "output_type": "execute_result"
    }
   ],
   "source": [
    "(define midlo-OCs (relevant-output-words midlo))\n",
    "midlo-OCs"
   ]
  },
  {
   "cell_type": "code",
   "execution_count": 298,
   "metadata": {
    "ExecuteTime": {
     "end_time": "2018-12-21T22:55:39.987762Z",
     "start_time": "2018-12-21T22:55:39.984Z"
    }
   },
   "outputs": [
    {
     "data": {
      "text/html": [
       "<code>'((atr atr) (rtr atr) (atr rtr) (rtr rtr))</code>"
      ],
      "text/plain": [
       "'((atr atr) (rtr atr) (atr rtr) (rtr rtr))"
      ]
     },
     "execution_count": 298,
     "metadata": {},
     "output_type": "execute_result"
    }
   ],
   "source": [
    "(map trs '((e t ə) (ɛ t ə) (e t a) (ɛ t a)))"
   ]
  },
  {
   "cell_type": "code",
   "execution_count": 34,
   "metadata": {
    "ExecuteTime": {
     "end_time": "2018-12-21T22:54:28.248073Z",
     "start_time": "2018-12-21T22:54:28.090Z"
    }
   },
   "outputs": [],
   "source": [
    "(define (ident-height? ur oc) (equal? (vowel-heights ur) (vowel-heights oc)))\n",
    "\n",
    "(define (relevant-output-words input-word)\n",
    "  (define input-heights (vowel-heights input-word))\n",
    "  (define (my-ident-height? oc) (ident-height? input-word oc))\n",
    "  (filter my-ident-height? all-wordforms))"
   ]
  },
  {
   "cell_type": "code",
   "execution_count": 35,
   "metadata": {
    "ExecuteTime": {
     "end_time": "2018-12-21T22:54:28.272724Z",
     "start_time": "2018-12-21T22:54:28.098Z"
    }
   },
   "outputs": [
    {
     "data": {
      "text/html": [
       "<code>'((ɛ t e) (ɛ t ɛ) (e t e) (e t ɛ))</code>"
      ],
      "text/plain": [
       "'((ɛ t e) (ɛ t ɛ) (e t e) (e t ɛ))"
      ]
     },
     "execution_count": 35,
     "metadata": {},
     "output_type": "execute_result"
    }
   ],
   "source": [
    "(relevant-output-words (get 'upper-left figure1-inputs))"
   ]
  },
  {
   "cell_type": "code",
   "execution_count": 36,
   "metadata": {
    "ExecuteTime": {
     "end_time": "2018-12-21T22:54:28.295703Z",
     "start_time": "2018-12-21T22:54:28.107Z"
    }
   },
   "outputs": [],
   "source": [
    "; Operations on words wrt tongue root position\n",
    "(define (trs word)\n",
    "  (map get-tr (filter (λ (seg) (is-type? seg 'vowel))\n",
    "                      word)))\n",
    "\n",
    "(define tr-patterns (product '(atr rtr) '(atr rtr)))\n",
    "(define figure1-tr-patterns '((atr atr) (rtr atr) (atr rtr) (rtr rtr)))\n",
    "(define figure2-tr-patterns figure1-tr-patterns)\n",
    "\n",
    "(define (get-words-with-tr-pattern pattern) (filter (λ (word) (equal? (trs word) pattern))\n",
    "                                                    all-wordforms))\n",
    "(define (get-figure1-OCs ur)\n",
    "  (define relevant-OCs (relevant-output-words ur))\n",
    "  (define tr-pattern->OCs (map list\n",
    "                               figure1-tr-patterns\n",
    "                               (map get-words-with-tr-pattern\n",
    "                                    figure1-tr-patterns)))\n",
    "  (define my-OCs (map list\n",
    "                      figure1-tr-patterns\n",
    "                      (map (λ (pattern) (first (filter (λ (word) (member word relevant-OCs))\n",
    "                                                       (second (assoc pattern tr-pattern->OCs)))))\n",
    "                           figure1-tr-patterns)))\n",
    "  my-OCs\n",
    "  )\n",
    "\n",
    "(define (get-figure2-OCs ur)\n",
    "  (get-figure1-OCs ur))"
   ]
  },
  {
   "cell_type": "code",
   "execution_count": 37,
   "metadata": {
    "ExecuteTime": {
     "end_time": "2018-12-21T22:54:28.299151Z",
     "start_time": "2018-12-21T22:54:28.116Z"
    }
   },
   "outputs": [
    {
     "name": "stdout",
     "output_type": "stream",
     "text": [
      "'(a t e)"
     ]
    },
    {
     "data": {
      "text/html": [
       "<code>'(rtr atr)</code>"
      ],
      "text/plain": [
       "'(rtr atr)"
      ]
     },
     "execution_count": 37,
     "metadata": {},
     "output_type": "execute_result"
    }
   ],
   "source": [
    "(print ate)\n",
    "(trs ate)"
   ]
  },
  {
   "cell_type": "code",
   "execution_count": 38,
   "metadata": {
    "ExecuteTime": {
     "end_time": "2018-12-21T22:54:28.336990Z",
     "start_time": "2018-12-21T22:54:28.125Z"
    }
   },
   "outputs": [
    {
     "data": {
      "text/html": [
       "<code>'(((atr atr) (ə t e)) ((rtr atr) (a t e)) ((atr rtr) (ə t ɛ)) ((rtr rtr) (a t ɛ)))</code>"
      ],
      "text/plain": [
       "'(((atr atr) (ə t e)) ((rtr atr) (a t e)) ((atr rtr) (ə t ɛ)) ((rtr rtr) (a t ɛ)))"
      ]
     },
     "execution_count": 38,
     "metadata": {},
     "output_type": "execute_result"
    }
   ],
   "source": [
    "(get-figure1-OCs ate)"
   ]
  },
  {
   "cell_type": "code",
   "execution_count": 39,
   "metadata": {
    "ExecuteTime": {
     "end_time": "2018-12-21T22:54:28.340005Z",
     "start_time": "2018-12-21T22:54:28.134Z"
    }
   },
   "outputs": [
    {
     "data": {
      "text/html": [
       "<code>'(((hi hi) (ɪ t i)) ((hi mid) (ɪ t e)) ((hi lo) (ɪ t ə)) ((mid hi) (ɛ t i)) ((mid mid) (ɛ t e)) ((mid lo) (ɛ t ə)) ((lo hi) (a t i)) ((lo mid) (a t e)) ((lo lo) (a t ə)))</code>"
      ],
      "text/plain": [
       "'(((hi hi) (ɪ t i)) ((hi mid) (ɪ t e)) ((hi lo) (ɪ t ə)) ((mid hi) (ɛ t i)) ((mid mid) (ɛ t e)) ((mid lo) (ɛ t ə)) ((lo hi) (a t i)) ((lo mid) (a t e)) ((lo lo) (a t ə)))"
      ]
     },
     "execution_count": 39,
     "metadata": {},
     "output_type": "execute_result"
    }
   ],
   "source": [
    "figure2-inputs\n",
    ";(map vowel-heights figure2-inputs)\n",
    ";(relevant-output-words (first figure2-inputs))\n",
    ";(map trs (relevant-output-words (first figure2-inputs)))"
   ]
  },
  {
   "cell_type": "markdown",
   "metadata": {},
   "source": [
    "# Constraints"
   ]
  },
  {
   "cell_type": "markdown",
   "metadata": {},
   "source": [
    "A constraint is a function $f: \\Sigma^* \\times \\Sigma^* \\longrightarrow \\{0,1\\}$, where\n",
    " - the first string is the underlying representation.\n",
    " - the second string is the output candidate.\n",
    " - $0$ indicates that the constraint is satisfied.\n",
    " - $1$ indicates that the constraint is violated.\n",
    " \n",
    "(Insertion and deletion are ignored in this example context, so the $i$th input segment is assumed to correspond to the $i$th output segment and vice versa, and there are (by assumption) no other segment correspondences.)"
   ]
  },
  {
   "cell_type": "markdown",
   "metadata": {},
   "source": [
    "## Markedness"
   ]
  },
  {
   "cell_type": "code",
   "execution_count": 40,
   "metadata": {
    "ExecuteTime": {
     "end_time": "2018-12-21T22:54:28.348218Z",
     "start_time": "2018-12-21T22:54:28.147Z"
    }
   },
   "outputs": [],
   "source": [
    "; do not have \"ɪ\" (high RTR vowel)\n",
    ";(define (*I ur oc) (string-contains? \"ɪ\" oc)) ;requires rosette rather than rosette/safe\n",
    "(define (*I ur oc)\n",
    "  (if (member 'ɪ oc)\n",
    "      1;#f\n",
    "      0;#t\n",
    "      ))\n",
    "\n",
    "; do not have RTR and ATR vowels in the same word\n",
    "(define (HARMONY ur oc)\n",
    "  (define my-trs (trs oc))\n",
    "  (if (not (equal? (first my-trs) (second my-trs)))\n",
    "      1;#f\n",
    "      0;#t\n",
    "      ))\n",
    "\n",
    "(define *rtr-hi *I) ; name for this constraint in Goldwater & Johnson (2003)'s presentation of Wolof TR harmony\n",
    "(define GESTURE-contour HARMONY) ; name for this constraint in Goldwater & Johnson (2003)'s presentation of Wolof TR harmony\n",
    "\n",
    "; do not have \"ə\" (lo ATR vowel)\n",
    "(define (*rtr-lo ur oc) ;used in the Goldwater & Johnson (2003) presentation of Wolof TR harmony\n",
    "  (if (member 'ə oc)\n",
    "      1; #f\n",
    "      0; #t\n",
    "      ))"
   ]
  },
  {
   "cell_type": "markdown",
   "metadata": {},
   "source": [
    "## Faithfulness"
   ]
  },
  {
   "cell_type": "code",
   "execution_count": 41,
   "metadata": {
    "ExecuteTime": {
     "end_time": "2018-12-21T22:54:28.359263Z",
     "start_time": "2018-12-21T22:54:28.157Z"
    }
   },
   "outputs": [],
   "source": [
    "; assumes (like other code here) that no insertions or deletions are possible\n",
    "(define (make-faithfulness-con pred)\n",
    "  (λ (ur oc)\n",
    "    (define correspondence-relation (map list ur oc))\n",
    "    (define violations (map (λ (pair) (apply pred pair))\n",
    "                            correspondence-relation))\n",
    "    (define (my-or Bs) (foldl (λ (p q) (or p q)) #f Bs))\n",
    "    (if (my-or violations)\n",
    "        1;#f\n",
    "        0;#t\n",
    "        )))"
   ]
  },
  {
   "cell_type": "code",
   "execution_count": 42,
   "metadata": {
    "ExecuteTime": {
     "end_time": "2018-12-21T22:54:28.364295Z",
     "start_time": "2018-12-21T22:54:28.165Z"
    }
   },
   "outputs": [],
   "source": [
    "(define (rtr-change? i o)\n",
    "  (if (and (rtr? i) (not (rtr? o)))\n",
    "      #t\n",
    "      #f))\n",
    "\n",
    "(define (atr-change? i o)\n",
    "  (if (and (atr? i) (not (atr? o)))\n",
    "      #t\n",
    "      #f))"
   ]
  },
  {
   "cell_type": "code",
   "execution_count": 43,
   "metadata": {
    "ExecuteTime": {
     "end_time": "2018-12-21T22:54:28.367864Z",
     "start_time": "2018-12-21T22:54:28.174Z"
    }
   },
   "outputs": [],
   "source": [
    "; do not change RTR in the input to ATR in the output\n",
    "(define PARSE-rtr (make-faithfulness-con rtr-change?))\n",
    "\n",
    "; do not change ATR in the input to RTR in the output\n",
    "(define PARSE-atr (make-faithfulness-con atr-change?))"
   ]
  },
  {
   "cell_type": "markdown",
   "metadata": {},
   "source": [
    "## Constraint names and weights"
   ]
  },
  {
   "cell_type": "code",
   "execution_count": 44,
   "metadata": {
    "ExecuteTime": {
     "end_time": "2018-12-21T22:54:28.370941Z",
     "start_time": "2018-12-21T22:54:28.185Z"
    }
   },
   "outputs": [
    {
     "data": {
      "text/html": [
       "<code>'(*I PARSE-rtr HARMONY PARSE-atr)</code>"
      ],
      "text/plain": [
       "'(*I PARSE-rtr HARMONY PARSE-atr)"
      ]
     },
     "execution_count": 44,
     "metadata": {},
     "output_type": "execute_result"
    }
   ],
   "source": [
    "(define con-names (list '*I 'PARSE-rtr 'HARMONY 'PARSE-atr))\n",
    "con-names"
   ]
  },
  {
   "cell_type": "code",
   "execution_count": 45,
   "metadata": {
    "ExecuteTime": {
     "end_time": "2018-12-21T22:54:28.375289Z",
     "start_time": "2018-12-21T22:54:28.195Z"
    }
   },
   "outputs": [
    {
     "data": {
      "text/html": [
       "<code>'((*I #&lt;procedure:*I&gt;) (PARSE-rtr #&lt;procedure&gt;) (HARMONY #&lt;procedure:HARMONY&gt;) (PARSE-atr #&lt;procedure&gt;))</code>"
      ],
      "text/plain": [
       "'((*I #<procedure:*I>) (PARSE-rtr #<procedure>) (HARMONY #<procedure:HARMONY>) (PARSE-atr #<procedure>))"
      ]
     },
     "execution_count": 45,
     "metadata": {},
     "output_type": "execute_result"
    }
   ],
   "source": [
    "(define con (map list\n",
    "                 con-names\n",
    "                 (list *I PARSE-rtr HARMONY PARSE-atr)))\n",
    "con"
   ]
  },
  {
   "cell_type": "code",
   "execution_count": 46,
   "metadata": {
    "ExecuteTime": {
     "end_time": "2018-12-21T22:54:28.379773Z",
     "start_time": "2018-12-21T22:54:28.206Z"
    }
   },
   "outputs": [
    {
     "data": {
      "text/html": [
       "<code>'(*I PARSE-rtr HARMONY PARSE-atr *rtr-lo)</code>"
      ],
      "text/plain": [
       "'(*I PARSE-rtr HARMONY PARSE-atr *rtr-lo)"
      ]
     },
     "execution_count": 46,
     "metadata": {},
     "output_type": "execute_result"
    }
   ],
   "source": [
    "; Goldwater & Johnson (2003) constraints\n",
    "(define con-names-GJ (append con-names '(*rtr-lo)))\n",
    "con-names-GJ"
   ]
  },
  {
   "cell_type": "code",
   "execution_count": 47,
   "metadata": {
    "ExecuteTime": {
     "end_time": "2018-12-21T22:54:28.383357Z",
     "start_time": "2018-12-21T22:54:28.217Z"
    }
   },
   "outputs": [
    {
     "data": {
      "text/html": [
       "<code>'((*I #&lt;procedure:*I&gt;) (PARSE-rtr #&lt;procedure&gt;) (HARMONY #&lt;procedure:HARMONY&gt;) (PARSE-atr #&lt;procedure&gt;) (*rtr-lo #&lt;procedure:*rtr-lo&gt;))</code>"
      ],
      "text/plain": [
       "'((*I #<procedure:*I>) (PARSE-rtr #<procedure>) (HARMONY #<procedure:HARMONY>) (PARSE-atr #<procedure>) (*rtr-lo #<procedure:*rtr-lo>))"
      ]
     },
     "execution_count": 47,
     "metadata": {},
     "output_type": "execute_result"
    }
   ],
   "source": [
    "(define con-GJ (append con (list (list '*rtr-lo *rtr-lo))))\n",
    "con-GJ"
   ]
  },
  {
   "cell_type": "markdown",
   "metadata": {},
   "source": [
    "## Violation profiles, harmonies, and (in the case of MaxEnt OT) mapping probabilities"
   ]
  },
  {
   "cell_type": "markdown",
   "metadata": {},
   "source": [
    "### Violation profiles"
   ]
  },
  {
   "cell_type": "code",
   "execution_count": 48,
   "metadata": {
    "ExecuteTime": {
     "end_time": "2018-12-21T22:54:28.394135Z",
     "start_time": "2018-12-21T22:54:28.236Z"
    }
   },
   "outputs": [],
   "source": [
    "(define (violation-profile ur oc)\n",
    "  (map (λ (con-name) (apply (second (assoc con-name con))\n",
    "                            (list ur oc)))\n",
    "       con-names))"
   ]
  },
  {
   "cell_type": "code",
   "execution_count": 49,
   "metadata": {
    "ExecuteTime": {
     "end_time": "2018-12-21T22:54:28.400268Z",
     "start_time": "2018-12-21T22:54:28.249Z"
    }
   },
   "outputs": [],
   "source": [
    "(define (violation-profiles ur OCs)\n",
    "  (map list\n",
    "       OCs\n",
    "       (map (λ (oc) (violation-profile ur oc))\n",
    "            OCs)))"
   ]
  },
  {
   "cell_type": "code",
   "execution_count": 50,
   "metadata": {
    "ExecuteTime": {
     "end_time": "2018-12-21T22:54:28.402415Z",
     "start_time": "2018-12-21T22:54:28.263Z"
    }
   },
   "outputs": [
    {
     "data": {
      "text/html": [
       "<code>'(upper-left (e t e))</code>"
      ],
      "text/plain": [
       "'(upper-left (e t e))"
      ]
     },
     "execution_count": 50,
     "metadata": {},
     "output_type": "execute_result"
    }
   ],
   "source": [
    "(first figure1-inputs)"
   ]
  },
  {
   "cell_type": "code",
   "execution_count": 51,
   "metadata": {
    "ExecuteTime": {
     "end_time": "2018-12-21T22:54:28.407598Z",
     "start_time": "2018-12-21T22:54:28.277Z"
    }
   },
   "outputs": [
    {
     "data": {
      "text/html": [
       "<code>'(e t e)</code>"
      ],
      "text/plain": [
       "'(e t e)"
      ]
     },
     "execution_count": 51,
     "metadata": {},
     "output_type": "execute_result"
    }
   ],
   "source": [
    "(define ete (get 'upper-left figure1-inputs))\n",
    "ete"
   ]
  },
  {
   "cell_type": "code",
   "execution_count": 52,
   "metadata": {
    "ExecuteTime": {
     "end_time": "2018-12-21T22:54:28.420287Z",
     "start_time": "2018-12-21T22:54:28.292Z"
    }
   },
   "outputs": [
    {
     "data": {
      "text/html": [
       "<code>'((ɛ t e) (ɛ t ɛ) (e t e) (e t ɛ))</code>"
      ],
      "text/plain": [
       "'((ɛ t e) (ɛ t ɛ) (e t e) (e t ɛ))"
      ]
     },
     "execution_count": 52,
     "metadata": {},
     "output_type": "execute_result"
    }
   ],
   "source": [
    "(define ete-OCs (relevant-output-words ete))\n",
    "ete-OCs"
   ]
  },
  {
   "cell_type": "code",
   "execution_count": 53,
   "metadata": {
    "ExecuteTime": {
     "end_time": "2018-12-21T22:54:28.425312Z",
     "start_time": "2018-12-21T22:54:28.305Z"
    }
   },
   "outputs": [
    {
     "data": {
      "text/html": [
       "<code>'(0 0 0 0)</code>"
      ],
      "text/plain": [
       "'(0 0 0 0)"
      ]
     },
     "execution_count": 53,
     "metadata": {},
     "output_type": "execute_result"
    }
   ],
   "source": [
    "(violation-profile ete (third ete-OCs))"
   ]
  },
  {
   "cell_type": "code",
   "execution_count": 54,
   "metadata": {
    "ExecuteTime": {
     "end_time": "2018-12-21T22:54:28.428569Z",
     "start_time": "2018-12-21T22:54:28.316Z"
    }
   },
   "outputs": [
    {
     "data": {
      "text/html": [
       "<code>'(((ɛ t e) (0 0 1 1)) ((ɛ t ɛ) (0 0 0 1)) ((e t e) (0 0 0 0)) ((e t ɛ) (0 0 1 1)))</code>"
      ],
      "text/plain": [
       "'(((ɛ t e) (0 0 1 1)) ((ɛ t ɛ) (0 0 0 1)) ((e t e) (0 0 0 0)) ((e t ɛ) (0 0 1 1)))"
      ]
     },
     "execution_count": 54,
     "metadata": {},
     "output_type": "execute_result"
    }
   ],
   "source": [
    "(violation-profiles ete ete-OCs)"
   ]
  },
  {
   "cell_type": "code",
   "execution_count": 55,
   "metadata": {
    "ExecuteTime": {
     "end_time": "2018-12-21T22:54:28.432567Z",
     "start_time": "2018-12-21T22:54:28.329Z"
    }
   },
   "outputs": [
    {
     "name": "stdout",
     "output_type": "stream",
     "text": [
      "(ɛ t e)\t\t(0 0 1 1)\n",
      "(ɛ t ɛ)\t\t(0 0 0 1)\n",
      "(e t e)\t\t(0 0 0 0)\n",
      "(e t ɛ)\t\t(0 0 1 1)\n"
     ]
    }
   ],
   "source": [
    "(print-dict (violation-profiles ete ete-OCs))"
   ]
  },
  {
   "cell_type": "markdown",
   "metadata": {},
   "source": [
    "### Ranked constraints"
   ]
  },
  {
   "cell_type": "markdown",
   "metadata": {},
   "source": [
    "Categorically ranked \"classic OT\" constraints are modeled as 'leniently-composed' filters on $\\Sigma^*$ (see [Karttunen, 1998](https://arxiv.org/abs/cmp-lg/9804002))."
   ]
  },
  {
   "cell_type": "markdown",
   "metadata": {},
   "source": [
    "#### Composition"
   ]
  },
  {
   "cell_type": "code",
   "execution_count": 56,
   "metadata": {
    "ExecuteTime": {
     "end_time": "2018-12-21T22:54:28.438877Z",
     "start_time": "2018-12-21T22:54:28.353Z"
    }
   },
   "outputs": [
    {
     "data": {
      "text/html": [
       "<code>4</code>"
      ],
      "text/plain": [
       "4"
      ]
     },
     "execution_count": 56,
     "metadata": {},
     "output_type": "execute_result"
    }
   ],
   "source": [
    "(define add1 (λ (x) (+ x 1)))\n",
    "(add1 3)"
   ]
  },
  {
   "cell_type": "code",
   "execution_count": 57,
   "metadata": {
    "ExecuteTime": {
     "end_time": "2018-12-21T22:54:28.443689Z",
     "start_time": "2018-12-21T22:54:28.369Z"
    }
   },
   "outputs": [
    {
     "data": {
      "text/html": [
       "<code>6</code>"
      ],
      "text/plain": [
       "6"
      ]
     },
     "execution_count": 57,
     "metadata": {},
     "output_type": "execute_result"
    }
   ],
   "source": [
    "(define double (λ (x) (* x 2)))\n",
    "(double 3)"
   ]
  },
  {
   "cell_type": "code",
   "execution_count": 58,
   "metadata": {
    "ExecuteTime": {
     "end_time": "2018-12-21T22:54:28.447091Z",
     "start_time": "2018-12-21T22:54:28.384Z"
    }
   },
   "outputs": [
    {
     "data": {
      "text/html": [
       "<code>7</code>"
      ],
      "text/plain": [
       "7"
      ]
     },
     "execution_count": 58,
     "metadata": {},
     "output_type": "execute_result"
    }
   ],
   "source": [
    "(add1 (double 3))"
   ]
  },
  {
   "cell_type": "code",
   "execution_count": 59,
   "metadata": {
    "ExecuteTime": {
     "end_time": "2018-12-21T22:54:28.448573Z",
     "start_time": "2018-12-21T22:54:28.399Z"
    }
   },
   "outputs": [
    {
     "data": {
      "text/html": [
       "<code>8</code>"
      ],
      "text/plain": [
       "8"
      ]
     },
     "execution_count": 59,
     "metadata": {},
     "output_type": "execute_result"
    }
   ],
   "source": [
    "(double (add1 3))"
   ]
  },
  {
   "cell_type": "code",
   "execution_count": 60,
   "metadata": {
    "ExecuteTime": {
     "end_time": "2018-12-21T22:54:28.452226Z",
     "start_time": "2018-12-21T22:54:28.414Z"
    },
    "scrolled": true
   },
   "outputs": [
    {
     "data": {
      "text/html": [
       "<code>8</code>"
      ],
      "text/plain": [
       "8"
      ]
     },
     "execution_count": 60,
     "metadata": {},
     "output_type": "execute_result"
    }
   ],
   "source": [
    "((compose double add1) 3)"
   ]
  },
  {
   "cell_type": "markdown",
   "metadata": {},
   "source": [
    "`(compose g f)`, then, corresponds to $g \\circ f$, as you would expect given how infix operations are represented in Lisp's prefix notation."
   ]
  },
  {
   "cell_type": "markdown",
   "metadata": {},
   "source": [
    "#### Composition of filters"
   ]
  },
  {
   "cell_type": "code",
   "execution_count": 61,
   "metadata": {
    "ExecuteTime": {
     "end_time": "2018-12-21T22:54:28.454350Z",
     "start_time": "2018-12-21T22:54:28.436Z"
    }
   },
   "outputs": [
    {
     "data": {
      "text/html": [
       "<code>'(-4 0 3 10 12)</code>"
      ],
      "text/plain": [
       "'(-4 0 3 10 12)"
      ]
     },
     "execution_count": 61,
     "metadata": {},
     "output_type": "execute_result"
    }
   ],
   "source": [
    "(define Ns (list -4 0 3 10 12))\n",
    "Ns"
   ]
  },
  {
   "cell_type": "code",
   "execution_count": 62,
   "metadata": {
    "ExecuteTime": {
     "end_time": "2018-12-21T22:54:28.462602Z",
     "start_time": "2018-12-21T22:54:28.452Z"
    }
   },
   "outputs": [
    {
     "data": {
      "text/html": [
       "<code>#t</code>"
      ],
      "text/plain": [
       "#t"
      ]
     },
     "execution_count": 62,
     "metadata": {},
     "output_type": "execute_result"
    }
   ],
   "source": [
    "(even? 2)"
   ]
  },
  {
   "cell_type": "code",
   "execution_count": 63,
   "metadata": {
    "ExecuteTime": {
     "end_time": "2018-12-21T22:54:28.473421Z",
     "start_time": "2018-12-21T22:54:28.465Z"
    }
   },
   "outputs": [
    {
     "data": {
      "text/html": [
       "<code>'(-4 0 10 12)</code>"
      ],
      "text/plain": [
       "'(-4 0 10 12)"
      ]
     },
     "execution_count": 63,
     "metadata": {},
     "output_type": "execute_result"
    }
   ],
   "source": [
    "(define just-evens (filter even? Ns))\n",
    "just-evens"
   ]
  },
  {
   "cell_type": "code",
   "execution_count": 64,
   "metadata": {
    "ExecuteTime": {
     "end_time": "2018-12-21T22:54:28.486767Z",
     "start_time": "2018-12-21T22:54:28.477Z"
    }
   },
   "outputs": [
    {
     "data": {
      "text/html": [
       "<code>#f</code>"
      ],
      "text/plain": [
       "#f"
      ]
     },
     "execution_count": 64,
     "metadata": {},
     "output_type": "execute_result"
    }
   ],
   "source": [
    "(define (gt4? x) (> x 4))\n",
    "(gt4? 3)"
   ]
  },
  {
   "cell_type": "code",
   "execution_count": 65,
   "metadata": {
    "ExecuteTime": {
     "end_time": "2018-12-21T22:54:28.497722Z",
     "start_time": "2018-12-21T22:54:28.489Z"
    }
   },
   "outputs": [
    {
     "data": {
      "text/html": [
       "<code>'(10 12)</code>"
      ],
      "text/plain": [
       "'(10 12)"
      ]
     },
     "execution_count": 65,
     "metadata": {},
     "output_type": "execute_result"
    }
   ],
   "source": [
    "(define just-more-than-fours (filter gt4? Ns))\n",
    "just-more-than-fours"
   ]
  },
  {
   "cell_type": "code",
   "execution_count": 66,
   "metadata": {
    "ExecuteTime": {
     "end_time": "2018-12-21T22:54:28.509536Z",
     "start_time": "2018-12-21T22:54:28.501Z"
    }
   },
   "outputs": [
    {
     "data": {
      "text/html": [
       "<code>#f</code>"
      ],
      "text/plain": [
       "#f"
      ]
     },
     "execution_count": 66,
     "metadata": {},
     "output_type": "execute_result"
    }
   ],
   "source": [
    "(positive? -2)"
   ]
  },
  {
   "cell_type": "code",
   "execution_count": 67,
   "metadata": {
    "ExecuteTime": {
     "end_time": "2018-12-21T22:54:28.522214Z",
     "start_time": "2018-12-21T22:54:28.513Z"
    }
   },
   "outputs": [
    {
     "data": {
      "text/html": [
       "<code>'(3 10 12)</code>"
      ],
      "text/plain": [
       "'(3 10 12)"
      ]
     },
     "execution_count": 67,
     "metadata": {},
     "output_type": "execute_result"
    }
   ],
   "source": [
    "(define just-the-positives (filter positive? Ns))\n",
    "just-the-positives"
   ]
  },
  {
   "cell_type": "code",
   "execution_count": 68,
   "metadata": {
    "ExecuteTime": {
     "end_time": "2018-12-21T22:54:28.533928Z",
     "start_time": "2018-12-21T22:54:28.525Z"
    }
   },
   "outputs": [
    {
     "data": {
      "text/html": [
       "<code>'(10 12)</code>"
      ],
      "text/plain": [
       "'(10 12)"
      ]
     },
     "execution_count": 68,
     "metadata": {},
     "output_type": "execute_result"
    }
   ],
   "source": [
    "(filter positive? \n",
    "        (filter gt4? \n",
    "                (filter even? \n",
    "                        Ns)))"
   ]
  },
  {
   "cell_type": "code",
   "execution_count": 69,
   "metadata": {
    "ExecuteTime": {
     "end_time": "2018-12-21T22:54:28.547154Z",
     "start_time": "2018-12-21T22:54:28.537Z"
    }
   },
   "outputs": [],
   "source": [
    "(define (composable-filter pred) ;curried version of filter\n",
    "  (λ (lst) (filter pred lst)))\n",
    "(define filter-c composable-filter)"
   ]
  },
  {
   "cell_type": "code",
   "execution_count": 70,
   "metadata": {
    "ExecuteTime": {
     "end_time": "2018-12-21T22:54:28.561267Z",
     "start_time": "2018-12-21T22:54:28.551Z"
    }
   },
   "outputs": [
    {
     "data": {
      "text/html": [
       "<code>'(10 12)</code>"
      ],
      "text/plain": [
       "'(10 12)"
      ]
     },
     "execution_count": 70,
     "metadata": {},
     "output_type": "execute_result"
    }
   ],
   "source": [
    "((compose (filter-c positive?) (filter-c gt4?) (filter-c even?)) \n",
    " Ns)"
   ]
  },
  {
   "cell_type": "markdown",
   "metadata": {},
   "source": [
    "#### Lenient composition of filters"
   ]
  },
  {
   "cell_type": "code",
   "execution_count": 71,
   "metadata": {
    "ExecuteTime": {
     "end_time": "2018-12-21T22:54:28.576025Z",
     "start_time": "2018-12-21T22:54:28.564Z"
    }
   },
   "outputs": [],
   "source": [
    "(define (lenient-filter pred)\n",
    "  (λ (lst) (let ([filtered-result (filter pred lst)])\n",
    "             (if (and (not (null? lst))\n",
    "                      (null? filtered-result))\n",
    "                 lst ;if the input wasn't empty and the filtered result is, return the input\n",
    "                 filtered-result ;otherwise return the filtered result\n",
    "                 ))))\n",
    "(define filter-l lenient-filter)"
   ]
  },
  {
   "cell_type": "code",
   "execution_count": 72,
   "metadata": {
    "ExecuteTime": {
     "end_time": "2018-12-21T22:54:28.587097Z",
     "start_time": "2018-12-21T22:54:28.578Z"
    }
   },
   "outputs": [
    {
     "data": {
      "text/html": [
       "<code>'(-4 0 3)</code>"
      ],
      "text/plain": [
       "'(-4 0 3)"
      ]
     },
     "execution_count": 72,
     "metadata": {},
     "output_type": "execute_result"
    }
   ],
   "source": [
    "(define (lt8? x) (< x 8))\n",
    "(filter lt8? Ns)"
   ]
  },
  {
   "cell_type": "code",
   "execution_count": 73,
   "metadata": {
    "ExecuteTime": {
     "end_time": "2018-12-21T22:54:28.597898Z",
     "start_time": "2018-12-21T22:54:28.591Z"
    }
   },
   "outputs": [
    {
     "data": {
      "text/html": [
       "<code>'(10 12)</code>"
      ],
      "text/plain": [
       "'(10 12)"
      ]
     },
     "execution_count": 73,
     "metadata": {},
     "output_type": "execute_result"
    }
   ],
   "source": [
    "((compose (filter-c positive?) (filter-c gt4?) (filter-c even?)) \n",
    " Ns)"
   ]
  },
  {
   "cell_type": "code",
   "execution_count": 74,
   "metadata": {
    "ExecuteTime": {
     "end_time": "2018-12-21T22:54:28.606516Z",
     "start_time": "2018-12-21T22:54:28.602Z"
    }
   },
   "outputs": [
    {
     "data": {
      "text/html": [
       "<code>'()</code>"
      ],
      "text/plain": [
       "'()"
      ]
     },
     "execution_count": 74,
     "metadata": {},
     "output_type": "execute_result"
    }
   ],
   "source": [
    "((compose (filter-c lt8?) (filter-c positive?) (filter-c gt4?) (filter-c even?)) \n",
    " Ns)"
   ]
  },
  {
   "cell_type": "code",
   "execution_count": 75,
   "metadata": {
    "ExecuteTime": {
     "end_time": "2018-12-21T22:54:28.617299Z",
     "start_time": "2018-12-21T22:54:28.613Z"
    }
   },
   "outputs": [
    {
     "data": {
      "text/html": [
       "<code>'(10 12)</code>"
      ],
      "text/plain": [
       "'(10 12)"
      ]
     },
     "execution_count": 75,
     "metadata": {},
     "output_type": "execute_result"
    }
   ],
   "source": [
    "((compose (filter-l lt8?) (filter-l positive?) (filter-l gt4?) (filter-l even?)) \n",
    " Ns)"
   ]
  },
  {
   "cell_type": "markdown",
   "metadata": {},
   "source": [
    "#### Categorical constraints as leniently-composed filters of a set of `ur` $\\rightarrow$ `oc` mappings"
   ]
  },
  {
   "cell_type": "markdown",
   "metadata": {},
   "source": [
    "Recall that constraints are defined here as functions from $\\Sigma^* \\times \\Sigma^* \\rightarrow \\{0,1\\}$, where $1$ indicates that an underlying representation-output candidate pair violate the constraint and a $0$ indicates that the pair satisfies the constraint:"
   ]
  },
  {
   "cell_type": "code",
   "execution_count": 76,
   "metadata": {
    "ExecuteTime": {
     "end_time": "2018-12-21T22:54:28.629962Z",
     "start_time": "2018-12-21T22:54:28.626Z"
    }
   },
   "outputs": [
    {
     "data": {
      "text/html": [
       "<code>'(a t ɪ)</code>"
      ],
      "text/plain": [
       "'(a t ɪ)"
      ]
     },
     "execution_count": 76,
     "metadata": {},
     "output_type": "execute_result"
    }
   ],
   "source": [
    "(third all-wordforms)"
   ]
  },
  {
   "cell_type": "code",
   "execution_count": 77,
   "metadata": {
    "ExecuteTime": {
     "end_time": "2018-12-21T22:54:28.640865Z",
     "start_time": "2018-12-21T22:54:28.637Z"
    }
   },
   "outputs": [
    {
     "data": {
      "text/html": [
       "<code>1</code>"
      ],
      "text/plain": [
       "1"
      ]
     },
     "execution_count": 77,
     "metadata": {},
     "output_type": "execute_result"
    }
   ],
   "source": [
    "(*I (third all-wordforms) (third all-wordforms))"
   ]
  },
  {
   "cell_type": "code",
   "execution_count": 78,
   "metadata": {
    "ExecuteTime": {
     "end_time": "2018-12-21T22:54:28.652594Z",
     "start_time": "2018-12-21T22:54:28.647Z"
    }
   },
   "outputs": [
    {
     "data": {
      "text/html": [
       "<code>'(((a t ɪ) (a t ɪ)) ((a t e) (a t ɪ)) ((a t e) (a t e)))</code>"
      ],
      "text/plain": [
       "'(((a t ɪ) (a t ɪ)) ((a t e) (a t ɪ)) ((a t e) (a t e)))"
      ]
     },
     "execution_count": 78,
     "metadata": {},
     "output_type": "execute_result"
    }
   ],
   "source": [
    "(define Cs (list (list (third all-wordforms) (third all-wordforms))\n",
    "                 (list (first all-wordforms) (third all-wordforms))\n",
    "                 (list (first all-wordforms) (first all-wordforms))))\n",
    "Cs"
   ]
  },
  {
   "cell_type": "code",
   "execution_count": 79,
   "metadata": {
    "ExecuteTime": {
     "end_time": "2018-12-21T22:54:28.663435Z",
     "start_time": "2018-12-21T22:54:28.658Z"
    }
   },
   "outputs": [],
   "source": [
    "(define (violation-function->filter-predicate constraint-violation-function)\n",
    "  (λ (ur-oc-pair)\n",
    "     (let ([result (apply constraint-violation-function ur-oc-pair)])\n",
    "       (if (equal? result 0)\n",
    "           #t\n",
    "           #f))))\n",
    "(define vf->fp violation-function->filter-predicate)"
   ]
  },
  {
   "cell_type": "code",
   "execution_count": 80,
   "metadata": {
    "ExecuteTime": {
     "end_time": "2018-12-21T22:54:28.673188Z",
     "start_time": "2018-12-21T22:54:28.669Z"
    }
   },
   "outputs": [
    {
     "data": {
      "text/html": [
       "<code>'(((a t e) (a t e)))</code>"
      ],
      "text/plain": [
       "'(((a t e) (a t e)))"
      ]
     },
     "execution_count": 80,
     "metadata": {},
     "output_type": "execute_result"
    }
   ],
   "source": [
    "(filter (violation-function->filter-predicate *I) Cs)"
   ]
  },
  {
   "cell_type": "code",
   "execution_count": 81,
   "metadata": {
    "ExecuteTime": {
     "end_time": "2018-12-21T22:54:28.683153Z",
     "start_time": "2018-12-21T22:54:28.679Z"
    }
   },
   "outputs": [
    {
     "data": {
      "text/html": [
       "<code>'(ɪ t e)</code>"
      ],
      "text/plain": [
       "'(ɪ t e)"
      ]
     },
     "execution_count": 81,
     "metadata": {},
     "output_type": "execute_result"
    }
   ],
   "source": [
    "(define Ite (get 'upper-right figure1-inputs))\n",
    "Ite"
   ]
  },
  {
   "cell_type": "code",
   "execution_count": 82,
   "metadata": {
    "ExecuteTime": {
     "end_time": "2018-12-21T22:54:28.714982Z",
     "start_time": "2018-12-21T22:54:28.690Z"
    }
   },
   "outputs": [
    {
     "data": {
      "text/html": [
       "<code>'((i t e) (ɪ t e) (i t ɛ) (ɪ t ɛ))</code>"
      ],
      "text/plain": [
       "'((i t e) (ɪ t e) (i t ɛ) (ɪ t ɛ))"
      ]
     },
     "execution_count": 82,
     "metadata": {},
     "output_type": "execute_result"
    }
   ],
   "source": [
    "(define Ite-OCs (map second \n",
    "                     (get-figure1-OCs Ite)))\n",
    "Ite-OCs"
   ]
  },
  {
   "cell_type": "code",
   "execution_count": 83,
   "metadata": {
    "ExecuteTime": {
     "end_time": "2018-12-21T22:54:28.717149Z",
     "start_time": "2018-12-21T22:54:28.700Z"
    }
   },
   "outputs": [
    {
     "data": {
      "text/html": [
       "<code>'(((ɪ t e) (i t e)) ((ɪ t e) (ɪ t e)) ((ɪ t e) (i t ɛ)) ((ɪ t e) (ɪ t ɛ)))</code>"
      ],
      "text/plain": [
       "'(((ɪ t e) (i t e)) ((ɪ t e) (ɪ t e)) ((ɪ t e) (i t ɛ)) ((ɪ t e) (ɪ t ɛ)))"
      ]
     },
     "execution_count": 83,
     "metadata": {},
     "output_type": "execute_result"
    }
   ],
   "source": [
    "(define Ite-mappings (product (list Ite) Ite-OCs))\n",
    "Ite-mappings"
   ]
  },
  {
   "cell_type": "code",
   "execution_count": 84,
   "metadata": {
    "ExecuteTime": {
     "end_time": "2018-12-21T22:54:28.719758Z",
     "start_time": "2018-12-21T22:54:28.711Z"
    }
   },
   "outputs": [
    {
     "data": {
      "text/html": [
       "<code>'((i t e) (i t ɛ))</code>"
      ],
      "text/plain": [
       "'((i t e) (i t ɛ))"
      ]
     },
     "execution_count": 84,
     "metadata": {},
     "output_type": "execute_result"
    }
   ],
   "source": [
    "(map second \n",
    "     (filter (vf->fp *I) \n",
    "             Ite-mappings))"
   ]
  },
  {
   "cell_type": "code",
   "execution_count": 85,
   "metadata": {
    "ExecuteTime": {
     "end_time": "2018-12-21T22:54:28.729193Z",
     "start_time": "2018-12-21T22:54:28.723Z"
    }
   },
   "outputs": [],
   "source": [
    "(define (violation-function->lenient-filter vf)\n",
    "  (filter-l (vf->fp vf)))\n",
    "(define vf->lf violation-function->lenient-filter)"
   ]
  },
  {
   "cell_type": "code",
   "execution_count": 86,
   "metadata": {
    "ExecuteTime": {
     "end_time": "2018-12-21T22:54:28.737578Z",
     "start_time": "2018-12-21T22:54:28.734Z"
    }
   },
   "outputs": [
    {
     "data": {
      "text/html": [
       "<code>'(*I PARSE-rtr HARMONY PARSE-atr)</code>"
      ],
      "text/plain": [
       "'(*I PARSE-rtr HARMONY PARSE-atr)"
      ]
     },
     "execution_count": 86,
     "metadata": {},
     "output_type": "execute_result"
    }
   ],
   "source": [
    "con-names"
   ]
  },
  {
   "cell_type": "code",
   "execution_count": 87,
   "metadata": {
    "ExecuteTime": {
     "end_time": "2018-12-21T22:54:28.748924Z",
     "start_time": "2018-12-21T22:54:28.745Z"
    }
   },
   "outputs": [
    {
     "data": {
      "text/html": [
       "<code>'(#&lt;procedure:*I&gt; #&lt;procedure&gt; #&lt;procedure:HARMONY&gt; #&lt;procedure&gt;)</code>"
      ],
      "text/plain": [
       "'(#<procedure:*I> #<procedure> #<procedure:HARMONY> #<procedure>)"
      ]
     },
     "execution_count": 87,
     "metadata": {},
     "output_type": "execute_result"
    }
   ],
   "source": [
    "(define figure1-constraint-ordering (map second con))\n",
    "figure1-constraint-ordering"
   ]
  },
  {
   "cell_type": "code",
   "execution_count": 88,
   "metadata": {
    "ExecuteTime": {
     "end_time": "2018-12-21T22:54:28.758987Z",
     "start_time": "2018-12-21T22:54:28.756Z"
    }
   },
   "outputs": [
    {
     "data": {
      "text/html": [
       "<code>'((*I #&lt;procedure:*I&gt;) (PARSE-rtr #&lt;procedure&gt;) (HARMONY #&lt;procedure:HARMONY&gt;) (PARSE-atr #&lt;procedure&gt;) (*rtr-lo #&lt;procedure:*rtr-lo&gt;))</code>"
      ],
      "text/plain": [
       "'((*I #<procedure:*I>) (PARSE-rtr #<procedure>) (HARMONY #<procedure:HARMONY>) (PARSE-atr #<procedure>) (*rtr-lo #<procedure:*rtr-lo>))"
      ]
     },
     "execution_count": 88,
     "metadata": {},
     "output_type": "execute_result"
    }
   ],
   "source": [
    "con-GJ"
   ]
  },
  {
   "cell_type": "code",
   "execution_count": 89,
   "metadata": {
    "ExecuteTime": {
     "end_time": "2018-12-21T22:54:28.770831Z",
     "start_time": "2018-12-21T22:54:28.767Z"
    }
   },
   "outputs": [
    {
     "data": {
      "text/html": [
       "<code>'(#&lt;procedure:*I&gt; #&lt;procedure&gt; #&lt;procedure:HARMONY&gt; #&lt;procedure&gt; #&lt;procedure:*rtr-lo&gt;)</code>"
      ],
      "text/plain": [
       "'(#<procedure:*I> #<procedure> #<procedure:HARMONY> #<procedure> #<procedure:*rtr-lo>)"
      ]
     },
     "execution_count": 89,
     "metadata": {},
     "output_type": "execute_result"
    }
   ],
   "source": [
    "(define figure1-constraint-ordering-GJ (map second con-GJ))\n",
    "figure1-constraint-ordering-GJ"
   ]
  },
  {
   "cell_type": "code",
   "execution_count": 90,
   "metadata": {
    "ExecuteTime": {
     "end_time": "2018-12-21T22:54:28.787073Z",
     "start_time": "2018-12-21T22:54:28.777Z"
    }
   },
   "outputs": [
    {
     "data": {
      "text/html": [
       "<code>'((i t e))</code>"
      ],
      "text/plain": [
       "'((i t e))"
      ]
     },
     "execution_count": 90,
     "metadata": {},
     "output_type": "execute_result"
    }
   ],
   "source": [
    "(map second\n",
    "     ((compose (vf->lf *I)\n",
    "               (vf->lf PARSE-rtr)\n",
    "               (vf->lf HARMONY)\n",
    "               (vf->lf PARSE-atr))\n",
    "      Ite-mappings))"
   ]
  },
  {
   "cell_type": "code",
   "execution_count": 91,
   "metadata": {
    "ExecuteTime": {
     "end_time": "2018-12-21T22:54:28.793619Z",
     "start_time": "2018-12-21T22:54:28.789Z"
    }
   },
   "outputs": [
    {
     "data": {
      "text/html": [
       "<code>'((i t e))</code>"
      ],
      "text/plain": [
       "'((i t e))"
      ]
     },
     "execution_count": 91,
     "metadata": {},
     "output_type": "execute_result"
    }
   ],
   "source": [
    "(map second\n",
    "     ((apply compose\n",
    "             (map vf->lf\n",
    "                  figure1-constraint-ordering))\n",
    "      Ite-mappings))"
   ]
  },
  {
   "cell_type": "code",
   "execution_count": 92,
   "metadata": {
    "ExecuteTime": {
     "end_time": "2018-12-21T22:54:28.805106Z",
     "start_time": "2018-12-21T22:54:28.799Z"
    }
   },
   "outputs": [],
   "source": [
    "(define (eval/OT ur constraint-ordering)\n",
    "  (define OCs (relevant-output-words ur))\n",
    "  (define mappings (product (list ur) OCs))\n",
    "  (define composition-ordering (reverse constraint-ordering))\n",
    "  (define filters (map vf->lf composition-ordering))\n",
    "  (define results (map second\n",
    "                       ((apply compose filters) mappings)))\n",
    "  (first results))"
   ]
  },
  {
   "cell_type": "code",
   "execution_count": 93,
   "metadata": {
    "ExecuteTime": {
     "end_time": "2018-12-21T22:54:28.819546Z",
     "start_time": "2018-12-21T22:54:28.810Z"
    }
   },
   "outputs": [
    {
     "data": {
      "text/html": [
       "<code>'(i t e)</code>"
      ],
      "text/plain": [
       "'(i t e)"
      ]
     },
     "execution_count": 93,
     "metadata": {},
     "output_type": "execute_result"
    }
   ],
   "source": [
    "(eval/OT Ite figure1-constraint-ordering)"
   ]
  },
  {
   "cell_type": "code",
   "execution_count": 94,
   "metadata": {
    "ExecuteTime": {
     "end_time": "2018-12-21T22:54:28.830671Z",
     "start_time": "2018-12-21T22:54:28.821Z"
    }
   },
   "outputs": [
    {
     "data": {
      "text/html": [
       "<code>'(i t e)</code>"
      ],
      "text/plain": [
       "'(i t e)"
      ]
     },
     "execution_count": 94,
     "metadata": {},
     "output_type": "execute_result"
    }
   ],
   "source": [
    "(eval/OT Ite figure1-constraint-ordering-GJ)"
   ]
  },
  {
   "cell_type": "code",
   "execution_count": 95,
   "metadata": {
    "ExecuteTime": {
     "end_time": "2018-12-21T22:54:28.844685Z",
     "start_time": "2018-12-21T22:54:28.832Z"
    }
   },
   "outputs": [
    {
     "data": {
      "text/html": [
       "<code>'((1) (1 2) (1 2 3) (1 2 3 4))</code>"
      ],
      "text/plain": [
       "'((1) (1 2) (1 2 3) (1 2 3 4))"
      ]
     },
     "execution_count": 95,
     "metadata": {},
     "output_type": "execute_result"
    }
   ],
   "source": [
    "(define (list-prefix lst l)\n",
    "  (if (or (zero? l) (null? lst)) \n",
    "      '()\n",
    "      (cons (first lst) \n",
    "            (list-prefix (rest lst) (- l 1)))))\n",
    "\n",
    "(define (list-prefixes lst)\n",
    "  (map (λ (k) (list-prefix lst k))\n",
    "       (range (+ 1 (length lst)))))\n",
    "\n",
    "(rest (list-prefixes '(1 2 3 4)))"
   ]
  },
  {
   "cell_type": "code",
   "execution_count": 96,
   "metadata": {
    "ExecuteTime": {
     "end_time": "2018-12-21T22:54:28.851441Z",
     "start_time": "2018-12-21T22:54:28.843Z"
    }
   },
   "outputs": [],
   "source": [
    "(define (filter-profile ur constraint-ordering)\n",
    "  (define OCs (relevant-output-words ur))\n",
    "  (define mappings (product (list ur) OCs))\n",
    "  (define filters (map vf->lf constraint-ordering))\n",
    "  (define incremental-filters (rest (list-prefixes filters)))\n",
    "  (define incremental-results (map (λ (filter-seq)\n",
    "                                      (map second\n",
    "                                           ((apply compose (reverse filter-seq)) mappings)))\n",
    "                                   incremental-filters))\n",
    "  incremental-results)"
   ]
  },
  {
   "cell_type": "code",
   "execution_count": 97,
   "metadata": {
    "ExecuteTime": {
     "end_time": "2018-12-21T22:54:28.868040Z",
     "start_time": "2018-12-21T22:54:28.855Z"
    }
   },
   "outputs": [
    {
     "data": {
      "text/html": [
       "<code>'((0 ((i t e) (i t ɛ))) (1 ((i t e) (i t ɛ))) (2 ((i t e))) (3 ((i t e))) (4 ((i t e))))</code>"
      ],
      "text/plain": [
       "'((0 ((i t e) (i t ɛ))) (1 ((i t e) (i t ɛ))) (2 ((i t e))) (3 ((i t e))) (4 ((i t e))))"
      ]
     },
     "execution_count": 97,
     "metadata": {},
     "output_type": "execute_result"
    }
   ],
   "source": [
    "(define fp (filter-profile Ite figure1-constraint-ordering-GJ))\n",
    "(map list\n",
    "     (range (length fp))\n",
    "     fp)"
   ]
  },
  {
   "cell_type": "code",
   "execution_count": 98,
   "metadata": {
    "ExecuteTime": {
     "end_time": "2018-12-21T22:54:28.870533Z",
     "start_time": "2018-12-21T22:54:28.866Z"
    }
   },
   "outputs": [],
   "source": [
    "(define fp-d (map list\n",
    "                  (range (length fp))\n",
    "                  fp))"
   ]
  },
  {
   "cell_type": "code",
   "execution_count": 99,
   "metadata": {
    "ExecuteTime": {
     "end_time": "2018-12-21T22:54:28.881073Z",
     "start_time": "2018-12-21T22:54:28.878Z"
    }
   },
   "outputs": [
    {
     "name": "stdout",
     "output_type": "stream",
     "text": [
      "0\t\t((i t e) (i t ɛ))\n",
      "1\t\t((i t e) (i t ɛ))\n",
      "2\t\t((i t e))\n",
      "3\t\t((i t e))\n",
      "4\t\t((i t e))\n"
     ]
    }
   ],
   "source": [
    "(print-dict fp-d)"
   ]
  },
  {
   "cell_type": "code",
   "execution_count": 100,
   "metadata": {
    "ExecuteTime": {
     "end_time": "2018-12-21T22:54:28.904127Z",
     "start_time": "2018-12-21T22:54:28.891Z"
    }
   },
   "outputs": [
    {
     "data": {
      "text/html": [
       "<code>'(i t e)</code>"
      ],
      "text/plain": [
       "'(i t e)"
      ]
     },
     "execution_count": 100,
     "metadata": {},
     "output_type": "execute_result"
    }
   ],
   "source": [
    "(eval/OT Ite (list-prefix figure1-constraint-ordering-GJ 1))"
   ]
  },
  {
   "cell_type": "code",
   "execution_count": 101,
   "metadata": {
    "ExecuteTime": {
     "end_time": "2018-12-21T22:54:28.909261Z",
     "start_time": "2018-12-21T22:54:28.904Z"
    }
   },
   "outputs": [
    {
     "data": {
      "text/html": [
       "<code>'(#&lt;procedure:*I&gt; #&lt;procedure&gt;)</code>"
      ],
      "text/plain": [
       "'(#<procedure:*I> #<procedure>)"
      ]
     },
     "execution_count": 101,
     "metadata": {},
     "output_type": "execute_result"
    }
   ],
   "source": [
    "(list-prefix figure1-constraint-ordering-GJ 2)"
   ]
  },
  {
   "cell_type": "code",
   "execution_count": 102,
   "metadata": {
    "ExecuteTime": {
     "end_time": "2018-12-21T22:54:28.924847Z",
     "start_time": "2018-12-21T22:54:28.915Z"
    }
   },
   "outputs": [
    {
     "data": {
      "text/html": [
       "<code>'(i t e)</code>"
      ],
      "text/plain": [
       "'(i t e)"
      ]
     },
     "execution_count": 102,
     "metadata": {},
     "output_type": "execute_result"
    }
   ],
   "source": [
    "(eval/OT Ite (list-prefix figure1-constraint-ordering-GJ 2))"
   ]
  },
  {
   "cell_type": "code",
   "execution_count": 103,
   "metadata": {
    "ExecuteTime": {
     "end_time": "2018-12-21T22:54:28.936095Z",
     "start_time": "2018-12-21T22:54:28.927Z"
    }
   },
   "outputs": [
    {
     "data": {
      "text/html": [
       "<code>'(i t e)</code>"
      ],
      "text/plain": [
       "'(i t e)"
      ]
     },
     "execution_count": 103,
     "metadata": {},
     "output_type": "execute_result"
    }
   ],
   "source": [
    "(eval/OT Ite (list-prefix figure1-constraint-ordering-GJ 3))"
   ]
  },
  {
   "cell_type": "code",
   "execution_count": 104,
   "metadata": {
    "ExecuteTime": {
     "end_time": "2018-12-21T22:54:28.947585Z",
     "start_time": "2018-12-21T22:54:28.938Z"
    }
   },
   "outputs": [
    {
     "data": {
      "text/html": [
       "<code>'(i t e)</code>"
      ],
      "text/plain": [
       "'(i t e)"
      ]
     },
     "execution_count": 104,
     "metadata": {},
     "output_type": "execute_result"
    }
   ],
   "source": [
    "(eval/OT Ite (list-prefix figure1-constraint-ordering-GJ 4))"
   ]
  },
  {
   "cell_type": "code",
   "execution_count": 105,
   "metadata": {
    "ExecuteTime": {
     "end_time": "2018-12-21T22:54:28.952718Z",
     "start_time": "2018-12-21T22:54:28.950Z"
    }
   },
   "outputs": [
    {
     "data": {
      "text/html": [
       "<code>'(((ɪ t e) (i t e)) ((ɪ t e) (ɪ t e)) ((ɪ t e) (i t ɛ)) ((ɪ t e) (ɪ t ɛ)))</code>"
      ],
      "text/plain": [
       "'(((ɪ t e) (i t e)) ((ɪ t e) (ɪ t e)) ((ɪ t e) (i t ɛ)) ((ɪ t e) (ɪ t ɛ)))"
      ]
     },
     "execution_count": 105,
     "metadata": {},
     "output_type": "execute_result"
    }
   ],
   "source": [
    "Ite-mappings"
   ]
  },
  {
   "cell_type": "code",
   "execution_count": 106,
   "metadata": {
    "ExecuteTime": {
     "end_time": "2018-12-21T22:54:28.964820Z",
     "start_time": "2018-12-21T22:54:28.961Z"
    }
   },
   "outputs": [
    {
     "data": {
      "text/html": [
       "<code>'((i t e) (i t ɛ))</code>"
      ],
      "text/plain": [
       "'((i t e) (i t ɛ))"
      ]
     },
     "execution_count": 106,
     "metadata": {},
     "output_type": "execute_result"
    }
   ],
   "source": [
    "(map second\n",
    "     ((vf->lf *I) Ite-mappings))"
   ]
  },
  {
   "cell_type": "code",
   "execution_count": 107,
   "metadata": {
    "ExecuteTime": {
     "end_time": "2018-12-21T22:54:28.976513Z",
     "start_time": "2018-12-21T22:54:28.972Z"
    }
   },
   "outputs": [
    {
     "data": {
      "text/html": [
       "<code>'((i t e) (i t ɛ))</code>"
      ],
      "text/plain": [
       "'((i t e) (i t ɛ))"
      ]
     },
     "execution_count": 107,
     "metadata": {},
     "output_type": "execute_result"
    }
   ],
   "source": [
    "(map second\n",
    "     ((vf->lf PARSE-rtr) ((vf->lf *I) \n",
    "                          Ite-mappings)))"
   ]
  },
  {
   "cell_type": "code",
   "execution_count": 108,
   "metadata": {
    "ExecuteTime": {
     "end_time": "2018-12-21T22:54:28.988334Z",
     "start_time": "2018-12-21T22:54:28.984Z"
    }
   },
   "outputs": [
    {
     "data": {
      "text/html": [
       "<code>'((i t e))</code>"
      ],
      "text/plain": [
       "'((i t e))"
      ]
     },
     "execution_count": 108,
     "metadata": {},
     "output_type": "execute_result"
    }
   ],
   "source": [
    "(map second\n",
    "     ((vf->lf HARMONY)\n",
    "      ((vf->lf PARSE-rtr) \n",
    "       ((vf->lf *I) \n",
    "        Ite-mappings))))"
   ]
  },
  {
   "cell_type": "code",
   "execution_count": 109,
   "metadata": {
    "ExecuteTime": {
     "end_time": "2018-12-21T22:54:28.999998Z",
     "start_time": "2018-12-21T22:54:28.995Z"
    }
   },
   "outputs": [
    {
     "data": {
      "text/html": [
       "<code>'((i t e))</code>"
      ],
      "text/plain": [
       "'((i t e))"
      ]
     },
     "execution_count": 109,
     "metadata": {},
     "output_type": "execute_result"
    }
   ],
   "source": [
    "(map second\n",
    "     ((vf->lf PARSE-atr)\n",
    "      ((vf->lf HARMONY)\n",
    "       ((vf->lf PARSE-rtr) \n",
    "        ((vf->lf *I) \n",
    "         Ite-mappings)))))"
   ]
  },
  {
   "cell_type": "code",
   "execution_count": 110,
   "metadata": {
    "ExecuteTime": {
     "end_time": "2018-12-21T22:54:29.012412Z",
     "start_time": "2018-12-21T22:54:29.007Z"
    }
   },
   "outputs": [
    {
     "data": {
      "text/html": [
       "<code>'((i t e))</code>"
      ],
      "text/plain": [
       "'((i t e))"
      ]
     },
     "execution_count": 110,
     "metadata": {},
     "output_type": "execute_result"
    }
   ],
   "source": [
    "(map second\n",
    "     ((vf->lf *rtr-lo)\n",
    "      ((vf->lf PARSE-atr)\n",
    "       ((vf->lf HARMONY)\n",
    "        ((vf->lf PARSE-rtr) \n",
    "         ((vf->lf *I) \n",
    "          Ite-mappings))))))"
   ]
  },
  {
   "cell_type": "code",
   "execution_count": 111,
   "metadata": {
    "ExecuteTime": {
     "end_time": "2018-12-21T22:54:29.028404Z",
     "start_time": "2018-12-21T22:54:29.019Z"
    }
   },
   "outputs": [
    {
     "data": {
      "text/html": [
       "<code>'((i t e) (i t ɛ))</code>"
      ],
      "text/plain": [
       "'((i t e) (i t ɛ))"
      ]
     },
     "execution_count": 111,
     "metadata": {},
     "output_type": "execute_result"
    }
   ],
   "source": [
    "(map second\n",
    "     ((apply compose \n",
    "        (reverse (map vf->lf \n",
    "                      (list-prefix figure1-constraint-ordering-GJ\n",
    "                                   2))))\n",
    "      Ite-mappings))"
   ]
  },
  {
   "cell_type": "markdown",
   "metadata": {},
   "source": [
    "### Harmony scores"
   ]
  },
  {
   "cell_type": "code",
   "execution_count": 112,
   "metadata": {
    "ExecuteTime": {
     "end_time": "2018-12-21T22:54:29.037127Z",
     "start_time": "2018-12-21T22:54:29.032Z"
    }
   },
   "outputs": [],
   "source": [
    "(define (harmony-score ur oc weights)\n",
    "  (dot-product (violation-profile ur oc)\n",
    "               (map second weights)))"
   ]
  },
  {
   "cell_type": "code",
   "execution_count": 113,
   "metadata": {
    "ExecuteTime": {
     "end_time": "2018-12-21T22:54:29.048441Z",
     "start_time": "2018-12-21T22:54:29.044Z"
    }
   },
   "outputs": [],
   "source": [
    "(define (harmony-scores ur OCs weights)\n",
    "  (map list\n",
    "       OCs\n",
    "       (map (λ (oc) (harmony-score ur oc weights))\n",
    "            OCs)))"
   ]
  },
  {
   "cell_type": "code",
   "execution_count": 114,
   "metadata": {
    "ExecuteTime": {
     "end_time": "2018-12-21T22:54:29.060042Z",
     "start_time": "2018-12-21T22:54:29.056Z"
    }
   },
   "outputs": [
    {
     "data": {
      "text/html": [
       "<code>'((*I -64) (PARSE-rtr -32) (HARMONY -16) (PARSE-atr -8))</code>"
      ],
      "text/plain": [
       "'((*I -64) (PARSE-rtr -32) (HARMONY -16) (PARSE-atr -8))"
      ]
     },
     "execution_count": 114,
     "metadata": {},
     "output_type": "execute_result"
    }
   ],
   "source": [
    "(define weights-figure1 (map list\n",
    "                             con-names\n",
    "                             (list -64 -32 -16 -8)))\n",
    "weights-figure1"
   ]
  },
  {
   "cell_type": "code",
   "execution_count": 115,
   "metadata": {
    "ExecuteTime": {
     "end_time": "2018-12-21T22:54:29.071739Z",
     "start_time": "2018-12-21T22:54:29.068Z"
    }
   },
   "outputs": [
    {
     "data": {
      "text/html": [
       "<code>'(e t e)</code>"
      ],
      "text/plain": [
       "'(e t e)"
      ]
     },
     "execution_count": 115,
     "metadata": {},
     "output_type": "execute_result"
    }
   ],
   "source": [
    "(get 'upper-left figure1-inputs)"
   ]
  },
  {
   "cell_type": "code",
   "execution_count": 116,
   "metadata": {
    "ExecuteTime": {
     "end_time": "2018-12-21T22:54:29.110289Z",
     "start_time": "2018-12-21T22:54:29.080Z"
    }
   },
   "outputs": [
    {
     "name": "stdout",
     "output_type": "stream",
     "text": [
      "(e t e)\t\t0\n",
      "(ɛ t e)\t\t-24\n",
      "(e t ɛ)\t\t-24\n",
      "(ɛ t ɛ)\t\t-8\n"
     ]
    }
   ],
   "source": [
    "(print-dict (harmony-scores (get 'upper-left figure1-inputs) \n",
    "                            (map second (get-figure1-OCs (get 'upper-left figure1-inputs))) \n",
    "                            weights-figure1))"
   ]
  },
  {
   "cell_type": "code",
   "execution_count": 117,
   "metadata": {
    "ExecuteTime": {
     "end_time": "2018-12-21T22:54:29.113806Z",
     "start_time": "2018-12-21T22:54:29.091Z"
    }
   },
   "outputs": [],
   "source": [
    "(define (eval/HG ur weights)\n",
    "  (define OCs (relevant-output-words ur))\n",
    "  (define max-harmony-candidate (my-argmax (λ (oc) (harmony-score ur oc weights)) OCs))\n",
    "  max-harmony-candidate)"
   ]
  },
  {
   "cell_type": "markdown",
   "metadata": {},
   "source": [
    "### Mapping probabilities"
   ]
  },
  {
   "cell_type": "code",
   "execution_count": 118,
   "metadata": {
    "ExecuteTime": {
     "end_time": "2018-12-21T22:54:29.115471Z",
     "start_time": "2018-12-21T22:54:29.105Z"
    }
   },
   "outputs": [],
   "source": [
    ";vanilla racket exp is unsafe and doesn't like symbolic reals\n",
    ";rosette expt is safe but only permits its *first* argument to be a symbolic number...\n",
    "(define (unnormalized-prob ur oc weights)\n",
    "  (exp (harmony-score ur oc weights))\n",
    "  ;(expt 2 (harmony-score ur oc weights))\n",
    "  )"
   ]
  },
  {
   "cell_type": "code",
   "execution_count": 119,
   "metadata": {
    "ExecuteTime": {
     "end_time": "2018-12-21T22:54:29.129351Z",
     "start_time": "2018-12-21T22:54:29.122Z"
    }
   },
   "outputs": [],
   "source": [
    "(define (prob-norm ur OCs weights)\n",
    "  (apply + (map (λ (oc) (unnormalized-prob ur oc weights))\n",
    "                OCs)))"
   ]
  },
  {
   "cell_type": "code",
   "execution_count": 120,
   "metadata": {
    "ExecuteTime": {
     "end_time": "2018-12-21T22:54:29.138496Z",
     "start_time": "2018-12-21T22:54:29.135Z"
    }
   },
   "outputs": [],
   "source": [
    "(define (probability ur oc norm weights)\n",
    "  (/ (unnormalized-prob ur oc weights) norm))"
   ]
  },
  {
   "cell_type": "code",
   "execution_count": 121,
   "metadata": {
    "ExecuteTime": {
     "end_time": "2018-12-21T22:54:29.150884Z",
     "start_time": "2018-12-21T22:54:29.146Z"
    }
   },
   "outputs": [],
   "source": [
    "(define (probabilities ur OCs weights)\n",
    "  (define norm (prob-norm ur OCs weights))\n",
    "  (map list\n",
    "       OCs\n",
    "       (map (λ (oc) (probability ur oc norm weights))\n",
    "            OCs)))"
   ]
  },
  {
   "cell_type": "code",
   "execution_count": 122,
   "metadata": {
    "ExecuteTime": {
     "end_time": "2018-12-21T22:54:29.164840Z",
     "start_time": "2018-12-21T22:54:29.158Z"
    }
   },
   "outputs": [
    {
     "name": "stdout",
     "output_type": "stream",
     "text": [
      "(ɛ t e)\t\t3.773868552132304e-11\n",
      "(ɛ t ɛ)\t\t0.0003353501304411668\n",
      "(e t e)\t\t0.9996646497940815\n",
      "(e t ɛ)\t\t3.773868552132304e-11\n"
     ]
    }
   ],
   "source": [
    "(print-dict (probabilities ete ete-OCs weights-figure1))"
   ]
  },
  {
   "cell_type": "code",
   "execution_count": 123,
   "metadata": {
    "ExecuteTime": {
     "end_time": "2018-12-21T22:54:29.180833Z",
     "start_time": "2018-12-21T22:54:29.172Z"
    }
   },
   "outputs": [],
   "source": [
    "(define (eval/MEOT ur weights)\n",
    "  (define OCs (relevant-output-words ur))\n",
    "  (define my-norm (prob-norm ur OCs weights))\n",
    "  (define max-prob-candidate (my-argmax (λ (oc) (probability ur oc my-norm weights)) OCs))\n",
    "  max-prob-candidate)"
   ]
  },
  {
   "cell_type": "markdown",
   "metadata": {},
   "source": [
    "# Reproducing Doyle et al. (2014) Figure 1"
   ]
  },
  {
   "cell_type": "code",
   "execution_count": 124,
   "metadata": {
    "ExecuteTime": {
     "end_time": "2018-12-21T22:54:29.191295Z",
     "start_time": "2018-12-21T22:54:29.187Z"
    }
   },
   "outputs": [],
   "source": [
    "(define (tableau-report/W ur OCs weights)\n",
    "  (map list\n",
    "       (list 'violation-profiles\n",
    "             'harmony-scores\n",
    "             'probabilities)\n",
    "       (list (violation-profiles ur OCs)\n",
    "             (harmony-scores ur OCs weights)\n",
    "             (probabilities ur OCs weights))))"
   ]
  },
  {
   "cell_type": "code",
   "execution_count": 125,
   "metadata": {
    "ExecuteTime": {
     "end_time": "2018-12-21T22:54:29.202640Z",
     "start_time": "2018-12-21T22:54:29.199Z"
    }
   },
   "outputs": [
    {
     "data": {
      "text/html": [
       "<code>'((*I -64) (PARSE-rtr -32) (HARMONY -16) (PARSE-atr -8))</code>"
      ],
      "text/plain": [
       "'((*I -64) (PARSE-rtr -32) (HARMONY -16) (PARSE-atr -8))"
      ]
     },
     "execution_count": 125,
     "metadata": {},
     "output_type": "execute_result"
    }
   ],
   "source": [
    "weights-figure1"
   ]
  },
  {
   "cell_type": "code",
   "execution_count": 126,
   "metadata": {
    "ExecuteTime": {
     "end_time": "2018-12-21T22:54:29.216008Z",
     "start_time": "2018-12-21T22:54:29.212Z"
    }
   },
   "outputs": [],
   "source": [
    "(define (tableau-report/O ur OCs constraint-ordering)\n",
    "  (map list\n",
    "       (list 'violation-profiles\n",
    "             'filter-profile)\n",
    "       (list (violation-profiles ur OCs)\n",
    "             (filter-profile ur constraint-ordering))))"
   ]
  },
  {
   "cell_type": "code",
   "execution_count": 127,
   "metadata": {
    "ExecuteTime": {
     "end_time": "2018-12-21T22:54:29.226899Z",
     "start_time": "2018-12-21T22:54:29.224Z"
    }
   },
   "outputs": [
    {
     "data": {
      "text/html": [
       "<code>'(#&lt;procedure:*I&gt; #&lt;procedure&gt; #&lt;procedure:HARMONY&gt; #&lt;procedure&gt;)</code>"
      ],
      "text/plain": [
       "'(#<procedure:*I> #<procedure> #<procedure:HARMONY> #<procedure>)"
      ]
     },
     "execution_count": 127,
     "metadata": {},
     "output_type": "execute_result"
    }
   ],
   "source": [
    "figure1-constraint-ordering"
   ]
  },
  {
   "cell_type": "markdown",
   "metadata": {},
   "source": [
    "## Upper left"
   ]
  },
  {
   "cell_type": "code",
   "execution_count": 128,
   "metadata": {
    "ExecuteTime": {
     "end_time": "2018-12-21T22:54:29.242988Z",
     "start_time": "2018-12-21T22:54:29.238Z"
    }
   },
   "outputs": [
    {
     "name": "stdout",
     "output_type": "stream",
     "text": [
      "(e t e)\t\t(0 0 0 0)\n",
      "(ɛ t e)\t\t(0 0 1 1)\n",
      "(e t ɛ)\t\t(0 0 1 1)\n",
      "(ɛ t ɛ)\t\t(0 0 0 1)\n"
     ]
    }
   ],
   "source": [
    "(print-dict (violation-profiles (list 'e 't 'e) (list (list 'e 't 'e)\n",
    "                                                      (list 'ɛ 't 'e)\n",
    "                                                      (list 'e 't 'ɛ)\n",
    "                                                      (list 'ɛ 't 'ɛ))))"
   ]
  },
  {
   "cell_type": "code",
   "execution_count": 129,
   "metadata": {
    "ExecuteTime": {
     "end_time": "2018-12-21T22:54:29.260682Z",
     "start_time": "2018-12-21T22:54:29.252Z"
    }
   },
   "outputs": [
    {
     "name": "stdout",
     "output_type": "stream",
     "text": [
      "(e t e)\t\t0\n",
      "(ɛ t e)\t\t-24\n",
      "(e t ɛ)\t\t-24\n",
      "(ɛ t ɛ)\t\t-8\n"
     ]
    }
   ],
   "source": [
    "(print-dict (harmony-scores (list 'e 't 'e) (list (list 'e 't 'e)\n",
    "                                                  (list 'ɛ 't 'e)\n",
    "                                                  (list 'e 't 'ɛ)\n",
    "                                                  (list 'ɛ 't 'ɛ))\n",
    "                            weights-figure1))"
   ]
  },
  {
   "cell_type": "code",
   "execution_count": 130,
   "metadata": {
    "ExecuteTime": {
     "end_time": "2018-12-21T22:54:29.283160Z",
     "start_time": "2018-12-21T22:54:29.268Z"
    }
   },
   "outputs": [
    {
     "name": "stdout",
     "output_type": "stream",
     "text": [
      "(e t e)\t\t0.9996646497940815\n",
      "(ɛ t e)\t\t3.773868552132304e-11\n",
      "(e t ɛ)\t\t3.773868552132304e-11\n",
      "(ɛ t ɛ)\t\t0.0003353501304411668\n"
     ]
    }
   ],
   "source": [
    "(print-dict (probabilities (list 'e 't 'e) (list (list 'e 't 'e)\n",
    "                                                 (list 'ɛ 't 'e)\n",
    "                                                 (list 'e 't 'ɛ)\n",
    "                                                 (list 'ɛ 't 'ɛ))\n",
    "                           weights-figure1))"
   ]
  },
  {
   "cell_type": "code",
   "execution_count": 131,
   "metadata": {
    "ExecuteTime": {
     "end_time": "2018-12-21T22:54:29.338761Z",
     "start_time": "2018-12-21T22:54:29.301Z"
    }
   },
   "outputs": [
    {
     "name": "stdout",
     "output_type": "stream",
     "text": [
      "(e t e)\t\t(0 0 0 0)\n",
      "(ɛ t e)\t\t(0 0 1 1)\n",
      "(e t ɛ)\t\t(0 0 1 1)\n",
      "(ɛ t ɛ)\t\t(0 0 0 1)\n"
     ]
    }
   ],
   "source": [
    "(define tr-ul (tableau-report/W (get 'upper-left figure1-inputs)\n",
    "                                (map second (get-figure1-OCs (get 'upper-left figure1-inputs)))\n",
    "                                weights-figure1))\n",
    "(print-dict (get 'violation-profiles tr-ul))"
   ]
  },
  {
   "cell_type": "code",
   "execution_count": 132,
   "metadata": {
    "ExecuteTime": {
     "end_time": "2018-12-21T22:54:29.342822Z",
     "start_time": "2018-12-21T22:54:29.314Z"
    }
   },
   "outputs": [
    {
     "name": "stdout",
     "output_type": "stream",
     "text": [
      "(e t e)\t\t0\n",
      "(ɛ t e)\t\t-24\n",
      "(e t ɛ)\t\t-24\n",
      "(ɛ t ɛ)\t\t-8\n"
     ]
    }
   ],
   "source": [
    "(print-dict (get 'harmony-scores tr-ul))"
   ]
  },
  {
   "cell_type": "code",
   "execution_count": 133,
   "metadata": {
    "ExecuteTime": {
     "end_time": "2018-12-21T22:54:29.344621Z",
     "start_time": "2018-12-21T22:54:29.326Z"
    }
   },
   "outputs": [
    {
     "name": "stdout",
     "output_type": "stream",
     "text": [
      "(e t e)\t\t0.9996646497940815\n",
      "(ɛ t e)\t\t3.773868552132304e-11\n",
      "(e t ɛ)\t\t3.773868552132304e-11\n",
      "(ɛ t ɛ)\t\t0.0003353501304411668\n"
     ]
    }
   ],
   "source": [
    "(print-dict (get 'probabilities tr-ul))"
   ]
  },
  {
   "cell_type": "code",
   "execution_count": 134,
   "metadata": {
    "ExecuteTime": {
     "end_time": "2018-12-21T22:54:29.367184Z",
     "start_time": "2018-12-21T22:54:29.341Z"
    }
   },
   "outputs": [
    {
     "data": {
      "text/html": [
       "<code>'(e t e)</code>"
      ],
      "text/plain": [
       "'(e t e)"
      ]
     },
     "execution_count": 134,
     "metadata": {},
     "output_type": "execute_result"
    }
   ],
   "source": [
    "(eval/HG (get 'upper-left figure1-inputs) weights-figure1)"
   ]
  },
  {
   "cell_type": "code",
   "execution_count": 135,
   "metadata": {
    "ExecuteTime": {
     "end_time": "2018-12-21T22:54:29.387342Z",
     "start_time": "2018-12-21T22:54:29.362Z"
    }
   },
   "outputs": [
    {
     "data": {
      "text/html": [
       "<code>'(e t e)</code>"
      ],
      "text/plain": [
       "'(e t e)"
      ]
     },
     "execution_count": 135,
     "metadata": {},
     "output_type": "execute_result"
    }
   ],
   "source": [
    "(eval/MEOT (get 'upper-left figure1-inputs) weights-figure1)"
   ]
  },
  {
   "cell_type": "code",
   "execution_count": 136,
   "metadata": {
    "ExecuteTime": {
     "end_time": "2018-12-21T22:54:29.426647Z",
     "start_time": "2018-12-21T22:54:29.379Z"
    }
   },
   "outputs": [
    {
     "name": "stdout",
     "output_type": "stream",
     "text": [
      "*I\t\t((ɛ t e) (ɛ t ɛ) (e t e) (e t ɛ))\n",
      "PARSE-rtr\t\t((ɛ t e) (ɛ t ɛ) (e t e) (e t ɛ))\n",
      "HARMONY\t\t((ɛ t ɛ) (e t e))\n",
      "PARSE-atr\t\t((e t e))\n"
     ]
    }
   ],
   "source": [
    "(define tr-ul-o (tableau-report/O (get 'upper-left figure1-inputs)\n",
    "                                  (map second (get-figure1-OCs (get 'upper-left figure1-inputs)))\n",
    "                                  figure1-constraint-ordering))\n",
    "(print-dict (map list \n",
    "                 con-names\n",
    "                 (get 'filter-profile tr-ul-o)))"
   ]
  },
  {
   "cell_type": "code",
   "execution_count": 137,
   "metadata": {
    "ExecuteTime": {
     "end_time": "2018-12-21T22:54:29.438946Z",
     "start_time": "2018-12-21T22:54:29.396Z"
    }
   },
   "outputs": [
    {
     "data": {
      "text/html": [
       "<code>'(e t e)</code>"
      ],
      "text/plain": [
       "'(e t e)"
      ]
     },
     "execution_count": 137,
     "metadata": {},
     "output_type": "execute_result"
    }
   ],
   "source": [
    "(eval/OT (get 'upper-left figure1-inputs) figure1-constraint-ordering)"
   ]
  },
  {
   "cell_type": "markdown",
   "metadata": {},
   "source": [
    "## Upper right"
   ]
  },
  {
   "cell_type": "code",
   "execution_count": 138,
   "metadata": {
    "ExecuteTime": {
     "end_time": "2018-12-21T22:54:29.473509Z",
     "start_time": "2018-12-21T22:54:29.411Z"
    }
   },
   "outputs": [
    {
     "name": "stdout",
     "output_type": "stream",
     "text": [
      "(i t e)\t\t(0 1 0 0)\n",
      "(ɪ t e)\t\t(1 0 1 0)\n",
      "(i t ɛ)\t\t(0 1 1 1)\n",
      "(ɪ t ɛ)\t\t(1 0 0 1)\n"
     ]
    }
   ],
   "source": [
    "(define tr-ur (tableau-report/W (get 'upper-right figure1-inputs)\n",
    "                                (map second (get-figure1-OCs (get 'upper-right figure1-inputs)))\n",
    "                                weights-figure1))\n",
    "(print-dict (get 'violation-profiles tr-ur))"
   ]
  },
  {
   "cell_type": "code",
   "execution_count": 139,
   "metadata": {
    "ExecuteTime": {
     "end_time": "2018-12-21T22:54:29.476651Z",
     "start_time": "2018-12-21T22:54:29.424Z"
    }
   },
   "outputs": [
    {
     "name": "stdout",
     "output_type": "stream",
     "text": [
      "(i t e)\t\t-32\n",
      "(ɪ t e)\t\t-80\n",
      "(i t ɛ)\t\t-56\n",
      "(ɪ t ɛ)\t\t-72\n"
     ]
    }
   ],
   "source": [
    "(print-dict (get 'harmony-scores tr-ur))"
   ]
  },
  {
   "cell_type": "code",
   "execution_count": 140,
   "metadata": {
    "ExecuteTime": {
     "end_time": "2018-12-21T22:54:29.478947Z",
     "start_time": "2018-12-21T22:54:29.442Z"
    }
   },
   "outputs": [
    {
     "name": "stdout",
     "output_type": "stream",
     "text": [
      "(i t e)\t\t0.9999999999622486\n",
      "(ɪ t e)\t\t1.4251640826871334e-21\n",
      "(i t ɛ)\t\t3.775134544136581e-11\n",
      "(ɪ t ɛ)\t\t4.248354255131208e-18\n"
     ]
    }
   ],
   "source": [
    "(print-dict (get 'probabilities tr-ur))"
   ]
  },
  {
   "cell_type": "code",
   "execution_count": 141,
   "metadata": {
    "ExecuteTime": {
     "end_time": "2018-12-21T22:54:29.494265Z",
     "start_time": "2018-12-21T22:54:29.455Z"
    }
   },
   "outputs": [
    {
     "data": {
      "text/html": [
       "<code>'(i t e)</code>"
      ],
      "text/plain": [
       "'(i t e)"
      ]
     },
     "execution_count": 141,
     "metadata": {},
     "output_type": "execute_result"
    }
   ],
   "source": [
    "(eval/HG (get 'upper-right figure1-inputs) weights-figure1)"
   ]
  },
  {
   "cell_type": "code",
   "execution_count": 142,
   "metadata": {
    "ExecuteTime": {
     "end_time": "2018-12-21T22:54:29.512000Z",
     "start_time": "2018-12-21T22:54:29.468Z"
    }
   },
   "outputs": [
    {
     "data": {
      "text/html": [
       "<code>'(i t e)</code>"
      ],
      "text/plain": [
       "'(i t e)"
      ]
     },
     "execution_count": 142,
     "metadata": {},
     "output_type": "execute_result"
    }
   ],
   "source": [
    "(eval/MEOT (get 'upper-right figure1-inputs) weights-figure1)"
   ]
  },
  {
   "cell_type": "code",
   "execution_count": 143,
   "metadata": {
    "ExecuteTime": {
     "end_time": "2018-12-21T22:54:29.552893Z",
     "start_time": "2018-12-21T22:54:29.488Z"
    }
   },
   "outputs": [
    {
     "name": "stdout",
     "output_type": "stream",
     "text": [
      "*I\t\t((i t e) (i t ɛ))\n",
      "PARSE-rtr\t\t((i t e) (i t ɛ))\n",
      "HARMONY\t\t((i t e))\n",
      "PARSE-atr\t\t((i t e))\n"
     ]
    }
   ],
   "source": [
    "(define tr-ur-o (tableau-report/O (get 'upper-right figure1-inputs)\n",
    "                                  (map second (get-figure1-OCs (get 'upper-right figure1-inputs)))\n",
    "                                  figure1-constraint-ordering))\n",
    "(print-dict (map list \n",
    "                 con-names\n",
    "                 (get 'filter-profile tr-ur-o)))"
   ]
  },
  {
   "cell_type": "code",
   "execution_count": 144,
   "metadata": {
    "ExecuteTime": {
     "end_time": "2018-12-21T22:54:29.563489Z",
     "start_time": "2018-12-21T22:54:29.507Z"
    }
   },
   "outputs": [
    {
     "data": {
      "text/html": [
       "<code>'(i t e)</code>"
      ],
      "text/plain": [
       "'(i t e)"
      ]
     },
     "execution_count": 144,
     "metadata": {},
     "output_type": "execute_result"
    }
   ],
   "source": [
    "(eval/OT (get 'upper-right figure1-inputs) figure1-constraint-ordering)"
   ]
  },
  {
   "cell_type": "markdown",
   "metadata": {},
   "source": [
    "## Lower left"
   ]
  },
  {
   "cell_type": "code",
   "execution_count": 145,
   "metadata": {
    "ExecuteTime": {
     "end_time": "2018-12-21T22:54:29.600647Z",
     "start_time": "2018-12-21T22:54:29.527Z"
    }
   },
   "outputs": [
    {
     "name": "stdout",
     "output_type": "stream",
     "text": [
      "(e t e)\t\t(0 1 0 0)\n",
      "(ɛ t e)\t\t(0 1 1 0)\n",
      "(e t ɛ)\t\t(0 1 1 0)\n",
      "(ɛ t ɛ)\t\t(0 0 0 0)\n"
     ]
    }
   ],
   "source": [
    "(define tr-ll (tableau-report/W (get 'lower-left figure1-inputs)\n",
    "                                (map second (get-figure1-OCs (get 'lower-left figure1-inputs)))\n",
    "                                weights-figure1))\n",
    "(print-dict (get 'violation-profiles tr-ll))"
   ]
  },
  {
   "cell_type": "code",
   "execution_count": 146,
   "metadata": {
    "ExecuteTime": {
     "end_time": "2018-12-21T22:54:29.603630Z",
     "start_time": "2018-12-21T22:54:29.541Z"
    }
   },
   "outputs": [
    {
     "name": "stdout",
     "output_type": "stream",
     "text": [
      "(e t e)\t\t-32\n",
      "(ɛ t e)\t\t-48\n",
      "(e t ɛ)\t\t-48\n",
      "(ɛ t ɛ)\t\t0\n"
     ]
    }
   ],
   "source": [
    "(print-dict (get 'harmony-scores tr-ll))"
   ]
  },
  {
   "cell_type": "code",
   "execution_count": 147,
   "metadata": {
    "ExecuteTime": {
     "end_time": "2018-12-21T22:54:29.605257Z",
     "start_time": "2018-12-21T22:54:29.556Z"
    }
   },
   "outputs": [
    {
     "name": "stdout",
     "output_type": "stream",
     "text": [
      "(e t e)\t\t1.2664165549094015e-14\n",
      "(ɛ t e)\t\t1.4251640827409171e-21\n",
      "(e t ɛ)\t\t1.4251640827409171e-21\n",
      "(ɛ t ɛ)\t\t0.9999999999999873\n"
     ]
    }
   ],
   "source": [
    "(print-dict (get 'probabilities tr-ll))"
   ]
  },
  {
   "cell_type": "code",
   "execution_count": 148,
   "metadata": {
    "ExecuteTime": {
     "end_time": "2018-12-21T22:54:29.625206Z",
     "start_time": "2018-12-21T22:54:29.574Z"
    }
   },
   "outputs": [
    {
     "data": {
      "text/html": [
       "<code>'(ɛ t ɛ)</code>"
      ],
      "text/plain": [
       "'(ɛ t ɛ)"
      ]
     },
     "execution_count": 148,
     "metadata": {},
     "output_type": "execute_result"
    }
   ],
   "source": [
    "(eval/HG (get 'lower-left figure1-inputs) weights-figure1)"
   ]
  },
  {
   "cell_type": "code",
   "execution_count": 149,
   "metadata": {
    "ExecuteTime": {
     "end_time": "2018-12-21T22:54:29.645114Z",
     "start_time": "2018-12-21T22:54:29.586Z"
    }
   },
   "outputs": [
    {
     "data": {
      "text/html": [
       "<code>'(ɛ t ɛ)</code>"
      ],
      "text/plain": [
       "'(ɛ t ɛ)"
      ]
     },
     "execution_count": 149,
     "metadata": {},
     "output_type": "execute_result"
    }
   ],
   "source": [
    "(eval/MEOT (get 'lower-left figure1-inputs) weights-figure1)"
   ]
  },
  {
   "cell_type": "code",
   "execution_count": 150,
   "metadata": {
    "ExecuteTime": {
     "end_time": "2018-12-21T22:54:29.688782Z",
     "start_time": "2018-12-21T22:54:29.601Z"
    }
   },
   "outputs": [
    {
     "name": "stdout",
     "output_type": "stream",
     "text": [
      "*I\t\t((ɛ t e) (ɛ t ɛ) (e t e) (e t ɛ))\n",
      "PARSE-rtr\t\t((ɛ t ɛ))\n",
      "HARMONY\t\t((ɛ t ɛ))\n",
      "PARSE-atr\t\t((ɛ t ɛ))\n"
     ]
    }
   ],
   "source": [
    "(define tr-ll-o (tableau-report/O (get 'lower-left figure1-inputs)\n",
    "                                  (map second (get-figure1-OCs (get 'lower-left figure1-inputs)))\n",
    "                                  figure1-constraint-ordering))\n",
    "(print-dict (map list \n",
    "                 con-names\n",
    "                 (get 'filter-profile tr-ll-o)))"
   ]
  },
  {
   "cell_type": "code",
   "execution_count": 151,
   "metadata": {
    "ExecuteTime": {
     "end_time": "2018-12-21T22:54:29.700487Z",
     "start_time": "2018-12-21T22:54:29.621Z"
    }
   },
   "outputs": [
    {
     "data": {
      "text/html": [
       "<code>'(ɛ t ɛ)</code>"
      ],
      "text/plain": [
       "'(ɛ t ɛ)"
      ]
     },
     "execution_count": 151,
     "metadata": {},
     "output_type": "execute_result"
    }
   ],
   "source": [
    "(eval/OT (get 'lower-left figure1-inputs) figure1-constraint-ordering)"
   ]
  },
  {
   "cell_type": "markdown",
   "metadata": {},
   "source": [
    "## Lower right"
   ]
  },
  {
   "cell_type": "code",
   "execution_count": 152,
   "metadata": {
    "ExecuteTime": {
     "end_time": "2018-12-21T22:54:29.736822Z",
     "start_time": "2018-12-21T22:54:29.644Z"
    }
   },
   "outputs": [
    {
     "name": "stdout",
     "output_type": "stream",
     "text": [
      "(i t e)\t\t(0 1 0 0)\n",
      "(ɪ t e)\t\t(1 1 1 1)\n",
      "(i t ɛ)\t\t(0 0 1 0)\n",
      "(ɪ t ɛ)\t\t(1 0 0 1)\n"
     ]
    }
   ],
   "source": [
    "(define tr-lr (tableau-report/W (get 'lower-right figure1-inputs)\n",
    "                                (map second (get-figure1-OCs (get 'lower-right figure1-inputs)))\n",
    "                                weights-figure1))\n",
    "(print-dict (get 'violation-profiles tr-lr))"
   ]
  },
  {
   "cell_type": "code",
   "execution_count": 153,
   "metadata": {
    "ExecuteTime": {
     "end_time": "2018-12-21T22:54:29.738759Z",
     "start_time": "2018-12-21T22:54:29.660Z"
    }
   },
   "outputs": [
    {
     "name": "stdout",
     "output_type": "stream",
     "text": [
      "(i t e)\t\t-32\n",
      "(ɪ t e)\t\t-120\n",
      "(i t ɛ)\t\t-16\n",
      "(ɪ t ɛ)\t\t-72\n"
     ]
    }
   ],
   "source": [
    "(print-dict (get 'harmony-scores tr-lr))"
   ]
  },
  {
   "cell_type": "code",
   "execution_count": 154,
   "metadata": {
    "ExecuteTime": {
     "end_time": "2018-12-21T22:54:29.740210Z",
     "start_time": "2018-12-21T22:54:29.672Z"
    }
   },
   "outputs": [
    {
     "name": "stdout",
     "output_type": "stream",
     "text": [
      "(i t e)\t\t1.1253516205509498e-07\n",
      "(ɪ t e)\t\t6.813556054780577e-46\n",
      "(i t ɛ)\t\t0.9999998874648379\n",
      "(ɪ t ɛ)\t\t4.780892345866913e-25\n"
     ]
    }
   ],
   "source": [
    "(print-dict (get 'probabilities tr-lr))"
   ]
  },
  {
   "cell_type": "code",
   "execution_count": 155,
   "metadata": {
    "ExecuteTime": {
     "end_time": "2018-12-21T22:54:29.755815Z",
     "start_time": "2018-12-21T22:54:29.686Z"
    }
   },
   "outputs": [
    {
     "data": {
      "text/html": [
       "<code>'(i t ɛ)</code>"
      ],
      "text/plain": [
       "'(i t ɛ)"
      ]
     },
     "execution_count": 155,
     "metadata": {},
     "output_type": "execute_result"
    }
   ],
   "source": [
    "(eval/HG (get 'lower-right figure1-inputs) weights-figure1)"
   ]
  },
  {
   "cell_type": "code",
   "execution_count": 156,
   "metadata": {
    "ExecuteTime": {
     "end_time": "2018-12-21T22:54:29.772257Z",
     "start_time": "2018-12-21T22:54:29.706Z"
    }
   },
   "outputs": [
    {
     "data": {
      "text/html": [
       "<code>'(i t ɛ)</code>"
      ],
      "text/plain": [
       "'(i t ɛ)"
      ]
     },
     "execution_count": 156,
     "metadata": {},
     "output_type": "execute_result"
    }
   ],
   "source": [
    "(eval/MEOT (get 'lower-right figure1-inputs) weights-figure1)"
   ]
  },
  {
   "cell_type": "code",
   "execution_count": 157,
   "metadata": {
    "ExecuteTime": {
     "end_time": "2018-12-21T22:54:29.813859Z",
     "start_time": "2018-12-21T22:54:29.718Z"
    }
   },
   "outputs": [
    {
     "name": "stdout",
     "output_type": "stream",
     "text": [
      "*I\t\t((i t e) (i t ɛ))\n",
      "PARSE-rtr\t\t((i t ɛ))\n",
      "HARMONY\t\t((i t ɛ))\n",
      "PARSE-atr\t\t((i t ɛ))\n"
     ]
    }
   ],
   "source": [
    "(define tr-lr-o (tableau-report/O (get 'lower-right figure1-inputs)\n",
    "                                  (map second (get-figure1-OCs (get 'lower-right figure1-inputs)))\n",
    "                                  figure1-constraint-ordering))\n",
    "(print-dict (map list \n",
    "                 con-names\n",
    "                 (get 'filter-profile tr-lr-o)))"
   ]
  },
  {
   "cell_type": "code",
   "execution_count": 158,
   "metadata": {
    "ExecuteTime": {
     "end_time": "2018-12-21T22:54:29.821629Z",
     "start_time": "2018-12-21T22:54:29.732Z"
    }
   },
   "outputs": [
    {
     "data": {
      "text/html": [
       "<code>'(i t ɛ)</code>"
      ],
      "text/plain": [
       "'(i t ɛ)"
      ]
     },
     "execution_count": 158,
     "metadata": {},
     "output_type": "execute_result"
    }
   ],
   "source": [
    "(eval/OT (get 'lower-right figure1-inputs) figure1-constraint-ordering)"
   ]
  },
  {
   "cell_type": "markdown",
   "metadata": {},
   "source": [
    "# Reproducing Doyle et al. (2014) Figure 2"
   ]
  },
  {
   "cell_type": "code",
   "execution_count": 159,
   "metadata": {
    "ExecuteTime": {
     "end_time": "2018-12-21T22:54:29.823590Z",
     "start_time": "2018-12-21T22:54:29.754Z"
    }
   },
   "outputs": [
    {
     "name": "stdout",
     "output_type": "stream",
     "text": [
      "(hi hi)\t\t(ɪ t i)\n",
      "(hi mid)\t\t(ɪ t e)\n",
      "(hi lo)\t\t(ɪ t ə)\n",
      "(mid hi)\t\t(ɛ t i)\n",
      "(mid mid)\t\t(ɛ t e)\n",
      "(mid lo)\t\t(ɛ t ə)\n",
      "(lo hi)\t\t(a t i)\n",
      "(lo mid)\t\t(a t e)\n",
      "(lo lo)\t\t(a t ə)\n"
     ]
    }
   ],
   "source": [
    "(print-dict figure2-inputs)"
   ]
  },
  {
   "cell_type": "markdown",
   "metadata": {},
   "source": [
    "## hi hi"
   ]
  },
  {
   "cell_type": "code",
   "execution_count": 160,
   "metadata": {
    "ExecuteTime": {
     "end_time": "2018-12-21T22:54:29.835848Z",
     "start_time": "2018-12-21T22:54:29.777Z"
    }
   },
   "outputs": [],
   "source": [
    "(define my-input '(hi hi))"
   ]
  },
  {
   "cell_type": "code",
   "execution_count": 161,
   "metadata": {
    "ExecuteTime": {
     "end_time": "2018-12-21T22:54:29.837312Z",
     "start_time": "2018-12-21T22:54:29.795Z"
    }
   },
   "outputs": [
    {
     "data": {
      "text/html": [
       "<code>'(*I PARSE-rtr HARMONY PARSE-atr)</code>"
      ],
      "text/plain": [
       "'(*I PARSE-rtr HARMONY PARSE-atr)"
      ]
     },
     "execution_count": 161,
     "metadata": {},
     "output_type": "execute_result"
    }
   ],
   "source": [
    "con-names"
   ]
  },
  {
   "cell_type": "code",
   "execution_count": 162,
   "metadata": {
    "ExecuteTime": {
     "end_time": "2018-12-21T22:54:29.880034Z",
     "start_time": "2018-12-21T22:54:29.808Z"
    }
   },
   "outputs": [
    {
     "name": "stdout",
     "output_type": "stream",
     "text": [
      "(i t i)\t\t(0 1 0 0)\n",
      "(ɪ t i)\t\t(1 0 1 0)\n",
      "(i t ɪ)\t\t(1 1 1 1)\n",
      "(ɪ t ɪ)\t\t(1 0 0 1)\n"
     ]
    }
   ],
   "source": [
    "(define tr-hihi (tableau-report/W (get my-input figure2-inputs)\n",
    "                                  (map second (get-figure2-OCs (get my-input figure2-inputs)))\n",
    "                                  weights-figure1))\n",
    "(print-dict (get 'violation-profiles tr-hihi))"
   ]
  },
  {
   "cell_type": "code",
   "execution_count": 163,
   "metadata": {
    "ExecuteTime": {
     "end_time": "2018-12-21T22:54:29.882592Z",
     "start_time": "2018-12-21T22:54:29.822Z"
    }
   },
   "outputs": [
    {
     "name": "stdout",
     "output_type": "stream",
     "text": [
      "(i t i)\t\t-32\n",
      "(ɪ t i)\t\t-80\n",
      "(i t ɪ)\t\t-120\n",
      "(ɪ t ɪ)\t\t-72\n"
     ]
    }
   ],
   "source": [
    "(print-dict (get 'harmony-scores tr-hihi))"
   ]
  },
  {
   "cell_type": "code",
   "execution_count": 164,
   "metadata": {
    "ExecuteTime": {
     "end_time": "2018-12-21T22:54:29.884412Z",
     "start_time": "2018-12-21T22:54:29.842Z"
    }
   },
   "outputs": [
    {
     "name": "stdout",
     "output_type": "stream",
     "text": [
      "(i t i)\t\t1.0\n",
      "(ɪ t i)\t\t1.4251640827409352e-21\n",
      "(i t ɪ)\t\t6.054601895401186e-39\n",
      "(ɪ t ɪ)\t\t4.248354255291589e-18\n"
     ]
    }
   ],
   "source": [
    "(print-dict (get 'probabilities tr-hihi))"
   ]
  },
  {
   "cell_type": "code",
   "execution_count": 165,
   "metadata": {
    "ExecuteTime": {
     "end_time": "2018-12-21T22:54:29.904093Z",
     "start_time": "2018-12-21T22:54:29.863Z"
    }
   },
   "outputs": [
    {
     "data": {
      "text/html": [
       "<code>'(i t i)</code>"
      ],
      "text/plain": [
       "'(i t i)"
      ]
     },
     "execution_count": 165,
     "metadata": {},
     "output_type": "execute_result"
    }
   ],
   "source": [
    "(eval/HG (get my-input figure2-inputs) weights-figure1)"
   ]
  },
  {
   "cell_type": "code",
   "execution_count": 166,
   "metadata": {
    "ExecuteTime": {
     "end_time": "2018-12-21T22:54:29.918407Z",
     "start_time": "2018-12-21T22:54:29.883Z"
    }
   },
   "outputs": [
    {
     "data": {
      "text/html": [
       "<code>'(i t i)</code>"
      ],
      "text/plain": [
       "'(i t i)"
      ]
     },
     "execution_count": 166,
     "metadata": {},
     "output_type": "execute_result"
    }
   ],
   "source": [
    "(eval/MEOT (get my-input figure2-inputs) weights-figure1)"
   ]
  },
  {
   "cell_type": "code",
   "execution_count": 167,
   "metadata": {
    "ExecuteTime": {
     "end_time": "2018-12-21T22:54:29.963932Z",
     "start_time": "2018-12-21T22:54:29.902Z"
    }
   },
   "outputs": [
    {
     "name": "stdout",
     "output_type": "stream",
     "text": [
      "*I\t\t((i t i))\n",
      "PARSE-rtr\t\t((i t i))\n",
      "HARMONY\t\t((i t i))\n",
      "PARSE-atr\t\t((i t i))\n"
     ]
    }
   ],
   "source": [
    "(define tr-hihi-o (tableau-report/O (get my-input figure2-inputs)\n",
    "                                    (map second (get-figure2-OCs (get my-input figure2-inputs)))\n",
    "                                    figure1-constraint-ordering))\n",
    "(print-dict (map list \n",
    "                 con-names\n",
    "                 (get 'filter-profile tr-hihi-o)))"
   ]
  },
  {
   "cell_type": "code",
   "execution_count": 168,
   "metadata": {
    "ExecuteTime": {
     "end_time": "2018-12-21T22:54:29.973826Z",
     "start_time": "2018-12-21T22:54:29.924Z"
    }
   },
   "outputs": [
    {
     "data": {
      "text/html": [
       "<code>'(i t i)</code>"
      ],
      "text/plain": [
       "'(i t i)"
      ]
     },
     "execution_count": 168,
     "metadata": {},
     "output_type": "execute_result"
    }
   ],
   "source": [
    "(eval/OT (get my-input figure2-inputs) figure1-constraint-ordering)"
   ]
  },
  {
   "cell_type": "markdown",
   "metadata": {},
   "source": [
    "## hi mid"
   ]
  },
  {
   "cell_type": "code",
   "execution_count": 169,
   "metadata": {
    "ExecuteTime": {
     "end_time": "2018-12-21T22:54:29.976103Z",
     "start_time": "2018-12-21T22:54:29.947Z"
    }
   },
   "outputs": [],
   "source": [
    "(define my-input '(hi mid))"
   ]
  },
  {
   "cell_type": "code",
   "execution_count": 170,
   "metadata": {
    "ExecuteTime": {
     "end_time": "2018-12-21T22:54:29.977311Z",
     "start_time": "2018-12-21T22:54:29.963Z"
    }
   },
   "outputs": [
    {
     "data": {
      "text/html": [
       "<code>'(*I PARSE-rtr HARMONY PARSE-atr)</code>"
      ],
      "text/plain": [
       "'(*I PARSE-rtr HARMONY PARSE-atr)"
      ]
     },
     "execution_count": 170,
     "metadata": {},
     "output_type": "execute_result"
    }
   ],
   "source": [
    "con-names"
   ]
  },
  {
   "cell_type": "code",
   "execution_count": 171,
   "metadata": {
    "ExecuteTime": {
     "end_time": "2018-12-21T22:54:30.016424Z",
     "start_time": "2018-12-21T22:54:29.981Z"
    }
   },
   "outputs": [
    {
     "name": "stdout",
     "output_type": "stream",
     "text": [
      "(i t e)\t\t(0 1 0 0)\n",
      "(ɪ t e)\t\t(1 0 1 0)\n",
      "(i t ɛ)\t\t(0 1 1 1)\n",
      "(ɪ t ɛ)\t\t(1 0 0 1)\n"
     ]
    }
   ],
   "source": [
    "(define tr-himid (tableau-report/W (get my-input figure2-inputs)\n",
    "                                   (map second (get-figure2-OCs (get my-input figure2-inputs)))\n",
    "                                   weights-figure1))\n",
    "(print-dict (get 'violation-profiles tr-himid))"
   ]
  },
  {
   "cell_type": "code",
   "execution_count": 172,
   "metadata": {
    "ExecuteTime": {
     "end_time": "2018-12-21T22:54:30.018101Z",
     "start_time": "2018-12-21T22:54:29.994Z"
    }
   },
   "outputs": [
    {
     "name": "stdout",
     "output_type": "stream",
     "text": [
      "(i t e)\t\t-32\n",
      "(ɪ t e)\t\t-80\n",
      "(i t ɛ)\t\t-56\n",
      "(ɪ t ɛ)\t\t-72\n"
     ]
    }
   ],
   "source": [
    "(print-dict (get 'harmony-scores tr-himid))"
   ]
  },
  {
   "cell_type": "code",
   "execution_count": 173,
   "metadata": {
    "ExecuteTime": {
     "end_time": "2018-12-21T22:54:30.020122Z",
     "start_time": "2018-12-21T22:54:30.008Z"
    }
   },
   "outputs": [
    {
     "name": "stdout",
     "output_type": "stream",
     "text": [
      "(i t e)\t\t0.9999999999622486\n",
      "(ɪ t e)\t\t1.4251640826871334e-21\n",
      "(i t ɛ)\t\t3.775134544136581e-11\n",
      "(ɪ t ɛ)\t\t4.248354255131208e-18\n"
     ]
    }
   ],
   "source": [
    "(print-dict (get 'probabilities tr-himid))"
   ]
  },
  {
   "cell_type": "code",
   "execution_count": 174,
   "metadata": {
    "ExecuteTime": {
     "end_time": "2018-12-21T22:54:30.046785Z",
     "start_time": "2018-12-21T22:54:30.027Z"
    }
   },
   "outputs": [
    {
     "data": {
      "text/html": [
       "<code>'(i t e)</code>"
      ],
      "text/plain": [
       "'(i t e)"
      ]
     },
     "execution_count": 174,
     "metadata": {},
     "output_type": "execute_result"
    }
   ],
   "source": [
    "(eval/HG (get my-input figure2-inputs) weights-figure1)"
   ]
  },
  {
   "cell_type": "code",
   "execution_count": 175,
   "metadata": {
    "ExecuteTime": {
     "end_time": "2018-12-21T22:54:30.066309Z",
     "start_time": "2018-12-21T22:54:30.044Z"
    }
   },
   "outputs": [
    {
     "data": {
      "text/html": [
       "<code>'(i t e)</code>"
      ],
      "text/plain": [
       "'(i t e)"
      ]
     },
     "execution_count": 175,
     "metadata": {},
     "output_type": "execute_result"
    }
   ],
   "source": [
    "(eval/MEOT (get my-input figure2-inputs) weights-figure1)"
   ]
  },
  {
   "cell_type": "code",
   "execution_count": 176,
   "metadata": {
    "ExecuteTime": {
     "end_time": "2018-12-21T22:54:30.103820Z",
     "start_time": "2018-12-21T22:54:30.064Z"
    }
   },
   "outputs": [
    {
     "name": "stdout",
     "output_type": "stream",
     "text": [
      "*I\t\t((i t e) (i t ɛ))\n",
      "PARSE-rtr\t\t((i t e) (i t ɛ))\n",
      "HARMONY\t\t((i t e))\n",
      "PARSE-atr\t\t((i t e))\n"
     ]
    }
   ],
   "source": [
    "(define tr-himid-o (tableau-report/O (get my-input figure2-inputs)\n",
    "                                     (map second (get-figure2-OCs (get my-input figure2-inputs)))\n",
    "                                     figure1-constraint-ordering))\n",
    "(print-dict (map list \n",
    "                 con-names\n",
    "                 (get 'filter-profile tr-himid-o)))"
   ]
  },
  {
   "cell_type": "code",
   "execution_count": 177,
   "metadata": {
    "ExecuteTime": {
     "end_time": "2018-12-21T22:54:30.110990Z",
     "start_time": "2018-12-21T22:54:30.078Z"
    }
   },
   "outputs": [
    {
     "data": {
      "text/html": [
       "<code>'(i t e)</code>"
      ],
      "text/plain": [
       "'(i t e)"
      ]
     },
     "execution_count": 177,
     "metadata": {},
     "output_type": "execute_result"
    }
   ],
   "source": [
    "(eval/OT (get my-input figure2-inputs) figure1-constraint-ordering)"
   ]
  },
  {
   "cell_type": "markdown",
   "metadata": {},
   "source": [
    "## hi lo"
   ]
  },
  {
   "cell_type": "code",
   "execution_count": 178,
   "metadata": {
    "ExecuteTime": {
     "end_time": "2018-12-21T22:54:30.112995Z",
     "start_time": "2018-12-21T22:54:30.093Z"
    }
   },
   "outputs": [],
   "source": [
    "(define my-input '(hi lo))"
   ]
  },
  {
   "cell_type": "code",
   "execution_count": 179,
   "metadata": {
    "ExecuteTime": {
     "end_time": "2018-12-21T22:54:30.117942Z",
     "start_time": "2018-12-21T22:54:30.110Z"
    }
   },
   "outputs": [
    {
     "data": {
      "text/html": [
       "<code>'(*I PARSE-rtr HARMONY PARSE-atr)</code>"
      ],
      "text/plain": [
       "'(*I PARSE-rtr HARMONY PARSE-atr)"
      ]
     },
     "execution_count": 179,
     "metadata": {},
     "output_type": "execute_result"
    }
   ],
   "source": [
    "con-names"
   ]
  },
  {
   "cell_type": "code",
   "execution_count": 180,
   "metadata": {
    "ExecuteTime": {
     "end_time": "2018-12-21T22:54:30.160079Z",
     "start_time": "2018-12-21T22:54:30.127Z"
    }
   },
   "outputs": [
    {
     "name": "stdout",
     "output_type": "stream",
     "text": [
      "(i t ə)\t\t(0 1 0 0)\n",
      "(ɪ t ə)\t\t(1 0 1 0)\n",
      "(i t a)\t\t(0 1 1 1)\n",
      "(ɪ t a)\t\t(1 0 0 1)\n"
     ]
    }
   ],
   "source": [
    "(define tr-hilo (tableau-report/W (get my-input figure2-inputs)\n",
    "                                  (map second (get-figure2-OCs (get my-input figure2-inputs)))\n",
    "                                  weights-figure1))\n",
    "(print-dict (get 'violation-profiles tr-hilo))"
   ]
  },
  {
   "cell_type": "code",
   "execution_count": 181,
   "metadata": {
    "ExecuteTime": {
     "end_time": "2018-12-21T22:54:30.163081Z",
     "start_time": "2018-12-21T22:54:30.140Z"
    }
   },
   "outputs": [
    {
     "name": "stdout",
     "output_type": "stream",
     "text": [
      "(i t ə)\t\t-32\n",
      "(ɪ t ə)\t\t-80\n",
      "(i t a)\t\t-56\n",
      "(ɪ t a)\t\t-72\n"
     ]
    }
   ],
   "source": [
    "(print-dict (get 'harmony-scores tr-hilo))"
   ]
  },
  {
   "cell_type": "code",
   "execution_count": 182,
   "metadata": {
    "ExecuteTime": {
     "end_time": "2018-12-21T22:54:30.165733Z",
     "start_time": "2018-12-21T22:54:30.154Z"
    }
   },
   "outputs": [
    {
     "name": "stdout",
     "output_type": "stream",
     "text": [
      "(i t ə)\t\t0.9999999999622486\n",
      "(ɪ t ə)\t\t1.4251640826871334e-21\n",
      "(i t a)\t\t3.775134544136581e-11\n",
      "(ɪ t a)\t\t4.248354255131208e-18\n"
     ]
    }
   ],
   "source": [
    "(print-dict (get 'probabilities tr-hilo))"
   ]
  },
  {
   "cell_type": "code",
   "execution_count": 183,
   "metadata": {
    "ExecuteTime": {
     "end_time": "2018-12-21T22:54:30.194337Z",
     "start_time": "2018-12-21T22:54:30.173Z"
    }
   },
   "outputs": [
    {
     "data": {
      "text/html": [
       "<code>'(i t ə)</code>"
      ],
      "text/plain": [
       "'(i t ə)"
      ]
     },
     "execution_count": 183,
     "metadata": {},
     "output_type": "execute_result"
    }
   ],
   "source": [
    "(eval/HG (get my-input figure2-inputs) weights-figure1)"
   ]
  },
  {
   "cell_type": "code",
   "execution_count": 184,
   "metadata": {
    "ExecuteTime": {
     "end_time": "2018-12-21T22:54:30.210638Z",
     "start_time": "2018-12-21T22:54:30.192Z"
    }
   },
   "outputs": [
    {
     "data": {
      "text/html": [
       "<code>'(i t ə)</code>"
      ],
      "text/plain": [
       "'(i t ə)"
      ]
     },
     "execution_count": 184,
     "metadata": {},
     "output_type": "execute_result"
    }
   ],
   "source": [
    "(eval/MEOT (get my-input figure2-inputs) weights-figure1)"
   ]
  },
  {
   "cell_type": "code",
   "execution_count": 185,
   "metadata": {
    "ExecuteTime": {
     "end_time": "2018-12-21T22:54:30.248437Z",
     "start_time": "2018-12-21T22:54:30.209Z"
    }
   },
   "outputs": [
    {
     "name": "stdout",
     "output_type": "stream",
     "text": [
      "*I\t\t((i t ə) (i t a))\n",
      "PARSE-rtr\t\t((i t ə) (i t a))\n",
      "HARMONY\t\t((i t ə))\n",
      "PARSE-atr\t\t((i t ə))\n"
     ]
    }
   ],
   "source": [
    "(define tr-hilo-o (tableau-report/O (get my-input figure2-inputs)\n",
    "                                    (map second (get-figure2-OCs (get my-input figure2-inputs)))\n",
    "                                    figure1-constraint-ordering))\n",
    "(print-dict (map list \n",
    "                 con-names\n",
    "                 (get 'filter-profile tr-hilo-o)))"
   ]
  },
  {
   "cell_type": "code",
   "execution_count": 186,
   "metadata": {
    "ExecuteTime": {
     "end_time": "2018-12-21T22:54:30.256318Z",
     "start_time": "2018-12-21T22:54:30.224Z"
    }
   },
   "outputs": [
    {
     "data": {
      "text/html": [
       "<code>'(i t ə)</code>"
      ],
      "text/plain": [
       "'(i t ə)"
      ]
     },
     "execution_count": 186,
     "metadata": {},
     "output_type": "execute_result"
    }
   ],
   "source": [
    "(eval/OT (get my-input figure2-inputs) figure1-constraint-ordering)"
   ]
  },
  {
   "cell_type": "markdown",
   "metadata": {},
   "source": [
    "## mid hi"
   ]
  },
  {
   "cell_type": "code",
   "execution_count": 187,
   "metadata": {
    "ExecuteTime": {
     "end_time": "2018-12-21T22:54:30.263123Z",
     "start_time": "2018-12-21T22:54:30.239Z"
    }
   },
   "outputs": [],
   "source": [
    "(define my-input '(mid hi))"
   ]
  },
  {
   "cell_type": "code",
   "execution_count": 188,
   "metadata": {
    "ExecuteTime": {
     "end_time": "2018-12-21T22:54:30.264206Z",
     "start_time": "2018-12-21T22:54:30.253Z"
    }
   },
   "outputs": [
    {
     "data": {
      "text/html": [
       "<code>'(*I PARSE-rtr HARMONY PARSE-atr)</code>"
      ],
      "text/plain": [
       "'(*I PARSE-rtr HARMONY PARSE-atr)"
      ]
     },
     "execution_count": 188,
     "metadata": {},
     "output_type": "execute_result"
    }
   ],
   "source": [
    "con-names"
   ]
  },
  {
   "cell_type": "code",
   "execution_count": 189,
   "metadata": {
    "ExecuteTime": {
     "end_time": "2018-12-21T22:54:30.309133Z",
     "start_time": "2018-12-21T22:54:30.271Z"
    }
   },
   "outputs": [
    {
     "name": "stdout",
     "output_type": "stream",
     "text": [
      "(e t i)\t\t(0 1 0 0)\n",
      "(ɛ t i)\t\t(0 0 1 0)\n",
      "(e t ɪ)\t\t(1 1 1 1)\n",
      "(ɛ t ɪ)\t\t(1 0 0 1)\n"
     ]
    }
   ],
   "source": [
    "(define tr-midhi (tableau-report/W (get my-input figure2-inputs)\n",
    "                                   (map second (get-figure2-OCs (get my-input figure2-inputs)))\n",
    "                                   weights-figure1))\n",
    "(print-dict (get 'violation-profiles tr-midhi))"
   ]
  },
  {
   "cell_type": "code",
   "execution_count": 190,
   "metadata": {
    "ExecuteTime": {
     "end_time": "2018-12-21T22:54:30.312486Z",
     "start_time": "2018-12-21T22:54:30.285Z"
    }
   },
   "outputs": [
    {
     "name": "stdout",
     "output_type": "stream",
     "text": [
      "(e t i)\t\t-32\n",
      "(ɛ t i)\t\t-16\n",
      "(e t ɪ)\t\t-120\n",
      "(ɛ t ɪ)\t\t-72\n"
     ]
    }
   ],
   "source": [
    "(print-dict (get 'harmony-scores tr-midhi))"
   ]
  },
  {
   "cell_type": "code",
   "execution_count": 191,
   "metadata": {
    "ExecuteTime": {
     "end_time": "2018-12-21T22:54:30.315311Z",
     "start_time": "2018-12-21T22:54:30.299Z"
    }
   },
   "outputs": [
    {
     "name": "stdout",
     "output_type": "stream",
     "text": [
      "(e t i)\t\t1.1253516205509498e-07\n",
      "(ɛ t i)\t\t0.9999998874648379\n",
      "(e t ɪ)\t\t6.813556054780577e-46\n",
      "(ɛ t ɪ)\t\t4.780892345866913e-25\n"
     ]
    }
   ],
   "source": [
    "(print-dict (get 'probabilities tr-midhi))"
   ]
  },
  {
   "cell_type": "code",
   "execution_count": 192,
   "metadata": {
    "ExecuteTime": {
     "end_time": "2018-12-21T22:54:30.338447Z",
     "start_time": "2018-12-21T22:54:30.318Z"
    }
   },
   "outputs": [
    {
     "data": {
      "text/html": [
       "<code>'(ɛ t i)</code>"
      ],
      "text/plain": [
       "'(ɛ t i)"
      ]
     },
     "execution_count": 192,
     "metadata": {},
     "output_type": "execute_result"
    }
   ],
   "source": [
    "(eval/HG (get my-input figure2-inputs) weights-figure1)"
   ]
  },
  {
   "cell_type": "code",
   "execution_count": 193,
   "metadata": {
    "ExecuteTime": {
     "end_time": "2018-12-21T22:54:30.359139Z",
     "start_time": "2018-12-21T22:54:30.336Z"
    }
   },
   "outputs": [
    {
     "data": {
      "text/html": [
       "<code>'(ɛ t i)</code>"
      ],
      "text/plain": [
       "'(ɛ t i)"
      ]
     },
     "execution_count": 193,
     "metadata": {},
     "output_type": "execute_result"
    }
   ],
   "source": [
    "(eval/MEOT (get my-input figure2-inputs) weights-figure1)"
   ]
  },
  {
   "cell_type": "code",
   "execution_count": 194,
   "metadata": {
    "ExecuteTime": {
     "end_time": "2018-12-21T22:54:30.397046Z",
     "start_time": "2018-12-21T22:54:30.355Z"
    }
   },
   "outputs": [
    {
     "name": "stdout",
     "output_type": "stream",
     "text": [
      "*I\t\t((ɛ t i) (e t i))\n",
      "PARSE-rtr\t\t((ɛ t i))\n",
      "HARMONY\t\t((ɛ t i))\n",
      "PARSE-atr\t\t((ɛ t i))\n"
     ]
    }
   ],
   "source": [
    "(define tr-midhi-o (tableau-report/O (get my-input figure2-inputs)\n",
    "                                     (map second (get-figure2-OCs (get my-input figure2-inputs)))\n",
    "                                     figure1-constraint-ordering))\n",
    "(print-dict (map list \n",
    "                 con-names\n",
    "                 (get 'filter-profile tr-midhi-o)))"
   ]
  },
  {
   "cell_type": "code",
   "execution_count": 195,
   "metadata": {
    "ExecuteTime": {
     "end_time": "2018-12-21T22:54:30.408506Z",
     "start_time": "2018-12-21T22:54:30.371Z"
    }
   },
   "outputs": [
    {
     "data": {
      "text/html": [
       "<code>'(ɛ t i)</code>"
      ],
      "text/plain": [
       "'(ɛ t i)"
      ]
     },
     "execution_count": 195,
     "metadata": {},
     "output_type": "execute_result"
    }
   ],
   "source": [
    "(eval/OT (get my-input figure2-inputs) figure1-constraint-ordering)"
   ]
  },
  {
   "cell_type": "markdown",
   "metadata": {},
   "source": [
    "## mid mid"
   ]
  },
  {
   "cell_type": "code",
   "execution_count": 196,
   "metadata": {
    "ExecuteTime": {
     "end_time": "2018-12-21T22:54:30.410841Z",
     "start_time": "2018-12-21T22:54:30.387Z"
    }
   },
   "outputs": [],
   "source": [
    "(define my-input '(mid mid))"
   ]
  },
  {
   "cell_type": "code",
   "execution_count": 197,
   "metadata": {
    "ExecuteTime": {
     "end_time": "2018-12-21T22:54:30.414276Z",
     "start_time": "2018-12-21T22:54:30.406Z"
    }
   },
   "outputs": [
    {
     "data": {
      "text/html": [
       "<code>'(*I PARSE-rtr HARMONY PARSE-atr)</code>"
      ],
      "text/plain": [
       "'(*I PARSE-rtr HARMONY PARSE-atr)"
      ]
     },
     "execution_count": 197,
     "metadata": {},
     "output_type": "execute_result"
    }
   ],
   "source": [
    "con-names"
   ]
  },
  {
   "cell_type": "code",
   "execution_count": 198,
   "metadata": {
    "ExecuteTime": {
     "end_time": "2018-12-21T22:54:30.459452Z",
     "start_time": "2018-12-21T22:54:30.422Z"
    }
   },
   "outputs": [
    {
     "name": "stdout",
     "output_type": "stream",
     "text": [
      "(e t e)\t\t(0 1 0 0)\n",
      "(ɛ t e)\t\t(0 0 1 0)\n",
      "(e t ɛ)\t\t(0 1 1 1)\n",
      "(ɛ t ɛ)\t\t(0 0 0 1)\n"
     ]
    }
   ],
   "source": [
    "(define tr-midmid (tableau-report/W (get my-input figure2-inputs)\n",
    "                                    (map second (get-figure2-OCs (get my-input figure2-inputs)))\n",
    "                                    weights-figure1))\n",
    "(print-dict (get 'violation-profiles tr-midmid))"
   ]
  },
  {
   "cell_type": "code",
   "execution_count": 199,
   "metadata": {
    "ExecuteTime": {
     "end_time": "2018-12-21T22:54:30.461203Z",
     "start_time": "2018-12-21T22:54:30.435Z"
    }
   },
   "outputs": [
    {
     "name": "stdout",
     "output_type": "stream",
     "text": [
      "(e t e)\t\t-32\n",
      "(ɛ t e)\t\t-16\n",
      "(e t ɛ)\t\t-56\n",
      "(ɛ t ɛ)\t\t-8\n"
     ]
    }
   ],
   "source": [
    "(print-dict (get 'harmony-scores tr-midmid))"
   ]
  },
  {
   "cell_type": "code",
   "execution_count": 200,
   "metadata": {
    "ExecuteTime": {
     "end_time": "2018-12-21T22:54:30.463023Z",
     "start_time": "2018-12-21T22:54:30.450Z"
    }
   },
   "outputs": [
    {
     "name": "stdout",
     "output_type": "stream",
     "text": [
      "(e t e)\t\t3.7738685522747245e-11\n",
      "(ɛ t e)\t\t0.00033535013045382243\n",
      "(e t ɛ)\t\t1.424686153726086e-21\n",
      "(ɛ t ɛ)\t\t0.9996646498318075\n"
     ]
    }
   ],
   "source": [
    "(print-dict (get 'probabilities tr-midmid))"
   ]
  },
  {
   "cell_type": "code",
   "execution_count": 201,
   "metadata": {
    "ExecuteTime": {
     "end_time": "2018-12-21T22:54:30.491316Z",
     "start_time": "2018-12-21T22:54:30.470Z"
    }
   },
   "outputs": [
    {
     "data": {
      "text/html": [
       "<code>'(ɛ t ɛ)</code>"
      ],
      "text/plain": [
       "'(ɛ t ɛ)"
      ]
     },
     "execution_count": 201,
     "metadata": {},
     "output_type": "execute_result"
    }
   ],
   "source": [
    "(eval/HG (get my-input figure2-inputs) weights-figure1)"
   ]
  },
  {
   "cell_type": "code",
   "execution_count": 202,
   "metadata": {
    "ExecuteTime": {
     "end_time": "2018-12-21T22:54:30.507840Z",
     "start_time": "2018-12-21T22:54:30.491Z"
    }
   },
   "outputs": [
    {
     "data": {
      "text/html": [
       "<code>'(ɛ t ɛ)</code>"
      ],
      "text/plain": [
       "'(ɛ t ɛ)"
      ]
     },
     "execution_count": 202,
     "metadata": {},
     "output_type": "execute_result"
    }
   ],
   "source": [
    "(eval/MEOT (get my-input figure2-inputs) weights-figure1)"
   ]
  },
  {
   "cell_type": "code",
   "execution_count": 203,
   "metadata": {
    "ExecuteTime": {
     "end_time": "2018-12-21T22:54:30.550259Z",
     "start_time": "2018-12-21T22:54:30.508Z"
    }
   },
   "outputs": [
    {
     "name": "stdout",
     "output_type": "stream",
     "text": [
      "*I\t\t((ɛ t e) (ɛ t ɛ) (e t e) (e t ɛ))\n",
      "PARSE-rtr\t\t((ɛ t e) (ɛ t ɛ))\n",
      "HARMONY\t\t((ɛ t ɛ))\n",
      "PARSE-atr\t\t((ɛ t ɛ))\n"
     ]
    }
   ],
   "source": [
    "(define tr-midmid-o (tableau-report/O (get my-input figure2-inputs)\n",
    "                                      (map second (get-figure2-OCs (get my-input figure2-inputs)))\n",
    "                                      figure1-constraint-ordering))\n",
    "(print-dict (map list \n",
    "                 con-names\n",
    "                 (get 'filter-profile tr-midmid-o)))"
   ]
  },
  {
   "cell_type": "code",
   "execution_count": 204,
   "metadata": {
    "ExecuteTime": {
     "end_time": "2018-12-21T22:54:30.565060Z",
     "start_time": "2018-12-21T22:54:30.522Z"
    }
   },
   "outputs": [
    {
     "data": {
      "text/html": [
       "<code>'(ɛ t ɛ)</code>"
      ],
      "text/plain": [
       "'(ɛ t ɛ)"
      ]
     },
     "execution_count": 204,
     "metadata": {},
     "output_type": "execute_result"
    }
   ],
   "source": [
    "(eval/OT (get my-input figure2-inputs) figure1-constraint-ordering)"
   ]
  },
  {
   "cell_type": "markdown",
   "metadata": {},
   "source": [
    "## mid lo"
   ]
  },
  {
   "cell_type": "code",
   "execution_count": 205,
   "metadata": {
    "ExecuteTime": {
     "end_time": "2018-12-21T22:54:30.567103Z",
     "start_time": "2018-12-21T22:54:30.539Z"
    }
   },
   "outputs": [],
   "source": [
    "(define my-input '(mid lo))"
   ]
  },
  {
   "cell_type": "code",
   "execution_count": 206,
   "metadata": {
    "ExecuteTime": {
     "end_time": "2018-12-21T22:54:30.568264Z",
     "start_time": "2018-12-21T22:54:30.558Z"
    }
   },
   "outputs": [
    {
     "data": {
      "text/html": [
       "<code>'(*I PARSE-rtr HARMONY PARSE-atr)</code>"
      ],
      "text/plain": [
       "'(*I PARSE-rtr HARMONY PARSE-atr)"
      ]
     },
     "execution_count": 206,
     "metadata": {},
     "output_type": "execute_result"
    }
   ],
   "source": [
    "con-names"
   ]
  },
  {
   "cell_type": "code",
   "execution_count": 207,
   "metadata": {
    "ExecuteTime": {
     "end_time": "2018-12-21T22:54:30.611096Z",
     "start_time": "2018-12-21T22:54:30.576Z"
    }
   },
   "outputs": [
    {
     "name": "stdout",
     "output_type": "stream",
     "text": [
      "(e t ə)\t\t(0 1 0 0)\n",
      "(ɛ t ə)\t\t(0 0 1 0)\n",
      "(e t a)\t\t(0 1 1 1)\n",
      "(ɛ t a)\t\t(0 0 0 1)\n"
     ]
    }
   ],
   "source": [
    "(define tr-midlo (tableau-report/W (get my-input figure2-inputs)\n",
    "                                   (map second (get-figure2-OCs (get my-input figure2-inputs)))\n",
    "                                   weights-figure1))\n",
    "(print-dict (get 'violation-profiles tr-midlo))"
   ]
  },
  {
   "cell_type": "code",
   "execution_count": 208,
   "metadata": {
    "ExecuteTime": {
     "end_time": "2018-12-21T22:54:30.613405Z",
     "start_time": "2018-12-21T22:54:30.590Z"
    }
   },
   "outputs": [
    {
     "name": "stdout",
     "output_type": "stream",
     "text": [
      "(e t ə)\t\t-32\n",
      "(ɛ t ə)\t\t-16\n",
      "(e t a)\t\t-56\n",
      "(ɛ t a)\t\t-8\n"
     ]
    }
   ],
   "source": [
    "(print-dict (get 'harmony-scores tr-midlo))"
   ]
  },
  {
   "cell_type": "code",
   "execution_count": 209,
   "metadata": {
    "ExecuteTime": {
     "end_time": "2018-12-21T22:54:30.616100Z",
     "start_time": "2018-12-21T22:54:30.605Z"
    }
   },
   "outputs": [
    {
     "name": "stdout",
     "output_type": "stream",
     "text": [
      "(e t ə)\t\t3.7738685522747245e-11\n",
      "(ɛ t ə)\t\t0.00033535013045382243\n",
      "(e t a)\t\t1.424686153726086e-21\n",
      "(ɛ t a)\t\t0.9996646498318075\n"
     ]
    }
   ],
   "source": [
    "(print-dict (get 'probabilities tr-midlo))"
   ]
  },
  {
   "cell_type": "code",
   "execution_count": 210,
   "metadata": {
    "ExecuteTime": {
     "end_time": "2018-12-21T22:54:30.646661Z",
     "start_time": "2018-12-21T22:54:30.626Z"
    }
   },
   "outputs": [
    {
     "data": {
      "text/html": [
       "<code>'(ɛ t a)</code>"
      ],
      "text/plain": [
       "'(ɛ t a)"
      ]
     },
     "execution_count": 210,
     "metadata": {},
     "output_type": "execute_result"
    }
   ],
   "source": [
    "(eval/HG (get my-input figure2-inputs) weights-figure1)"
   ]
  },
  {
   "cell_type": "code",
   "execution_count": 211,
   "metadata": {
    "ExecuteTime": {
     "end_time": "2018-12-21T22:54:30.663249Z",
     "start_time": "2018-12-21T22:54:30.647Z"
    }
   },
   "outputs": [
    {
     "data": {
      "text/html": [
       "<code>'(ɛ t a)</code>"
      ],
      "text/plain": [
       "'(ɛ t a)"
      ]
     },
     "execution_count": 211,
     "metadata": {},
     "output_type": "execute_result"
    }
   ],
   "source": [
    "(eval/MEOT (get my-input figure2-inputs) weights-figure1)"
   ]
  },
  {
   "cell_type": "code",
   "execution_count": 212,
   "metadata": {
    "ExecuteTime": {
     "end_time": "2018-12-21T22:54:30.707578Z",
     "start_time": "2018-12-21T22:54:30.663Z"
    }
   },
   "outputs": [
    {
     "name": "stdout",
     "output_type": "stream",
     "text": [
      "*I\t\t((ɛ t ə) (ɛ t a) (e t ə) (e t a))\n",
      "PARSE-rtr\t\t((ɛ t ə) (ɛ t a))\n",
      "HARMONY\t\t((ɛ t a))\n",
      "PARSE-atr\t\t((ɛ t a))\n"
     ]
    }
   ],
   "source": [
    "(define tr-midlo-o (tableau-report/O (get my-input figure2-inputs)\n",
    "                                      (map second (get-figure2-OCs (get my-input figure2-inputs)))\n",
    "                                      figure1-constraint-ordering))\n",
    "(print-dict (map list \n",
    "                 con-names\n",
    "                 (get 'filter-profile tr-midlo-o)))"
   ]
  },
  {
   "cell_type": "code",
   "execution_count": 213,
   "metadata": {
    "ExecuteTime": {
     "end_time": "2018-12-21T22:54:30.717948Z",
     "start_time": "2018-12-21T22:54:30.678Z"
    }
   },
   "outputs": [
    {
     "data": {
      "text/html": [
       "<code>'(ɛ t a)</code>"
      ],
      "text/plain": [
       "'(ɛ t a)"
      ]
     },
     "execution_count": 213,
     "metadata": {},
     "output_type": "execute_result"
    }
   ],
   "source": [
    "(eval/OT (get my-input figure2-inputs) figure1-constraint-ordering)"
   ]
  },
  {
   "cell_type": "markdown",
   "metadata": {},
   "source": [
    "## lo hi"
   ]
  },
  {
   "cell_type": "code",
   "execution_count": 214,
   "metadata": {
    "ExecuteTime": {
     "end_time": "2018-12-21T22:54:30.720984Z",
     "start_time": "2018-12-21T22:54:30.694Z"
    }
   },
   "outputs": [],
   "source": [
    "(define my-input '(lo hi))"
   ]
  },
  {
   "cell_type": "code",
   "execution_count": 215,
   "metadata": {
    "ExecuteTime": {
     "end_time": "2018-12-21T22:54:30.721839Z",
     "start_time": "2018-12-21T22:54:30.713Z"
    }
   },
   "outputs": [
    {
     "data": {
      "text/html": [
       "<code>'(*I PARSE-rtr HARMONY PARSE-atr)</code>"
      ],
      "text/plain": [
       "'(*I PARSE-rtr HARMONY PARSE-atr)"
      ]
     },
     "execution_count": 215,
     "metadata": {},
     "output_type": "execute_result"
    }
   ],
   "source": [
    "con-names"
   ]
  },
  {
   "cell_type": "code",
   "execution_count": 216,
   "metadata": {
    "ExecuteTime": {
     "end_time": "2018-12-21T22:54:30.764362Z",
     "start_time": "2018-12-21T22:54:30.730Z"
    }
   },
   "outputs": [
    {
     "name": "stdout",
     "output_type": "stream",
     "text": [
      "(ə t i)\t\t(0 1 0 0)\n",
      "(a t i)\t\t(0 0 1 0)\n",
      "(ə t ɪ)\t\t(1 1 1 1)\n",
      "(a t ɪ)\t\t(1 0 0 1)\n"
     ]
    }
   ],
   "source": [
    "(define tr-lohi (tableau-report/W (get my-input figure2-inputs)\n",
    "                                   (map second (get-figure2-OCs (get my-input figure2-inputs)))\n",
    "                                   weights-figure1))\n",
    "(print-dict (get 'violation-profiles tr-lohi))"
   ]
  },
  {
   "cell_type": "code",
   "execution_count": 217,
   "metadata": {
    "ExecuteTime": {
     "end_time": "2018-12-21T22:54:30.766888Z",
     "start_time": "2018-12-21T22:54:30.745Z"
    }
   },
   "outputs": [
    {
     "name": "stdout",
     "output_type": "stream",
     "text": [
      "(ə t i)\t\t-32\n",
      "(a t i)\t\t-16\n",
      "(ə t ɪ)\t\t-120\n",
      "(a t ɪ)\t\t-72\n"
     ]
    }
   ],
   "source": [
    "(print-dict (get 'harmony-scores tr-lohi))"
   ]
  },
  {
   "cell_type": "code",
   "execution_count": 218,
   "metadata": {
    "ExecuteTime": {
     "end_time": "2018-12-21T22:54:30.768738Z",
     "start_time": "2018-12-21T22:54:30.760Z"
    }
   },
   "outputs": [
    {
     "name": "stdout",
     "output_type": "stream",
     "text": [
      "(ə t i)\t\t1.1253516205509498e-07\n",
      "(a t i)\t\t0.9999998874648379\n",
      "(ə t ɪ)\t\t6.813556054780577e-46\n",
      "(a t ɪ)\t\t4.780892345866913e-25\n"
     ]
    }
   ],
   "source": [
    "(print-dict (get 'probabilities tr-lohi))"
   ]
  },
  {
   "cell_type": "code",
   "execution_count": 219,
   "metadata": {
    "ExecuteTime": {
     "end_time": "2018-12-21T22:54:30.803284Z",
     "start_time": "2018-12-21T22:54:30.780Z"
    }
   },
   "outputs": [
    {
     "data": {
      "text/html": [
       "<code>'(a t i)</code>"
      ],
      "text/plain": [
       "'(a t i)"
      ]
     },
     "execution_count": 219,
     "metadata": {},
     "output_type": "execute_result"
    }
   ],
   "source": [
    "(eval/HG (get my-input figure2-inputs) weights-figure1)"
   ]
  },
  {
   "cell_type": "code",
   "execution_count": 220,
   "metadata": {
    "ExecuteTime": {
     "end_time": "2018-12-21T22:54:30.828492Z",
     "start_time": "2018-12-21T22:54:30.800Z"
    }
   },
   "outputs": [
    {
     "data": {
      "text/html": [
       "<code>'(a t i)</code>"
      ],
      "text/plain": [
       "'(a t i)"
      ]
     },
     "execution_count": 220,
     "metadata": {},
     "output_type": "execute_result"
    }
   ],
   "source": [
    "(eval/MEOT (get my-input figure2-inputs) weights-figure1)"
   ]
  },
  {
   "cell_type": "code",
   "execution_count": 221,
   "metadata": {
    "ExecuteTime": {
     "end_time": "2018-12-21T22:54:30.897646Z",
     "start_time": "2018-12-21T22:54:30.825Z"
    }
   },
   "outputs": [
    {
     "name": "stdout",
     "output_type": "stream",
     "text": [
      "*I\t\t((a t i) (ə t i))\n",
      "PARSE-rtr\t\t((a t i))\n",
      "HARMONY\t\t((a t i))\n",
      "PARSE-atr\t\t((a t i))\n"
     ]
    }
   ],
   "source": [
    "(define tr-lohi-o (tableau-report/O (get my-input figure2-inputs)\n",
    "                                     (map second (get-figure2-OCs (get my-input figure2-inputs)))\n",
    "                                     figure1-constraint-ordering))\n",
    "(print-dict (map list \n",
    "                 con-names\n",
    "                 (get 'filter-profile tr-lohi-o)))"
   ]
  },
  {
   "cell_type": "code",
   "execution_count": 222,
   "metadata": {
    "ExecuteTime": {
     "end_time": "2018-12-21T22:54:30.909855Z",
     "start_time": "2018-12-21T22:54:30.847Z"
    }
   },
   "outputs": [
    {
     "data": {
      "text/html": [
       "<code>'(a t i)</code>"
      ],
      "text/plain": [
       "'(a t i)"
      ]
     },
     "execution_count": 222,
     "metadata": {},
     "output_type": "execute_result"
    }
   ],
   "source": [
    "(eval/OT (get my-input figure2-inputs) figure1-constraint-ordering)"
   ]
  },
  {
   "cell_type": "markdown",
   "metadata": {},
   "source": [
    "## lo mid"
   ]
  },
  {
   "cell_type": "code",
   "execution_count": 223,
   "metadata": {
    "ExecuteTime": {
     "end_time": "2018-12-21T22:54:30.911621Z",
     "start_time": "2018-12-21T22:54:30.871Z"
    }
   },
   "outputs": [],
   "source": [
    "(define my-input '(lo mid))"
   ]
  },
  {
   "cell_type": "code",
   "execution_count": 224,
   "metadata": {
    "ExecuteTime": {
     "end_time": "2018-12-21T22:54:30.915632Z",
     "start_time": "2018-12-21T22:54:30.890Z"
    }
   },
   "outputs": [
    {
     "data": {
      "text/html": [
       "<code>'(*I PARSE-rtr HARMONY PARSE-atr)</code>"
      ],
      "text/plain": [
       "'(*I PARSE-rtr HARMONY PARSE-atr)"
      ]
     },
     "execution_count": 224,
     "metadata": {},
     "output_type": "execute_result"
    }
   ],
   "source": [
    "con-names"
   ]
  },
  {
   "cell_type": "code",
   "execution_count": 225,
   "metadata": {
    "ExecuteTime": {
     "end_time": "2018-12-21T22:54:30.952341Z",
     "start_time": "2018-12-21T22:54:30.914Z"
    }
   },
   "outputs": [
    {
     "name": "stdout",
     "output_type": "stream",
     "text": [
      "(ə t e)\t\t(0 1 0 0)\n",
      "(a t e)\t\t(0 0 1 0)\n",
      "(ə t ɛ)\t\t(0 1 1 1)\n",
      "(a t ɛ)\t\t(0 0 0 1)\n"
     ]
    }
   ],
   "source": [
    "(define tr-lomid (tableau-report/W (get my-input figure2-inputs)\n",
    "                                   (map second (get-figure2-OCs (get my-input figure2-inputs)))\n",
    "                                   weights-figure1))\n",
    "(print-dict (get 'violation-profiles tr-lomid))"
   ]
  },
  {
   "cell_type": "code",
   "execution_count": 226,
   "metadata": {
    "ExecuteTime": {
     "end_time": "2018-12-21T22:54:30.955028Z",
     "start_time": "2018-12-21T22:54:30.930Z"
    }
   },
   "outputs": [
    {
     "name": "stdout",
     "output_type": "stream",
     "text": [
      "(ə t e)\t\t-32\n",
      "(a t e)\t\t-16\n",
      "(ə t ɛ)\t\t-56\n",
      "(a t ɛ)\t\t-8\n"
     ]
    }
   ],
   "source": [
    "(print-dict (get 'harmony-scores tr-lomid))"
   ]
  },
  {
   "cell_type": "code",
   "execution_count": 227,
   "metadata": {
    "ExecuteTime": {
     "end_time": "2018-12-21T22:54:30.959256Z",
     "start_time": "2018-12-21T22:54:30.946Z"
    }
   },
   "outputs": [
    {
     "name": "stdout",
     "output_type": "stream",
     "text": [
      "(ə t e)\t\t3.7738685522747245e-11\n",
      "(a t e)\t\t0.00033535013045382243\n",
      "(ə t ɛ)\t\t1.424686153726086e-21\n",
      "(a t ɛ)\t\t0.9996646498318075\n"
     ]
    }
   ],
   "source": [
    "(print-dict (get 'probabilities tr-lomid))"
   ]
  },
  {
   "cell_type": "code",
   "execution_count": 228,
   "metadata": {
    "ExecuteTime": {
     "end_time": "2018-12-21T22:54:30.993671Z",
     "start_time": "2018-12-21T22:54:30.967Z"
    }
   },
   "outputs": [
    {
     "data": {
      "text/html": [
       "<code>'(a t ɛ)</code>"
      ],
      "text/plain": [
       "'(a t ɛ)"
      ]
     },
     "execution_count": 228,
     "metadata": {},
     "output_type": "execute_result"
    }
   ],
   "source": [
    "(eval/HG (get my-input figure2-inputs) weights-figure1)"
   ]
  },
  {
   "cell_type": "code",
   "execution_count": 229,
   "metadata": {
    "ExecuteTime": {
     "end_time": "2018-12-21T22:54:31.007615Z",
     "start_time": "2018-12-21T22:54:30.989Z"
    }
   },
   "outputs": [
    {
     "data": {
      "text/html": [
       "<code>'(a t ɛ)</code>"
      ],
      "text/plain": [
       "'(a t ɛ)"
      ]
     },
     "execution_count": 229,
     "metadata": {},
     "output_type": "execute_result"
    }
   ],
   "source": [
    "(eval/MEOT (get my-input figure2-inputs) weights-figure1)"
   ]
  },
  {
   "cell_type": "code",
   "execution_count": 230,
   "metadata": {
    "ExecuteTime": {
     "end_time": "2018-12-21T22:54:31.051051Z",
     "start_time": "2018-12-21T22:54:31.006Z"
    }
   },
   "outputs": [
    {
     "name": "stdout",
     "output_type": "stream",
     "text": [
      "*I\t\t((a t e) (a t ɛ) (ə t e) (ə t ɛ))\n",
      "PARSE-rtr\t\t((a t e) (a t ɛ))\n",
      "HARMONY\t\t((a t ɛ))\n",
      "PARSE-atr\t\t((a t ɛ))\n"
     ]
    }
   ],
   "source": [
    "(define tr-lomid-o (tableau-report/O (get my-input figure2-inputs)\n",
    "                                     (map second (get-figure2-OCs (get my-input figure2-inputs)))\n",
    "                                     figure1-constraint-ordering))\n",
    "(print-dict (map list \n",
    "                 con-names\n",
    "                 (get 'filter-profile tr-lomid-o)))"
   ]
  },
  {
   "cell_type": "code",
   "execution_count": 231,
   "metadata": {
    "ExecuteTime": {
     "end_time": "2018-12-21T22:54:31.064275Z",
     "start_time": "2018-12-21T22:54:31.023Z"
    }
   },
   "outputs": [
    {
     "data": {
      "text/html": [
       "<code>'(a t ɛ)</code>"
      ],
      "text/plain": [
       "'(a t ɛ)"
      ]
     },
     "execution_count": 231,
     "metadata": {},
     "output_type": "execute_result"
    }
   ],
   "source": [
    "(eval/OT (get my-input figure2-inputs) figure1-constraint-ordering)"
   ]
  },
  {
   "cell_type": "markdown",
   "metadata": {},
   "source": [
    "## lo lo"
   ]
  },
  {
   "cell_type": "code",
   "execution_count": 232,
   "metadata": {
    "ExecuteTime": {
     "end_time": "2018-12-21T22:54:31.065886Z",
     "start_time": "2018-12-21T22:54:31.040Z"
    }
   },
   "outputs": [],
   "source": [
    "(define my-input '(lo lo))"
   ]
  },
  {
   "cell_type": "code",
   "execution_count": 233,
   "metadata": {
    "ExecuteTime": {
     "end_time": "2018-12-21T22:54:31.067172Z",
     "start_time": "2018-12-21T22:54:31.061Z"
    }
   },
   "outputs": [
    {
     "data": {
      "text/html": [
       "<code>'(*I PARSE-rtr HARMONY PARSE-atr)</code>"
      ],
      "text/plain": [
       "'(*I PARSE-rtr HARMONY PARSE-atr)"
      ]
     },
     "execution_count": 233,
     "metadata": {},
     "output_type": "execute_result"
    }
   ],
   "source": [
    "con-names"
   ]
  },
  {
   "cell_type": "code",
   "execution_count": 234,
   "metadata": {
    "ExecuteTime": {
     "end_time": "2018-12-21T22:54:31.114357Z",
     "start_time": "2018-12-21T22:54:31.078Z"
    }
   },
   "outputs": [
    {
     "name": "stdout",
     "output_type": "stream",
     "text": [
      "(ə t ə)\t\t(0 1 0 0)\n",
      "(a t ə)\t\t(0 0 1 0)\n",
      "(ə t a)\t\t(0 1 1 1)\n",
      "(a t a)\t\t(0 0 0 1)\n"
     ]
    }
   ],
   "source": [
    "(define tr-lolo (tableau-report/W (get my-input figure2-inputs)\n",
    "                                  (map second (get-figure2-OCs (get my-input figure2-inputs)))\n",
    "                                  weights-figure1))\n",
    "(print-dict (get 'violation-profiles tr-lolo))"
   ]
  },
  {
   "cell_type": "code",
   "execution_count": 235,
   "metadata": {
    "ExecuteTime": {
     "end_time": "2018-12-21T22:54:31.116702Z",
     "start_time": "2018-12-21T22:54:31.093Z"
    }
   },
   "outputs": [
    {
     "name": "stdout",
     "output_type": "stream",
     "text": [
      "(ə t ə)\t\t-32\n",
      "(a t ə)\t\t-16\n",
      "(ə t a)\t\t-56\n",
      "(a t a)\t\t-8\n"
     ]
    }
   ],
   "source": [
    "(print-dict (get 'harmony-scores tr-lolo))"
   ]
  },
  {
   "cell_type": "code",
   "execution_count": 236,
   "metadata": {
    "ExecuteTime": {
     "end_time": "2018-12-21T22:54:31.119433Z",
     "start_time": "2018-12-21T22:54:31.108Z"
    }
   },
   "outputs": [
    {
     "name": "stdout",
     "output_type": "stream",
     "text": [
      "(ə t ə)\t\t3.7738685522747245e-11\n",
      "(a t ə)\t\t0.00033535013045382243\n",
      "(ə t a)\t\t1.424686153726086e-21\n",
      "(a t a)\t\t0.9996646498318075\n"
     ]
    }
   ],
   "source": [
    "(print-dict (get 'probabilities tr-lolo))"
   ]
  },
  {
   "cell_type": "code",
   "execution_count": 237,
   "metadata": {
    "ExecuteTime": {
     "end_time": "2018-12-21T22:54:31.150660Z",
     "start_time": "2018-12-21T22:54:31.131Z"
    }
   },
   "outputs": [
    {
     "data": {
      "text/html": [
       "<code>'(a t a)</code>"
      ],
      "text/plain": [
       "'(a t a)"
      ]
     },
     "execution_count": 237,
     "metadata": {},
     "output_type": "execute_result"
    }
   ],
   "source": [
    "(eval/HG (get my-input figure2-inputs) weights-figure1)"
   ]
  },
  {
   "cell_type": "code",
   "execution_count": 238,
   "metadata": {
    "ExecuteTime": {
     "end_time": "2018-12-21T22:54:31.169765Z",
     "start_time": "2018-12-21T22:54:31.153Z"
    }
   },
   "outputs": [
    {
     "data": {
      "text/html": [
       "<code>'(a t a)</code>"
      ],
      "text/plain": [
       "'(a t a)"
      ]
     },
     "execution_count": 238,
     "metadata": {},
     "output_type": "execute_result"
    }
   ],
   "source": [
    "(eval/MEOT (get my-input figure2-inputs) weights-figure1)"
   ]
  },
  {
   "cell_type": "code",
   "execution_count": 239,
   "metadata": {
    "ExecuteTime": {
     "end_time": "2018-12-21T22:54:31.213480Z",
     "start_time": "2018-12-21T22:54:31.170Z"
    }
   },
   "outputs": [
    {
     "name": "stdout",
     "output_type": "stream",
     "text": [
      "*I\t\t((a t ə) (a t a) (ə t ə) (ə t a))\n",
      "PARSE-rtr\t\t((a t ə) (a t a))\n",
      "HARMONY\t\t((a t a))\n",
      "PARSE-atr\t\t((a t a))\n"
     ]
    }
   ],
   "source": [
    "(define tr-lolo-o (tableau-report/O (get my-input figure2-inputs)\n",
    "                                     (map second (get-figure2-OCs (get my-input figure2-inputs)))\n",
    "                                     figure1-constraint-ordering))\n",
    "(print-dict (map list \n",
    "                 con-names\n",
    "                 (get 'filter-profile tr-lolo-o)))"
   ]
  },
  {
   "cell_type": "code",
   "execution_count": 240,
   "metadata": {
    "ExecuteTime": {
     "end_time": "2018-12-21T22:54:31.231635Z",
     "start_time": "2018-12-21T22:54:31.185Z"
    }
   },
   "outputs": [
    {
     "data": {
      "text/html": [
       "<code>'(a t a)</code>"
      ],
      "text/plain": [
       "'(a t a)"
      ]
     },
     "execution_count": 240,
     "metadata": {},
     "output_type": "execute_result"
    }
   ],
   "source": [
    "(eval/OT (get my-input figure2-inputs) figure1-constraint-ordering)"
   ]
  },
  {
   "cell_type": "markdown",
   "metadata": {},
   "source": [
    "# Defining correct mappings for learning"
   ]
  },
  {
   "cell_type": "code",
   "execution_count": 241,
   "metadata": {
    "ExecuteTime": {
     "end_time": "2018-12-21T22:54:31.523836Z",
     "start_time": "2018-12-21T22:54:31.202Z"
    }
   },
   "outputs": [
    {
     "name": "stdout",
     "output_type": "stream",
     "text": [
      "(a t e)\t\t(a t ɛ)\n",
      "(a t i)\t\t(a t i)\n",
      "(a t ɪ)\t\t(ə t i)\n",
      "(a t ɛ)\t\t(a t ɛ)\n",
      "(a t ə)\t\t(a t a)\n",
      "(a t a)\t\t(a t a)\n",
      "(ə t e)\t\t(ə t e)\n",
      "(ə t i)\t\t(ə t i)\n",
      "(ə t ɪ)\t\t(ə t i)\n",
      "(ə t ɛ)\t\t(a t ɛ)\n",
      "(ə t ə)\t\t(ə t ə)\n",
      "(ə t a)\t\t(a t a)\n",
      "(ɛ t e)\t\t(ɛ t ɛ)\n",
      "(ɛ t i)\t\t(ɛ t i)\n",
      "(ɛ t ɪ)\t\t(e t i)\n",
      "(ɛ t ɛ)\t\t(ɛ t ɛ)\n",
      "(ɛ t ə)\t\t(ɛ t a)\n",
      "(ɛ t a)\t\t(ɛ t a)\n",
      "(ɪ t e)\t\t(i t e)\n",
      "(ɪ t i)\t\t(i t i)\n",
      "(ɪ t ɪ)\t\t(i t i)\n",
      "(ɪ t ɛ)\t\t(i t e)\n",
      "(ɪ t ə)\t\t(i t ə)\n",
      "(ɪ t a)\t\t(i t ə)\n",
      "(i t e)\t\t(i t e)\n",
      "(i t i)\t\t(i t i)\n",
      "(i t ɪ)\t\t(i t i)\n",
      "(i t ɛ)\t\t(i t ɛ)\n",
      "(i t ə)\t\t(i t ə)\n",
      "(i t a)\t\t(i t a)\n",
      "(e t e)\t\t(e t e)\n",
      "(e t i)\t\t(e t i)\n",
      "(e t ɪ)\t\t(e t i)\n",
      "(e t ɛ)\t\t(ɛ t ɛ)\n",
      "(e t ə)\t\t(e t ə)\n",
      "(e t a)\t\t(ɛ t a)\n"
     ]
    }
   ],
   "source": [
    "(define correct-mappings\n",
    "  (map list\n",
    "       all-wordforms\n",
    "       (map (λ (ur) (eval/HG ur weights-figure1))\n",
    "            all-wordforms)))\n",
    "(define correct-mappings/HG correct-mappings)\n",
    "(print-dict correct-mappings)"
   ]
  },
  {
   "cell_type": "code",
   "execution_count": 242,
   "metadata": {
    "ExecuteTime": {
     "end_time": "2018-12-21T22:54:31.851409Z",
     "start_time": "2018-12-21T22:54:31.224Z"
    }
   },
   "outputs": [
    {
     "name": "stdout",
     "output_type": "stream",
     "text": [
      "(a t e)\t\t(a t ɛ)\n",
      "(a t i)\t\t(a t i)\n",
      "(a t ɪ)\t\t(ə t i)\n",
      "(a t ɛ)\t\t(a t ɛ)\n",
      "(a t ə)\t\t(a t a)\n",
      "(a t a)\t\t(a t a)\n",
      "(ə t e)\t\t(ə t e)\n",
      "(ə t i)\t\t(ə t i)\n",
      "(ə t ɪ)\t\t(ə t i)\n",
      "(ə t ɛ)\t\t(a t ɛ)\n",
      "(ə t ə)\t\t(ə t ə)\n",
      "(ə t a)\t\t(a t a)\n",
      "(ɛ t e)\t\t(ɛ t ɛ)\n",
      "(ɛ t i)\t\t(ɛ t i)\n",
      "(ɛ t ɪ)\t\t(e t i)\n",
      "(ɛ t ɛ)\t\t(ɛ t ɛ)\n",
      "(ɛ t ə)\t\t(ɛ t a)\n",
      "(ɛ t a)\t\t(ɛ t a)\n",
      "(ɪ t e)\t\t(i t e)\n",
      "(ɪ t i)\t\t(i t i)\n",
      "(ɪ t ɪ)\t\t(i t i)\n",
      "(ɪ t ɛ)\t\t(i t e)\n",
      "(ɪ t ə)\t\t(i t ə)\n",
      "(ɪ t a)\t\t(i t ə)\n",
      "(i t e)\t\t(i t e)\n",
      "(i t i)\t\t(i t i)\n",
      "(i t ɪ)\t\t(i t i)\n",
      "(i t ɛ)\t\t(i t ɛ)\n",
      "(i t ə)\t\t(i t ə)\n",
      "(i t a)\t\t(i t a)\n",
      "(e t e)\t\t(e t e)\n",
      "(e t i)\t\t(e t i)\n",
      "(e t ɪ)\t\t(e t i)\n",
      "(e t ɛ)\t\t(ɛ t ɛ)\n",
      "(e t ə)\t\t(e t ə)\n",
      "(e t a)\t\t(ɛ t a)\n"
     ]
    }
   ],
   "source": [
    "(define correct-mappings/OT\n",
    "  (map list\n",
    "       all-wordforms\n",
    "       (map (λ (ur) (eval/OT ur figure1-constraint-ordering))\n",
    "            all-wordforms)))\n",
    "(print-dict correct-mappings/OT)"
   ]
  },
  {
   "cell_type": "code",
   "execution_count": 243,
   "metadata": {
    "ExecuteTime": {
     "end_time": "2018-12-21T22:54:31.876434Z",
     "start_time": "2018-12-21T22:54:31.240Z"
    }
   },
   "outputs": [
    {
     "data": {
      "text/html": [
       "<code>#t</code>"
      ],
      "text/plain": [
       "#t"
      ]
     },
     "execution_count": 243,
     "metadata": {},
     "output_type": "execute_result"
    }
   ],
   "source": [
    "(equal-assoc-lst? correct-mappings/HG correct-mappings/OT word<?)"
   ]
  },
  {
   "cell_type": "code",
   "execution_count": 244,
   "metadata": {
    "ExecuteTime": {
     "end_time": "2018-12-21T22:54:31.882654Z",
     "start_time": "2018-12-21T22:54:31.257Z"
    }
   },
   "outputs": [],
   "source": [
    "(define (sufficient? weights-or-rankings correct-IO-mappings [my-eval eval/HG])\n",
    "  (equal-assoc-lst? correct-mappings\n",
    "                    (map list\n",
    "                         all-wordforms\n",
    "                         (map (λ (ur) (my-eval ur weights-or-rankings))\n",
    "                              all-wordforms))\n",
    "                    word<?\n",
    "                    ))"
   ]
  },
  {
   "cell_type": "code",
   "execution_count": 245,
   "metadata": {
    "ExecuteTime": {
     "end_time": "2018-12-21T22:54:31.895509Z",
     "start_time": "2018-12-21T22:54:31.272Z"
    }
   },
   "outputs": [
    {
     "data": {
      "text/html": [
       "<code>'((*I -64) (PARSE-rtr -32) (HARMONY -16) (PARSE-atr -8))</code>"
      ],
      "text/plain": [
       "'((*I -64) (PARSE-rtr -32) (HARMONY -16) (PARSE-atr -8))"
      ]
     },
     "execution_count": 245,
     "metadata": {},
     "output_type": "execute_result"
    }
   ],
   "source": [
    "weights-figure1"
   ]
  },
  {
   "cell_type": "code",
   "execution_count": 246,
   "metadata": {
    "ExecuteTime": {
     "end_time": "2018-12-21T22:54:32.195633Z",
     "start_time": "2018-12-21T22:54:31.288Z"
    }
   },
   "outputs": [
    {
     "data": {
      "text/html": [
       "<code>#t</code>"
      ],
      "text/plain": [
       "#t"
      ]
     },
     "execution_count": 246,
     "metadata": {},
     "output_type": "execute_result"
    }
   ],
   "source": [
    "(sufficient? weights-figure1 correct-mappings eval/HG)"
   ]
  },
  {
   "cell_type": "code",
   "execution_count": 247,
   "metadata": {
    "ExecuteTime": {
     "end_time": "2018-12-21T22:54:32.197290Z",
     "start_time": "2018-12-21T22:54:31.304Z"
    }
   },
   "outputs": [
    {
     "data": {
      "text/html": [
       "<code>'(#&lt;procedure:*I&gt; #&lt;procedure&gt; #&lt;procedure:HARMONY&gt; #&lt;procedure&gt;)</code>"
      ],
      "text/plain": [
       "'(#<procedure:*I> #<procedure> #<procedure:HARMONY> #<procedure>)"
      ]
     },
     "execution_count": 247,
     "metadata": {},
     "output_type": "execute_result"
    }
   ],
   "source": [
    "figure1-constraint-ordering"
   ]
  },
  {
   "cell_type": "code",
   "execution_count": 248,
   "metadata": {
    "ExecuteTime": {
     "end_time": "2018-12-21T22:54:32.454595Z",
     "start_time": "2018-12-21T22:54:31.320Z"
    }
   },
   "outputs": [
    {
     "data": {
      "text/html": [
       "<code>#t</code>"
      ],
      "text/plain": [
       "#t"
      ]
     },
     "execution_count": 248,
     "metadata": {},
     "output_type": "execute_result"
    }
   ],
   "source": [
    "(sufficient? figure1-constraint-ordering correct-mappings/OT eval/OT)"
   ]
  },
  {
   "cell_type": "markdown",
   "metadata": {},
   "source": [
    "# Using Rosette to find weights or rankings that are sufficient for the data"
   ]
  },
  {
   "cell_type": "markdown",
   "metadata": {},
   "source": [
    "## HG weights"
   ]
  },
  {
   "cell_type": "markdown",
   "metadata": {},
   "source": [
    "The code below declares four symbolic real-valued variables representing the weights of the four constraints:"
   ]
  },
  {
   "cell_type": "code",
   "execution_count": 249,
   "metadata": {
    "ExecuteTime": {
     "end_time": "2018-12-21T22:54:32.463583Z",
     "start_time": "2018-12-21T22:54:31.339Z"
    }
   },
   "outputs": [
    {
     "data": {
      "text/html": [
       "<code>(list (list '*I w_*I) (list 'PARSE-rtr w_PARSE-rtr) (list 'HARMONY w_HARMONY) (list 'PARSE-atr w_PARSE-atr))</code>"
      ],
      "text/plain": [
       "(list (list '*I w_*I) (list 'PARSE-rtr w_PARSE-rtr) (list 'HARMONY w_HARMONY) (list 'PARSE-atr w_PARSE-atr))"
      ]
     },
     "execution_count": 249,
     "metadata": {},
     "output_type": "execute_result"
    }
   ],
   "source": [
    "(define-symbolic w_*I w_PARSE-rtr w_HARMONY w_PARSE-atr real?)\n",
    "(define weights-symbolic (map list\n",
    "                              con-names\n",
    "                              (list w_*I w_PARSE-rtr w_HARMONY w_PARSE-atr)))\n",
    "weights-symbolic"
   ]
  },
  {
   "cell_type": "markdown",
   "metadata": {},
   "source": [
    "The code below asks Rosette to use the current solver (`Z3`, by default) to find a concrete binding to existing symbolic variables that suffices to make the assertion below true, viz. that the list of weights in `weights-symbolic` is sufficient to produce the mappings in `correct-mappings` and that all of the weights are non-positive:"
   ]
  },
  {
   "cell_type": "code",
   "execution_count": 250,
   "metadata": {
    "ExecuteTime": {
     "end_time": "2018-12-21T22:54:32.465053Z",
     "start_time": "2018-12-21T22:54:31.357Z"
    }
   },
   "outputs": [
    {
     "data": {
      "text/html": [
       "<code>'((*I -64) (PARSE-rtr -32) (HARMONY -16) (PARSE-atr -8))</code>"
      ],
      "text/plain": [
       "'((*I -64) (PARSE-rtr -32) (HARMONY -16) (PARSE-atr -8))"
      ]
     },
     "execution_count": 250,
     "metadata": {},
     "output_type": "execute_result"
    }
   ],
   "source": [
    "weights-figure1"
   ]
  },
  {
   "cell_type": "code",
   "execution_count": 251,
   "metadata": {
    "ExecuteTime": {
     "end_time": "2018-12-21T22:54:32.470370Z",
     "start_time": "2018-12-21T22:54:31.373Z"
    }
   },
   "outputs": [
    {
     "data": {
      "text/html": [
       "<code>#t</code>"
      ],
      "text/plain": [
       "#t"
      ]
     },
     "execution_count": 251,
     "metadata": {},
     "output_type": "execute_result"
    }
   ],
   "source": [
    "(define (non-positive weights) \n",
    "  (apply && (map (λ (w) (<= w 0))\n",
    "                 weights) ))\n",
    "(non-positive (map second weights-figure1))"
   ]
  },
  {
   "cell_type": "code",
   "execution_count": 252,
   "metadata": {
    "ExecuteTime": {
     "end_time": "2018-12-21T22:54:32.877992Z",
     "start_time": "2018-12-21T22:54:31.389Z"
    }
   },
   "outputs": [
    {
     "data": {
      "text/html": [
       "<code>(model\n",
       " [w_*I -5]\n",
       " [w_PARSE-rtr -4]\n",
       " [w_HARMONY -3]\n",
       " [w_PARSE-atr -2])</code>"
      ],
      "text/plain": [
       "(model\n",
       " [w_*I -5]\n",
       " [w_PARSE-rtr -4]\n",
       " [w_HARMONY -3]\n",
       " [w_PARSE-atr -2])"
      ]
     },
     "execution_count": 252,
     "metadata": {},
     "output_type": "execute_result"
    }
   ],
   "source": [
    "(define sol1 (solve (begin (assert (non-positive (map second weights-symbolic)))\n",
    "                           (assert (sufficient? weights-symbolic correct-mappings/HG)))))\n",
    "sol1"
   ]
  },
  {
   "cell_type": "markdown",
   "metadata": {},
   "source": [
    "Let's store this mapping for reference:"
   ]
  },
  {
   "cell_type": "code",
   "execution_count": 253,
   "metadata": {
    "ExecuteTime": {
     "end_time": "2018-12-21T22:54:32.883443Z",
     "start_time": "2018-12-21T22:54:31.406Z"
    }
   },
   "outputs": [
    {
     "data": {
      "text/html": [
       "<code>'((*I -5) (PARSE-rtr -4) (HARMONY -3) (PARSE-atr -2))</code>"
      ],
      "text/plain": [
       "'((*I -5) (PARSE-rtr -4) (HARMONY -3) (PARSE-atr -2))"
      ]
     },
     "execution_count": 253,
     "metadata": {},
     "output_type": "execute_result"
    }
   ],
   "source": [
    "(define solmap1 (map list\n",
    "                     con-names\n",
    "                     (map (λ (weight-key) (evaluate (get weight-key weights-symbolic)\n",
    "                                                    sol1))\n",
    "                          con-names)))\n",
    "solmap1"
   ]
  },
  {
   "cell_type": "markdown",
   "metadata": {},
   "source": [
    "It is standard practice to want a set of weights that not only are sufficient to produce attested data, but also for those weights to minimize the sum of the (absolute value of the) weights. Let's clear the assertion store of the solver and start again, but this time adding in a constraint to minimize the sum of weights:"
   ]
  },
  {
   "cell_type": "code",
   "execution_count": 301,
   "metadata": {
    "ExecuteTime": {
     "end_time": "2018-12-22T03:47:03.143997Z",
     "start_time": "2018-12-22T03:47:03.128Z"
    }
   },
   "outputs": [],
   "source": [
    "(define sum-of-weights (apply + (map (compose abs second) weights-symbolic)))"
   ]
  },
  {
   "cell_type": "code",
   "execution_count": 300,
   "metadata": {
    "ExecuteTime": {
     "end_time": "2018-12-22T03:46:58.782314Z",
     "start_time": "2018-12-22T03:46:58.767Z"
    }
   },
   "outputs": [
    {
     "data": {
      "text/html": [
       "<code>14</code>"
      ],
      "text/plain": [
       "14"
      ]
     },
     "execution_count": 300,
     "metadata": {},
     "output_type": "execute_result"
    }
   ],
   "source": [
    "(apply + (map (compose abs second) solmap1))"
   ]
  },
  {
   "cell_type": "code",
   "execution_count": 256,
   "metadata": {
    "ExecuteTime": {
     "end_time": "2018-12-21T22:54:32.891142Z",
     "start_time": "2018-12-21T22:54:31.456Z"
    }
   },
   "outputs": [
    {
     "data": {
      "text/html": [
       "<code>'()</code>"
      ],
      "text/plain": [
       "'()"
      ]
     },
     "execution_count": 256,
     "metadata": {},
     "output_type": "execute_result"
    }
   ],
   "source": [
    "(asserts)"
   ]
  },
  {
   "cell_type": "code",
   "execution_count": 257,
   "metadata": {
    "ExecuteTime": {
     "end_time": "2018-12-21T22:54:32.893165Z",
     "start_time": "2018-12-21T22:54:31.472Z"
    }
   },
   "outputs": [],
   "source": [
    "(clear-asserts!)"
   ]
  },
  {
   "cell_type": "code",
   "execution_count": 258,
   "metadata": {
    "ExecuteTime": {
     "end_time": "2018-12-21T22:54:32.895171Z",
     "start_time": "2018-12-21T22:54:31.488Z"
    }
   },
   "outputs": [
    {
     "data": {
      "text/html": [
       "<code>(list (list '*I w_*I) (list 'PARSE-rtr w_PARSE-rtr) (list 'HARMONY w_HARMONY) (list 'PARSE-atr w_PARSE-atr))</code>"
      ],
      "text/plain": [
       "(list (list '*I w_*I) (list 'PARSE-rtr w_PARSE-rtr) (list 'HARMONY w_HARMONY) (list 'PARSE-atr w_PARSE-atr))"
      ]
     },
     "execution_count": 258,
     "metadata": {},
     "output_type": "execute_result"
    }
   ],
   "source": [
    "weights-symbolic"
   ]
  },
  {
   "cell_type": "code",
   "execution_count": 259,
   "metadata": {
    "ExecuteTime": {
     "end_time": "2018-12-21T22:54:32.898814Z",
     "start_time": "2018-12-21T22:54:31.504Z"
    }
   },
   "outputs": [
    {
     "data": {
      "text/html": [
       "<code>(+ w_*I w_PARSE-rtr w_HARMONY w_PARSE-atr)</code>"
      ],
      "text/plain": [
       "(+ w_*I w_PARSE-rtr w_HARMONY w_PARSE-atr)"
      ]
     },
     "execution_count": 259,
     "metadata": {},
     "output_type": "execute_result"
    }
   ],
   "source": [
    "(define sum-of-weights (apply + (map second weights-symbolic)))\n",
    "sum-of-weights"
   ]
  },
  {
   "cell_type": "code",
   "execution_count": 260,
   "metadata": {
    "ExecuteTime": {
     "end_time": "2018-12-21T22:54:33.291281Z",
     "start_time": "2018-12-21T22:54:31.522Z"
    }
   },
   "outputs": [
    {
     "data": {
      "text/html": [
       "<code>(model\n",
       " [w_*I -6]\n",
       " [w_PARSE-rtr -3]\n",
       " [w_HARMONY -2]\n",
       " [w_PARSE-atr -1])</code>"
      ],
      "text/plain": [
       "(model\n",
       " [w_*I -6]\n",
       " [w_PARSE-rtr -3]\n",
       " [w_HARMONY -2]\n",
       " [w_PARSE-atr -1])"
      ]
     },
     "execution_count": 260,
     "metadata": {},
     "output_type": "execute_result"
    }
   ],
   "source": [
    "(define sol2 (optimize #:minimize (list sum-of-weights)\n",
    "                       #:guarantee (begin (assert (non-positive (map second weights-symbolic)))\n",
    "                                          (assert (sufficient? weights-symbolic correct-mappings)))))\n",
    "sol2"
   ]
  },
  {
   "cell_type": "code",
   "execution_count": 261,
   "metadata": {
    "ExecuteTime": {
     "end_time": "2018-12-21T22:54:33.295072Z",
     "start_time": "2018-12-21T22:54:31.550Z"
    }
   },
   "outputs": [
    {
     "data": {
      "text/html": [
       "<code>'((*I -6) (PARSE-rtr -3) (HARMONY -2) (PARSE-atr -1))</code>"
      ],
      "text/plain": [
       "'((*I -6) (PARSE-rtr -3) (HARMONY -2) (PARSE-atr -1))"
      ]
     },
     "execution_count": 261,
     "metadata": {},
     "output_type": "execute_result"
    }
   ],
   "source": [
    "(define solmap2 (map list\n",
    "                     con-names\n",
    "                     (map (λ (weight-key) (evaluate (get weight-key weights-symbolic)\n",
    "                                                    sol2))\n",
    "                          con-names)))\n",
    "solmap2"
   ]
  },
  {
   "cell_type": "code",
   "execution_count": 262,
   "metadata": {
    "ExecuteTime": {
     "end_time": "2018-12-21T22:54:33.297154Z",
     "start_time": "2018-12-21T22:54:31.577Z"
    }
   },
   "outputs": [
    {
     "data": {
      "text/html": [
       "<code>-12</code>"
      ],
      "text/plain": [
       "-12"
      ]
     },
     "execution_count": 262,
     "metadata": {},
     "output_type": "execute_result"
    }
   ],
   "source": [
    "(apply + (map second solmap2))"
   ]
  },
  {
   "cell_type": "code",
   "execution_count": 263,
   "metadata": {
    "ExecuteTime": {
     "end_time": "2018-12-21T22:54:33.298752Z",
     "start_time": "2018-12-21T22:54:31.603Z"
    }
   },
   "outputs": [
    {
     "data": {
      "text/html": [
       "<code>'()</code>"
      ],
      "text/plain": [
       "'()"
      ]
     },
     "execution_count": 263,
     "metadata": {},
     "output_type": "execute_result"
    }
   ],
   "source": [
    "(asserts)"
   ]
  },
  {
   "cell_type": "code",
   "execution_count": 264,
   "metadata": {
    "ExecuteTime": {
     "end_time": "2018-12-21T22:54:33.300380Z",
     "start_time": "2018-12-21T22:54:31.630Z"
    }
   },
   "outputs": [],
   "source": [
    "(clear-asserts!)"
   ]
  },
  {
   "cell_type": "code",
   "execution_count": 265,
   "metadata": {
    "ExecuteTime": {
     "end_time": "2018-12-21T22:54:33.649185Z",
     "start_time": "2018-12-21T22:54:31.653Z"
    }
   },
   "outputs": [
    {
     "data": {
      "text/html": [
       "<code>(model\n",
       " [w_*I -6]\n",
       " [w_PARSE-rtr -3]\n",
       " [w_HARMONY -2]\n",
       " [w_PARSE-atr -1])</code>"
      ],
      "text/plain": [
       "(model\n",
       " [w_*I -6]\n",
       " [w_PARSE-rtr -3]\n",
       " [w_HARMONY -2]\n",
       " [w_PARSE-atr -1])"
      ]
     },
     "execution_count": 265,
     "metadata": {},
     "output_type": "execute_result"
    }
   ],
   "source": [
    "(define sol3 (optimize #:minimize (list (apply + (map (compose abs second) weights-symbolic)))\n",
    "                       #:guarantee (begin (assert (non-positive (map second weights-symbolic)))\n",
    "                                          (assert (sufficient? weights-symbolic correct-mappings)))))\n",
    "sol3"
   ]
  },
  {
   "cell_type": "code",
   "execution_count": 266,
   "metadata": {
    "ExecuteTime": {
     "end_time": "2018-12-21T22:54:33.652753Z",
     "start_time": "2018-12-21T22:54:31.669Z"
    }
   },
   "outputs": [
    {
     "data": {
      "text/html": [
       "<code>'((*I -6) (PARSE-rtr -3) (HARMONY -2) (PARSE-atr -1))</code>"
      ],
      "text/plain": [
       "'((*I -6) (PARSE-rtr -3) (HARMONY -2) (PARSE-atr -1))"
      ]
     },
     "execution_count": 266,
     "metadata": {},
     "output_type": "execute_result"
    }
   ],
   "source": [
    "(define solmap3 (map list\n",
    "                     con-names\n",
    "                     (map (λ (weight-key) (evaluate (get weight-key weights-symbolic)\n",
    "                                                    sol3))\n",
    "                          con-names)))\n",
    "solmap3"
   ]
  },
  {
   "cell_type": "markdown",
   "metadata": {},
   "source": [
    "## Classic OT Rankings"
   ]
  },
  {
   "cell_type": "markdown",
   "metadata": {},
   "source": [
    "The code below defines four integers representing the position (rank) of each constraint in a total ordering:"
   ]
  },
  {
   "cell_type": "code",
   "execution_count": 267,
   "metadata": {
    "ExecuteTime": {
     "end_time": "2018-12-21T22:54:33.654244Z",
     "start_time": "2018-12-21T22:54:31.688Z"
    }
   },
   "outputs": [
    {
     "data": {
      "text/html": [
       "<code>'(*I PARSE-rtr HARMONY PARSE-atr)</code>"
      ],
      "text/plain": [
       "'(*I PARSE-rtr HARMONY PARSE-atr)"
      ]
     },
     "execution_count": 267,
     "metadata": {},
     "output_type": "execute_result"
    }
   ],
   "source": [
    "con-names"
   ]
  },
  {
   "cell_type": "code",
   "execution_count": 268,
   "metadata": {
    "ExecuteTime": {
     "end_time": "2018-12-21T22:54:33.655338Z",
     "start_time": "2018-12-21T22:54:31.705Z"
    }
   },
   "outputs": [
    {
     "data": {
      "text/html": [
       "<code>'((*I #&lt;procedure:*I&gt;) (PARSE-rtr #&lt;procedure&gt;) (HARMONY #&lt;procedure:HARMONY&gt;) (PARSE-atr #&lt;procedure&gt;))</code>"
      ],
      "text/plain": [
       "'((*I #<procedure:*I>) (PARSE-rtr #<procedure>) (HARMONY #<procedure:HARMONY>) (PARSE-atr #<procedure>))"
      ]
     },
     "execution_count": 268,
     "metadata": {},
     "output_type": "execute_result"
    }
   ],
   "source": [
    "con"
   ]
  },
  {
   "cell_type": "code",
   "execution_count": 269,
   "metadata": {
    "ExecuteTime": {
     "end_time": "2018-12-21T22:54:33.660414Z",
     "start_time": "2018-12-21T22:54:31.721Z"
    }
   },
   "outputs": [
    {
     "data": {
      "text/html": [
       "<code>(list (list '*I r_*I) (list 'PARSE-rtr r_PARSE-rtr) (list 'HARMONY r_HARMONY) (list 'PARSE-atr r_PARSE-atr))</code>"
      ],
      "text/plain": [
       "(list (list '*I r_*I) (list 'PARSE-rtr r_PARSE-rtr) (list 'HARMONY r_HARMONY) (list 'PARSE-atr r_PARSE-atr))"
      ]
     },
     "execution_count": 269,
     "metadata": {},
     "output_type": "execute_result"
    }
   ],
   "source": [
    "(define-symbolic r_*I r_PARSE-rtr r_HARMONY r_PARSE-atr integer?)\n",
    "(define ranking-symbolic (map list\n",
    "                              con-names\n",
    "                              (list r_*I r_PARSE-rtr r_HARMONY r_PARSE-atr)))\n",
    "ranking-symbolic"
   ]
  },
  {
   "cell_type": "markdown",
   "metadata": {},
   "source": [
    "For a list of these four integers to define a ranking, we want \n",
    " - each integer to be a number between 0 and one less than the number of constraints.\n",
    " - each integer to be unique with respect to the other integers."
   ]
  },
  {
   "cell_type": "code",
   "execution_count": 270,
   "metadata": {
    "ExecuteTime": {
     "end_time": "2018-12-21T22:54:33.664812Z",
     "start_time": "2018-12-21T22:54:31.750Z"
    }
   },
   "outputs": [],
   "source": [
    "(define (within-range rankings)\n",
    "  (apply && (map (λ (r) (if (member r (range 0 (+ 0 (length rankings))))\n",
    "                            #t\n",
    "                            #f))\n",
    "                 rankings)))"
   ]
  },
  {
   "cell_type": "code",
   "execution_count": 271,
   "metadata": {
    "ExecuteTime": {
     "end_time": "2018-12-21T22:54:33.667535Z",
     "start_time": "2018-12-21T22:54:31.767Z"
    }
   },
   "outputs": [],
   "source": [
    ";; (define (unique-rankings rankings)\n",
    ";;   (not (check-duplicates rankings))) ;check-duplicates is a function rosette can't reason about?\n",
    "(define (unique-rankings rankings)\n",
    "  (equal? rankings (remove-duplicates rankings)))"
   ]
  },
  {
   "cell_type": "code",
   "execution_count": 272,
   "metadata": {
    "ExecuteTime": {
     "end_time": "2018-12-21T22:54:33.669970Z",
     "start_time": "2018-12-21T22:54:31.783Z"
    }
   },
   "outputs": [],
   "source": [
    ";ranking is a list of integers\n",
    "(define (make-constraint-ordering constraints ranking)\n",
    "  (map (λ (r) (list-ref constraints r))\n",
    "       ranking))"
   ]
  },
  {
   "cell_type": "code",
   "execution_count": 273,
   "metadata": {
    "ExecuteTime": {
     "end_time": "2018-12-21T22:54:33.677494Z",
     "start_time": "2018-12-21T22:54:31.800Z"
    }
   },
   "outputs": [
    {
     "data": {
      "text/html": [
       "<code>'()</code>"
      ],
      "text/plain": [
       "'()"
      ]
     },
     "execution_count": 273,
     "metadata": {},
     "output_type": "execute_result"
    }
   ],
   "source": [
    "(asserts)"
   ]
  },
  {
   "cell_type": "code",
   "execution_count": 274,
   "metadata": {
    "ExecuteTime": {
     "end_time": "2018-12-21T22:54:33.678940Z",
     "start_time": "2018-12-21T22:54:31.816Z"
    }
   },
   "outputs": [],
   "source": [
    "(clear-asserts!)"
   ]
  },
  {
   "cell_type": "code",
   "execution_count": 275,
   "metadata": {
    "ExecuteTime": {
     "end_time": "2018-12-21T22:54:37.338644Z",
     "start_time": "2018-12-21T22:54:31.832Z"
    }
   },
   "outputs": [
    {
     "data": {
      "text/html": [
       "<code>(model\n",
       " [r_*I 0]\n",
       " [r_PARSE-rtr 1]\n",
       " [r_HARMONY 2]\n",
       " [r_PARSE-atr 3])</code>"
      ],
      "text/plain": [
       "(model\n",
       " [r_*I 0]\n",
       " [r_PARSE-rtr 1]\n",
       " [r_HARMONY 2]\n",
       " [r_PARSE-atr 3])"
      ]
     },
     "execution_count": 275,
     "metadata": {},
     "output_type": "execute_result"
    }
   ],
   "source": [
    "(define sol4 (solve (begin (assert (within-range (map second ranking-symbolic)))\n",
    "                           (assert (unique-rankings (map second ranking-symbolic)))\n",
    "                           (assert (sufficient? (make-constraint-ordering (map second con) \n",
    "                                                                          (map second ranking-symbolic))\n",
    "                                                correct-mappings/OT\n",
    "                                                eval/OT))\n",
    "                           )))\n",
    "sol4"
   ]
  },
  {
   "cell_type": "code",
   "execution_count": 276,
   "metadata": {
    "ExecuteTime": {
     "end_time": "2018-12-21T22:54:37.340518Z",
     "start_time": "2018-12-21T22:54:31.854Z"
    }
   },
   "outputs": [
    {
     "data": {
      "text/html": [
       "<code>(list (list '*I r_*I) (list 'PARSE-rtr r_PARSE-rtr) (list 'HARMONY r_HARMONY) (list 'PARSE-atr r_PARSE-atr))</code>"
      ],
      "text/plain": [
       "(list (list '*I r_*I) (list 'PARSE-rtr r_PARSE-rtr) (list 'HARMONY r_HARMONY) (list 'PARSE-atr r_PARSE-atr))"
      ]
     },
     "execution_count": 276,
     "metadata": {},
     "output_type": "execute_result"
    }
   ],
   "source": [
    "ranking-symbolic"
   ]
  },
  {
   "cell_type": "code",
   "execution_count": 278,
   "metadata": {
    "ExecuteTime": {
     "end_time": "2018-12-21T22:54:37.347211Z",
     "start_time": "2018-12-21T22:54:31.911Z"
    }
   },
   "outputs": [
    {
     "data": {
      "text/html": [
       "<code>'((*I #&lt;procedure:*I&gt;) (PARSE-rtr #&lt;procedure&gt;) (HARMONY #&lt;procedure:HARMONY&gt;) (PARSE-atr #&lt;procedure&gt;))</code>"
      ],
      "text/plain": [
       "'((*I #<procedure:*I>) (PARSE-rtr #<procedure>) (HARMONY #<procedure:HARMONY>) (PARSE-atr #<procedure>))"
      ]
     },
     "execution_count": 278,
     "metadata": {},
     "output_type": "execute_result"
    }
   ],
   "source": [
    "(define solmap4 (map list\n",
    "                     con-names\n",
    "                     (map (λ (ranking-key) (evaluate (get ranking-key ranking-symbolic)\n",
    "                                                     sol4))\n",
    "                          con-names)))\n",
    "(define sol4-ordering (make-constraint-ordering con (map second solmap4)))\n",
    "sol4-ordering"
   ]
  },
  {
   "cell_type": "markdown",
   "metadata": {},
   "source": [
    "Are there any other orderings that will suffice to produce the data?"
   ]
  },
  {
   "cell_type": "code",
   "execution_count": 279,
   "metadata": {
    "ExecuteTime": {
     "end_time": "2018-12-21T22:54:37.348813Z",
     "start_time": "2018-12-21T22:54:31.943Z"
    }
   },
   "outputs": [],
   "source": [
    "(define solutions-so-far (list solmap4))"
   ]
  },
  {
   "cell_type": "code",
   "execution_count": 280,
   "metadata": {
    "ExecuteTime": {
     "end_time": "2018-12-21T22:54:37.351305Z",
     "start_time": "2018-12-21T22:54:31.971Z"
    }
   },
   "outputs": [],
   "source": [
    "(define (is-existing-solution? ranking-map existing-solutions)\n",
    "  (apply || (map (λ (existing-sol) (equal-assoc-lst? ranking-map existing-sol))\n",
    "                 existing-solutions)))"
   ]
  },
  {
   "cell_type": "code",
   "execution_count": 281,
   "metadata": {
    "ExecuteTime": {
     "end_time": "2018-12-21T22:54:37.363805Z",
     "start_time": "2018-12-21T22:54:31.993Z"
    }
   },
   "outputs": [
    {
     "data": {
      "text/html": [
       "<code>#t</code>"
      ],
      "text/plain": [
       "#t"
      ]
     },
     "execution_count": 281,
     "metadata": {},
     "output_type": "execute_result"
    }
   ],
   "source": [
    "(is-existing-solution? solmap4 solutions-so-far)"
   ]
  },
  {
   "cell_type": "code",
   "execution_count": 282,
   "metadata": {
    "ExecuteTime": {
     "end_time": "2018-12-21T22:54:37.366088Z",
     "start_time": "2018-12-21T22:54:32.010Z"
    }
   },
   "outputs": [
    {
     "data": {
      "text/html": [
       "<code>#f</code>"
      ],
      "text/plain": [
       "#f"
      ]
     },
     "execution_count": 282,
     "metadata": {},
     "output_type": "execute_result"
    }
   ],
   "source": [
    "(is-existing-solution? '((*I 3) (PARSE-rtr 2) (HARMONY 1) (PARSE-atr 0)) solutions-so-far)"
   ]
  },
  {
   "cell_type": "code",
   "execution_count": 283,
   "metadata": {
    "ExecuteTime": {
     "end_time": "2018-12-21T22:54:37.368518Z",
     "start_time": "2018-12-21T22:54:32.027Z"
    }
   },
   "outputs": [
    {
     "data": {
      "text/html": [
       "<code>#f</code>"
      ],
      "text/plain": [
       "#f"
      ]
     },
     "execution_count": 283,
     "metadata": {},
     "output_type": "execute_result"
    }
   ],
   "source": [
    "(is-existing-solution? '((PARSE-rtr 2) (*I 3) (PARSE-atr 0) (HARMONY 1)) solutions-so-far)"
   ]
  },
  {
   "cell_type": "code",
   "execution_count": 284,
   "metadata": {
    "ExecuteTime": {
     "end_time": "2018-12-21T22:54:37.370723Z",
     "start_time": "2018-12-21T22:54:32.043Z"
    }
   },
   "outputs": [
    {
     "data": {
      "text/html": [
       "<code>#t</code>"
      ],
      "text/plain": [
       "#t"
      ]
     },
     "execution_count": 284,
     "metadata": {},
     "output_type": "execute_result"
    }
   ],
   "source": [
    "(is-existing-solution? '((PARSE-rtr 1) (*I 0) (PARSE-atr 3) (HARMONY 2)) solutions-so-far)"
   ]
  },
  {
   "cell_type": "code",
   "execution_count": 285,
   "metadata": {
    "ExecuteTime": {
     "end_time": "2018-12-21T22:54:37.372530Z",
     "start_time": "2018-12-21T22:54:32.060Z"
    }
   },
   "outputs": [
    {
     "data": {
      "text/html": [
       "<code>'()</code>"
      ],
      "text/plain": [
       "'()"
      ]
     },
     "execution_count": 285,
     "metadata": {},
     "output_type": "execute_result"
    }
   ],
   "source": [
    "(asserts)"
   ]
  },
  {
   "cell_type": "code",
   "execution_count": 286,
   "metadata": {
    "ExecuteTime": {
     "end_time": "2018-12-21T22:54:37.377722Z",
     "start_time": "2018-12-21T22:54:32.076Z"
    }
   },
   "outputs": [],
   "source": [
    "(clear-asserts!)"
   ]
  },
  {
   "cell_type": "code",
   "execution_count": 287,
   "metadata": {
    "ExecuteTime": {
     "end_time": "2018-12-21T22:54:40.830478Z",
     "start_time": "2018-12-21T22:54:32.093Z"
    }
   },
   "outputs": [
    {
     "data": {
      "text/html": [
       "<code>(unsat)</code>"
      ],
      "text/plain": [
       "(unsat)"
      ]
     },
     "execution_count": 287,
     "metadata": {},
     "output_type": "execute_result"
    }
   ],
   "source": [
    "(define sol5 (solve (begin (assert (within-range (map second ranking-symbolic)))\n",
    "                           (assert (unique-rankings (map second ranking-symbolic)))\n",
    "                           (assert (sufficient? (make-constraint-ordering (map second con) \n",
    "                                                                          (map second ranking-symbolic))\n",
    "                                                correct-mappings/OT\n",
    "                                                eval/OT))\n",
    "                           (assert (not (is-existing-solution? ranking-symbolic solutions-so-far)))\n",
    "                           )))\n",
    "sol5"
   ]
  }
 ],
 "metadata": {
  "kernelspec": {
   "display_name": "#lang rosette",
   "language": "#lang rosette",
   "name": "rosette"
  },
  "language_info": {
   "codemirror_mode": "scheme",
   "file_extension": ".rkt",
   "mimetype": "text/x-racket",
   "name": "Racket",
   "pygments_lexer": "racket",
   "version": "7.1"
  },
  "toc": {
   "colors": {
    "hover_highlight": "#DAA520",
    "running_highlight": "#FF0000",
    "selected_highlight": "#FFD700"
   },
   "moveMenuLeft": true,
   "nav_menu": {
    "height": "99px",
    "width": "252px"
   },
   "navigate_menu": true,
   "number_sections": true,
   "sideBar": false,
   "threshold": 4,
   "toc_cell": true,
   "toc_section_display": "block",
   "toc_window_display": false,
   "widenNotebook": false
  }
 },
 "nbformat": 4,
 "nbformat_minor": 2
}
